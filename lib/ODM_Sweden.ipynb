{
 "cells": [
  {
   "cell_type": "markdown",
   "metadata": {},
   "source": [
    "# Flows Generation of Sweden"
   ]
  },
  {
   "cell_type": "code",
   "execution_count": null,
   "metadata": {},
   "outputs": [],
   "source": [
    "import sweden\n",
    "\n",
    "import workers\n",
    "import v_ij"
   ]
  },
  {
   "cell_type": "markdown",
   "metadata": {},
   "source": [
    "1. Load spatial zones and ground-truth data for Sweden"
   ]
  },
  {
   "cell_type": "code",
   "execution_count": null,
   "metadata": {},
   "outputs": [],
   "source": [
    "data_sweden = sweden.GroundTruthLoader()\n",
    "data_sweden.load_zones()\n",
    "data_sweden.create_boundary()\n",
    "data_sweden.load_population()\n",
    "distances = workers.zone_distances(data_sweden.zones)\n",
    "df_d = distances.unstack(level=1)"
   ]
  },
  {
   "cell_type": "markdown",
   "metadata": {},
   "source": [
    "2. Parameter Setting"
   ]
  },
  {
   "cell_type": "code",
   "execution_count": null,
   "metadata": {},
   "outputs": [],
   "source": [
    "# parameter = ln(f_max/f_min), f_min = 1/T, f_max = 1 T = 7\n",
    "parameter = 1.9459\n",
    "area = 1 # 1 km * km\n",
    "radius = 0.5 #0.5 km"
   ]
  },
  {
   "cell_type": "markdown",
   "metadata": {},
   "source": [
    "3. Construct ODM"
   ]
  },
  {
   "cell_type": "code",
   "execution_count": null,
   "metadata": {},
   "outputs": [],
   "source": [
    "population_information = dict(zip(data_sweden.population['zone'], data_sweden.population['pop']))\n",
    "ODM = dict() # {zone {zone : distance}}\n",
    "\n",
    "for i in data_sweden.population['zone']:\n",
    "    print(i)\n",
    "    odm_row = dict()\n",
    "    for j in data_sweden.population['zone']:\n",
    "      if i != j:\n",
    "      # filter out the error divide by zero\n",
    "        odm_row[j] = v_ij.average_daily_trips(population_information[j], area, radius, df_d[i][j], parameter)\n",
    "      if i == j:\n",
    "        odm_row[j] = 0\n",
    "    ODM[i] = odm_row"
   ]
  },
  {
   "cell_type": "markdown",
   "metadata": {},
   "source": [
    "4. Store the results"
   ]
  },
  {
   "cell_type": "code",
   "execution_count": null,
   "metadata": {},
   "outputs": [],
   "source": [
    "result_file = './odm.txt'\n",
    "\n",
    "with open(result_file, 'w') as f:\n",
    "    for i in data_sweden.population['zone']:\n",
    "        for j in data_sweden.population['zone']:\n",
    "            f.write(str(ODM[i][j]))\n",
    "            f.write('\\t')\n",
    "        f.write('\\n')"
   ]
  }
 ],
 "metadata": {
  "language_info": {
   "name": "python"
  },
  "orig_nbformat": 4
 },
 "nbformat": 4,
 "nbformat_minor": 2
}
