{
 "cells": [
  {
   "cell_type": "code",
   "execution_count": 4,
   "metadata": {},
   "outputs": [],
   "source": [
    "import sys\n",
    "sys.path.append('../lib/')\n",
    "\n",
    "import pandas as pd\n",
    "import numpy as np\n",
    "import geopandas as gpd\n",
    "\n",
    "import workers\n",
    "import v_ij\n",
    "import math\n",
    "\n",
    "from shapely.geometry import Point\n",
    "from copy import deepcopy"
   ]
  },
  {
   "cell_type": "markdown",
   "metadata": {},
   "source": [
    "### load grids, set area and average radius"
   ]
  },
  {
   "cell_type": "code",
   "execution_count": 5,
   "metadata": {},
   "outputs": [],
   "source": [
    "grids = gpd.read_file('../results/grids_vgr_10km_density_deso.shp')\n",
    "\n",
    "results_output = \"../results/model_output_5km.txt\"\n",
    "results_benchmark = '../results/benchmark_5km.txt'\n",
    "\n",
    "area = 25 # km\n",
    "\n",
    "# A=pi*r_average^2\n",
    "r_average = math.sqrt(area/math.pi) # km"
   ]
  },
  {
   "cell_type": "code",
   "execution_count": 6,
   "metadata": {},
   "outputs": [
    {
     "name": "stdout",
     "output_type": "stream",
     "text": [
      "          deso    density  zone  \\\n",
      "0    1435A0030   6.823680     1   \n",
      "1    1435A0030   6.823680     2   \n",
      "2    1486A0010   7.601277     3   \n",
      "3    1486A0030   6.258427     4   \n",
      "4    1421A0020   6.512613     5   \n",
      "..         ...        ...   ...   \n",
      "299  1473A0030   7.476964   300   \n",
      "300  1447A0010   4.886978   301   \n",
      "301  1446A0010   3.564339   302   \n",
      "302  1446C1010  40.859174   303   \n",
      "303  1446A0020   2.104448   304   \n",
      "\n",
      "                                              geometry  \n",
      "0    POLYGON ((270000.000 6490000.000, 270000.000 6...  \n",
      "1    POLYGON ((270000.000 6510000.000, 270000.000 6...  \n",
      "2    POLYGON ((270000.000 6530000.000, 270000.000 6...  \n",
      "3    POLYGON ((270000.000 6540000.000, 270000.000 6...  \n",
      "4    POLYGON ((280000.000 6440000.000, 280000.000 6...  \n",
      "..                                                 ...  \n",
      "299  POLYGON ((460000.000 6510000.000, 460000.000 6...  \n",
      "300  POLYGON ((460000.000 6520000.000, 460000.000 6...  \n",
      "301  POLYGON ((470000.000 6470000.000, 470000.000 6...  \n",
      "302  POLYGON ((470000.000 6480000.000, 470000.000 6...  \n",
      "303  POLYGON ((470000.000 6490000.000, 470000.000 6...  \n",
      "\n",
      "[304 rows x 4 columns]\n"
     ]
    }
   ],
   "source": [
    "print(grids)"
   ]
  },
  {
   "cell_type": "markdown",
   "metadata": {},
   "source": [
    "### Get distance between grids"
   ]
  },
  {
   "cell_type": "code",
   "execution_count": 7,
   "metadata": {},
   "outputs": [
    {
     "name": "stdout",
     "output_type": "stream",
     "text": [
      "Calculating distances between zones...\n"
     ]
    }
   ],
   "source": [
    "# This gives a stacked version\n",
    "distances = workers.zone_distances(grids)\n",
    "# This gives a matrix-style dataframe\n",
    "df_d = distances.unstack(level=1)"
   ]
  },
  {
   "cell_type": "markdown",
   "metadata": {},
   "source": [
    "### Get population density and geometry"
   ]
  },
  {
   "cell_type": "code",
   "execution_count": 8,
   "metadata": {},
   "outputs": [],
   "source": [
    "grid_name = list(grids.zone)\n",
    "population_density = dict(zip(grids.zone, grids.density))\n",
    "geometry = dict(zip(grids.zone, grids.geometry))"
   ]
  },
  {
   "cell_type": "markdown",
   "metadata": {},
   "source": [
    "### Get $v^{tot}_{ij}$ between grids"
   ]
  },
  {
   "cell_type": "code",
   "execution_count": 93,
   "metadata": {},
   "outputs": [],
   "source": [
    "# parameter = ln(f_max/f_min), f_min = 1/T, f_max = 1 T = 1000\n",
    "T = 1000\n",
    "f_max = 1\n",
    "f_min = 1/T\n",
    "parameter = math.log(f_max / f_min)\n",
    "\n",
    "#ODM = {orig: {desti: v_{ori, desti}}}\n",
    "# orig is the grid_name\n",
    "# desti is the grid_name \n",
    "\n",
    "\n",
    "ODM_tot = dict()\n",
    "for i in range(0, len(grid_name)):\n",
    "    element = dict()\n",
    "    for j in range(i + 1, len(grid_name)):\n",
    "        number_of_trips = v_ij.average_daily_trips(population_density[grid_name[j]], area, r_average, df_d[grid_name[i]][grid_name[j]], parameter) + v_ij.average_daily_trips(population_density[grid_name[i]], area, r_average, df_d[grid_name[i]][grid_name[j]], parameter)\n",
    "        element[grid_name[j]] = number_of_trips\n",
    "    ODM_tot[grid_name[i]] = element"
   ]
  },
  {
   "cell_type": "markdown",
   "metadata": {},
   "source": [
    "### Load Sweden VG zone data"
   ]
  },
  {
   "cell_type": "code",
   "execution_count": 9,
   "metadata": {},
   "outputs": [],
   "source": [
    "zones = gpd.read_file('../dbs/sweden/zones/DeSO/DeSO_2018_v2.shp')\n",
    "zones.loc[:, 'deso_3'] = zones.loc[:, 'deso'].apply(lambda x: x[:2])\n",
    "zones_subset = zones.loc[zones['deso_3'] == '14', :]\n",
    "zones_subset_info = dict(zip(zones_subset['deso'], zones_subset['geometry']))\n",
    "zone_name = list(zones_subset['deso'])"
   ]
  },
  {
   "cell_type": "markdown",
   "metadata": {},
   "source": [
    "### Aggregated Deso zone level"
   ]
  },
  {
   "cell_type": "code",
   "execution_count": 10,
   "metadata": {},
   "outputs": [
    {
     "name": "stderr",
     "output_type": "stream",
     "text": [
      "D:\\Anaconda\\envs\\geopandas_lab\\lib\\site-packages\\geopandas\\geodataframe.py:1351: SettingWithCopyWarning: \n",
      "A value is trying to be set on a copy of a slice from a DataFrame.\n",
      "Try using .loc[row_indexer,col_indexer] = value instead\n",
      "\n",
      "See the caveats in the documentation: https://pandas.pydata.org/pandas-docs/stable/user_guide/indexing.html#returning-a-view-versus-a-copy\n",
      "  super().__setitem__(key, value)\n"
     ]
    }
   ],
   "source": [
    "zones_subset.loc[:, 'deso_5'] = zones_subset.loc[:, 'deso'].apply(lambda x: x[:5])"
   ]
  },
  {
   "cell_type": "markdown",
   "metadata": {},
   "source": [
    "### Get  $v^{tot}_{ij}$ between aggregated Deso zones in VG"
   ]
  },
  {
   "cell_type": "code",
   "execution_count": 11,
   "metadata": {},
   "outputs": [],
   "source": [
    "cover = []\n",
    "checked = set()\n",
    "for i in range(0, len(zone_name)):\n",
    "    sub_cover = []\n",
    "    for j in range(0, len(grid_name)):\n",
    "        if j in checked:\n",
    "            continue\n",
    "        point_j = Point(geometry[grid_name[j]].centroid.x, geometry[grid_name[j]].centroid.y)\n",
    "        if zones_subset_info[zone_name[i]].contains(point_j) == True:\n",
    "            # grid_j in zone_i\n",
    "            sub_cover.append(grid_name[j])\n",
    "            checked.add(j)   # This grid has been occupied, we do not need to check it again.\n",
    "    cover.append(sub_cover)\n",
    "within = dict(zip(zone_name, cover))"
   ]
  },
  {
   "cell_type": "code",
   "execution_count": 12,
   "metadata": {},
   "outputs": [],
   "source": [
    "bigzone_name = []\n",
    "bigCover = []\n",
    "subCover = []\n",
    "old_name = zone_name[0][0:5]\n",
    "\n",
    "bigzone_name.append(old_name)\n",
    "subCover.extend(within[zone_name[0]])\n",
    "\n",
    "for i in range(1, len(zone_name)):\n",
    "    new_name = zone_name[i][0:5]\n",
    "\n",
    "    if new_name == old_name:\n",
    "        # this two zones belong the same big zone\n",
    "        subCover.extend(within[zone_name[i]])\n",
    "\n",
    "    if new_name != old_name:\n",
    "        # find a new big zone\n",
    "        #store old results\n",
    "        bigCover.append(deepcopy(subCover))\n",
    "        subCover.clear()\n",
    "\n",
    "        #store new resutls\n",
    "        bigzone_name.append(new_name)\n",
    "        subCover.extend(within[zone_name[i]])\n",
    "\n",
    "    old_name = new_name\n",
    "\n",
    "# handle the lastest case\n",
    "bigCover.append(subCover)\n",
    "\n",
    "\n",
    "big_within = dict(zip(bigzone_name, bigCover))"
   ]
  },
  {
   "cell_type": "code",
   "execution_count": 13,
   "metadata": {},
   "outputs": [
    {
     "name": "stdout",
     "output_type": "stream",
     "text": [
      "{'1401A': [103], '1401B': [], '1401C': [82], '1402C': [], '1407A': [], '1407C': [], '1415A': [69], '1415C': [51, 52], '1419A': [36], '1419B': [19], '1419C': [18], '1421A': [20, 5, 37, 21, 38], '1421B': [39], '1421C': [], '1427A': [8], '1427B': [9], '1427C': [], '1430A': [56, 57, 42, 58, 59], '1430C': [41], '1435A': [10, 25, 26, 1, 2, 11, 12, 13, 28, 27, 43, 44, 45], '1435B': [], '1435C': [], '1438A': [60, 61, 62, 77, 78, 79, 80], '1438C': [], '1439A': [73, 75, 76, 93, 94], '1439C': [74], '1440A': [66, 85, 107], '1440B': [], '1440C': [], '1441A': [84, 104, 105], '1441B': [], '1441C': [83], '1442A': [168, 169, 147, 148], '1442C': [], '1443A': [124, 146], '1443B': [], '1443C': [123], '1444A': [151], '1444C': [], '1445A': [149, 170, 150], '1445C': [], '1446A': [296, 298, 302, 299, 304], '1446B': [297], '1446C': [303], '1447A': [301, 259, 281, 282, 292, 293], '1447B': [], '1447C': [291], '1452A': [198, 199, 214, 215, 216, 229, 230], '1452B': [201], '1452C': [], '1460A': [95, 96, 81, 97, 98, 99, 118, 119], '1460B': [117], '1460C': [], '1461A': [133, 134, 154, 155, 114, 115, 116, 135, 156], '1461C': [], '1462A': [86, 87, 108], '1462B': [], '1462C': [], '1463A': [120, 140, 141, 100, 101, 121, 142, 102, 122], '1463B': [], '1463C': [], '1465A': [180, 181, 161, 162, 182, 200, 163, 184], '1465C': [183], '1466A': [188, 205, 206, 189], '1466B': [], '1466C': [], '1470A': [190, 191, 208, 171, 209, 192, 172], '1470B': [], '1470C': [], '1471A': [240, 226, 227, 228, 241, 242], '1471B': [], '1471C': [], '1472A': [286, 287], '1472C': [], '1473A': [277, 288, 278, 279, 289, 290, 300], '1473C': [], '1480A': [31, 32], '1480B': [], '1480C': [46, 47, 33, 65, 48], '1481A': [], '1481C': [63, 64], '1482A': [34, 49, 17, 35, 50, 68], '1482B': [67], '1482C': [], '1484A': [6, 7, 23, 24], '1484B': [], '1484C': [], '1485A': [53, 70, 71, 22, 72, 40, 55], '1485B': [], '1485C': [54], '1486A': [3, 14, 15, 29, 30, 4, 16], '1486C': [], '1487A': [90, 110, 131, 153, 112, 91, 92, 132], '1487B': [113], '1487C': [111], '1488A': [109, 129, 130, 89], '1488B': [88], '1488C': [], '1489A': [125, 106, 127], '1489B': [128], '1489C': [126], '1490A': [164, 143, 144, 165, 202, 186, 145, 166, 167, 187], '1490B': [185], '1490C': [], '1491A': [231, 217, 232, 233, 246, 247, 203, 204, 219, 220, 234], '1491B': [], '1491C': [218], '1492A': [136, 137, 138, 139, 157, 158, 177, 178, 179, 159, 160], '1492C': [], '1493A': [266, 267, 254, 255, 243, 244, 245, 256, 257, 258, 268, 269, 270, 280], '1493C': [], '1494A': [193, 152, 173, 174, 175, 194, 176, 195, 196, 197, 212, 213], '1494B': [], '1494C': [211], '1495A': [224, 239, 210, 225, 252], '1495B': [], '1495C': [], '1496A': [274, 251, 263, 275, 265, 253, 276], '1496B': [], '1496C': [264], '1497A': [283, 284, 285, 294, 295], '1497C': [], '1498A': [260, 271, 272, 249, 261, 262, 273], '1498C': [], '1499A': [235, 236, 248, 207, 221, 222, 223, 237, 250, 238], '1499B': [], '1499C': []}\n"
     ]
    }
   ],
   "source": [
    "print(big_within)"
   ]
  },
  {
   "cell_type": "code",
   "execution_count": null,
   "metadata": {},
   "outputs": [],
   "source": [
    "ODM_big = dict()\n",
    "for i in range(0, len(bigzone_name)):\n",
    "    element = dict()\n",
    "    for j in range(i, len(bigzone_name)):\n",
    "        if i == j:\n",
    "            average_daily_trips = 0\n",
    "            for begin in range(0, len(big_within[bigzone_name[i]])):\n",
    "                for end in range(begin + 1, len(big_within[bigzone_name[i]])):\n",
    "                    average_daily_trips = average_daily_trips + ODM_tot[big_within[bigzone_name[i]][begin]][big_within[bigzone_name[i]][end]]\n",
    "\n",
    "            element[bigzone_name[j]] = 2 * average_daily_trips\n",
    "        if i != j:\n",
    "            average_daily_trips = 0\n",
    "            for begin in range(0, len(big_within[bigzone_name[i]])):\n",
    "                for end in range(0, len(big_within[bigzone_name[j]])):\n",
    "                    average_daily_trips = average_daily_trips + ODM_tot[big_within[bigzone_name[i]][begin]][big_within[bigzone_name[j]][end]]\n",
    "            element[bigzone_name[j]] = average_daily_trips\n",
    "\n",
    "    ODM_big[bigzone_name[i]] = element"
   ]
  },
  {
   "cell_type": "markdown",
   "metadata": {},
   "source": [
    "### From upper triangular matrix to a vector"
   ]
  },
  {
   "cell_type": "code",
   "execution_count": null,
   "metadata": {},
   "outputs": [],
   "source": [
    "model_output = np.zeros(len(bigzone_name)*len(bigzone_name))   # the vector of model_output is stored here\n",
    "for i in range(0, len(bigzone_name)):\n",
    "    for j in range(0, len(bigzone_name)):\n",
    "        if i <= j:\n",
    "            model_output[i + j * len(bigzone_name)] = ODM_big[bigzone_name[i]][bigzone_name[j]]\n",
    "        if i > j:\n",
    "            model_output[i + j * len(bigzone_name)] = ODM_big[bigzone_name[j]][bigzone_name[i]]"
   ]
  },
  {
   "cell_type": "code",
   "execution_count": null,
   "metadata": {},
   "outputs": [],
   "source": [
    "np.savetxt(results_output, model_output)"
   ]
  },
  {
   "cell_type": "markdown",
   "metadata": {},
   "source": [
    "#--------------From here we prepare the groundtruth data----------#"
   ]
  },
  {
   "cell_type": "code",
   "execution_count": null,
   "metadata": {},
   "outputs": [],
   "source": [
    "zones = gpd.read_file('../dbs/sweden/zones/DeSO/DeSO_2018_v2.shp')\n",
    "zones = zones.rename(columns={\"deso\": \"zone\"})[['zone', 'geometry']]\n",
    "\n",
    "\n",
    "trips = pd.read_csv(\"../dbs/sweden/survey/day_trips.csv\")\n",
    "trips = trips.loc[:, [\"sub_id\", 'trip_id', 'trip_main_id', 'distance_main',\n",
    "                              'date', \"origin_main_deso\", \"desti_main_deso\", 'trip_weight']]\n",
    "trips = trips.drop_duplicates(subset=[\"sub_id\", 'trip_id', 'trip_main_id'])\n",
    "trips[\"T\"] = trips[\"date\"].apply(lambda x: pd.to_datetime(x))\n",
    "trips = trips.loc[~trips[\"T\"].apply(lambda x: x.weekday()).isin([5, 6]), :]\n",
    "trips.dropna(axis=0, how='any', inplace=True)\n",
    "\n",
    "odms = trips.groupby(['origin_main_deso', 'desti_main_deso']).sum()['trip_weight']\n",
    "odms = odms.reindex(pd.MultiIndex.from_product([zones.zone, zones.zone], names=['ozone', 'dzone']), fill_value=0)"
   ]
  },
  {
   "cell_type": "code",
   "execution_count": null,
   "metadata": {},
   "outputs": [],
   "source": [
    "ODM = dict()\n",
    "for i in range(0, len(zone_name)):\n",
    "    element = dict()\n",
    "    for j in range(0, len(zone_name)):\n",
    "        element[zone_name[j]] = odms.at[zone_name[i], zone_name[j]]\n",
    "    ODM[zone_name[i]] = element"
   ]
  },
  {
   "cell_type": "code",
   "execution_count": null,
   "metadata": {},
   "outputs": [],
   "source": [
    "bigzone_name = []\n",
    "bigCover = []\n",
    "subCover = []\n",
    "old_name = zone_name[0][0:5]\n",
    "\n",
    "bigzone_name.append(old_name)\n",
    "subCover.append(zone_name[0])\n",
    "\n",
    "for i in range(1, len(zone_name)):\n",
    "    new_name = zone_name[i][0:5]\n",
    "\n",
    "    if new_name == old_name:\n",
    "        # this two zones belong the same big zone\n",
    "        subCover.append(zone_name[i])\n",
    "\n",
    "    if new_name != old_name:\n",
    "        # find a new big zone\n",
    "        #store old results\n",
    "        bigCover.append(deepcopy(subCover))\n",
    "        subCover.clear()\n",
    "\n",
    "        #store new resutls\n",
    "        bigzone_name.append(new_name)\n",
    "        subCover.append(zone_name[i])\n",
    "\n",
    "    old_name = new_name\n",
    "\n",
    "# handle the lastest case\n",
    "bigCover.append(subCover)\n",
    "\n",
    "\n",
    "big_within = dict(zip(bigzone_name, bigCover))"
   ]
  },
  {
   "cell_type": "markdown",
   "metadata": {},
   "source": [
    "### Aggregated groundtruth data"
   ]
  },
  {
   "cell_type": "code",
   "execution_count": null,
   "metadata": {},
   "outputs": [],
   "source": [
    "ODM_truth = dict()\n",
    "for i in range(0, len(bigzone_name)):\n",
    "    element = dict()\n",
    "    for j in range(0, len(bigzone_name)):\n",
    "        average_daily_trips = 0\n",
    "        if i == j:\n",
    "            for begin in range(0, len(big_within[bigzone_name[i]])):\n",
    "                for end in range(0, len(big_within[bigzone_name[i]])):\n",
    "                    average_daily_trips = average_daily_trips + ODM[big_within[bigzone_name[i]][begin]][big_within[bigzone_name[i]][end]]\n",
    "                    \n",
    "        if i != j:\n",
    "            for begin in range(0, len(big_within[bigzone_name[i]])):\n",
    "                for end in range(0, len(big_within[bigzone_name[j]])):\n",
    "                    average_daily_trips = average_daily_trips + ODM[big_within[bigzone_name[i]][begin]][big_within[bigzone_name[j]][end]]\n",
    "        \n",
    "        element[bigzone_name[j]] = average_daily_trips\n",
    "\n",
    "    ODM_truth[bigzone_name[i]] = element"
   ]
  },
  {
   "cell_type": "code",
   "execution_count": null,
   "metadata": {},
   "outputs": [],
   "source": [
    "benchmark = np.zeros(len(bigzone_name)*len(bigzone_name))   # the vector of groundtruth data is stored here\n",
    "for i in range(0, len(bigzone_name)):\n",
    "    for j in range(0, len(bigzone_name)):\n",
    "            benchmark[i + j * len(bigzone_name)] = ODM_truth[bigzone_name[i]][bigzone_name[j]]"
   ]
  },
  {
   "cell_type": "code",
   "execution_count": null,
   "metadata": {},
   "outputs": [],
   "source": [
    "np.savetxt(results_benchmark, benchmark)"
   ]
  }
 ],
 "metadata": {
  "interpreter": {
   "hash": "1f2e54c80dc52ecb462da69c78d850336b81dad0767d9071405d7a4130722d43"
  },
  "kernelspec": {
   "display_name": "Python 3.9.10 ('geolab')",
   "language": "python",
   "name": "python3"
  },
  "language_info": {
   "codemirror_mode": {
    "name": "ipython",
    "version": 3
   },
   "file_extension": ".py",
   "mimetype": "text/x-python",
   "name": "python",
   "nbconvert_exporter": "python",
   "pygments_lexer": "ipython3",
   "version": "3.9.10"
  },
  "orig_nbformat": 4
 },
 "nbformat": 4,
 "nbformat_minor": 2
}
