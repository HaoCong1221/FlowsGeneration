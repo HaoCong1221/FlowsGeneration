{
 "cells": [
  {
   "cell_type": "code",
   "execution_count": 1,
   "metadata": {},
   "outputs": [],
   "source": [
    "import sys\n",
    "sys.path.append('../lib/')\n",
    "\n",
    "import pandas as pd\n",
    "import numpy as np\n",
    "import geopandas as gpd\n",
    "\n",
    "import workers\n",
    "import v_ij\n",
    "import math\n",
    "\n",
    "from shapely.geometry import Point\n",
    "import gc\n",
    "from copy import deepcopy"
   ]
  },
  {
   "cell_type": "markdown",
   "metadata": {},
   "source": [
    "### load 2km * 2km grids"
   ]
  },
  {
   "cell_type": "code",
   "execution_count": 2,
   "metadata": {},
   "outputs": [],
   "source": [
    "grids = gpd.read_file('../results/grids_vgr_2km_density_deso5.shp')\n"
   ]
  },
  {
   "cell_type": "code",
   "execution_count": 3,
   "metadata": {},
   "outputs": [
    {
     "data": {
      "text/html": [
       "<div>\n",
       "<style scoped>\n",
       "    .dataframe tbody tr th:only-of-type {\n",
       "        vertical-align: middle;\n",
       "    }\n",
       "\n",
       "    .dataframe tbody tr th {\n",
       "        vertical-align: top;\n",
       "    }\n",
       "\n",
       "    .dataframe thead th {\n",
       "        text-align: right;\n",
       "    }\n",
       "</style>\n",
       "<table border=\"1\" class=\"dataframe\">\n",
       "  <thead>\n",
       "    <tr style=\"text-align: right;\">\n",
       "      <th></th>\n",
       "      <th>density</th>\n",
       "      <th>zone</th>\n",
       "      <th>deso_5</th>\n",
       "      <th>geometry</th>\n",
       "    </tr>\n",
       "  </thead>\n",
       "  <tbody>\n",
       "    <tr>\n",
       "      <th>0</th>\n",
       "      <td>26.055</td>\n",
       "      <td>1</td>\n",
       "      <td>1401A</td>\n",
       "      <td>POLYGON ((342000.000 6390000.000, 342000.000 6...</td>\n",
       "    </tr>\n",
       "    <tr>\n",
       "      <th>1</th>\n",
       "      <td>26.055</td>\n",
       "      <td>2</td>\n",
       "      <td>1401A</td>\n",
       "      <td>POLYGON ((342000.000 6396000.000, 342000.000 6...</td>\n",
       "    </tr>\n",
       "    <tr>\n",
       "      <th>2</th>\n",
       "      <td>26.055</td>\n",
       "      <td>3</td>\n",
       "      <td>1401A</td>\n",
       "      <td>POLYGON ((344000.000 6390000.000, 344000.000 6...</td>\n",
       "    </tr>\n",
       "    <tr>\n",
       "      <th>3</th>\n",
       "      <td>26.055</td>\n",
       "      <td>4</td>\n",
       "      <td>1401A</td>\n",
       "      <td>POLYGON ((344000.000 6392000.000, 344000.000 6...</td>\n",
       "    </tr>\n",
       "    <tr>\n",
       "      <th>4</th>\n",
       "      <td>26.055</td>\n",
       "      <td>5</td>\n",
       "      <td>1401A</td>\n",
       "      <td>POLYGON ((344000.000 6394000.000, 344000.000 6...</td>\n",
       "    </tr>\n",
       "  </tbody>\n",
       "</table>\n",
       "</div>"
      ],
      "text/plain": [
       "   density  zone deso_5                                           geometry\n",
       "0   26.055     1  1401A  POLYGON ((342000.000 6390000.000, 342000.000 6...\n",
       "1   26.055     2  1401A  POLYGON ((342000.000 6396000.000, 342000.000 6...\n",
       "2   26.055     3  1401A  POLYGON ((344000.000 6390000.000, 344000.000 6...\n",
       "3   26.055     4  1401A  POLYGON ((344000.000 6392000.000, 344000.000 6...\n",
       "4   26.055     5  1401A  POLYGON ((344000.000 6394000.000, 344000.000 6..."
      ]
     },
     "execution_count": 3,
     "metadata": {},
     "output_type": "execute_result"
    }
   ],
   "source": [
    "grids.head()"
   ]
  },
  {
   "cell_type": "markdown",
   "metadata": {},
   "source": [
    "### Get distance between grids"
   ]
  },
  {
   "cell_type": "code",
   "execution_count": 4,
   "metadata": {},
   "outputs": [
    {
     "name": "stdout",
     "output_type": "stream",
     "text": [
      "Calculating distances between zones...\n"
     ]
    }
   ],
   "source": [
    "# This gives a stacked version\n",
    "distances = workers.zone_distances(grids)\n",
    "# This gives a matrix-style dataframe\n",
    "df_d = distances.unstack(level=1)"
   ]
  },
  {
   "cell_type": "markdown",
   "metadata": {},
   "source": [
    "### Get area and average radius"
   ]
  },
  {
   "cell_type": "code",
   "execution_count": 5,
   "metadata": {},
   "outputs": [],
   "source": [
    "area = 4 # km\n",
    "\n",
    "# A=pi*r_average^2\n",
    "\n",
    "r_average = math.sqrt(area/math.pi) # km"
   ]
  },
  {
   "cell_type": "markdown",
   "metadata": {},
   "source": [
    "### Get population density and geometry"
   ]
  },
  {
   "cell_type": "code",
   "execution_count": 6,
   "metadata": {},
   "outputs": [],
   "source": [
    "grid_name = list(grids.zone)\n",
    "population_density = dict(zip(grids.zone, grids.density))\n",
    "geometry = dict(zip(grids.zone, grids.geometry))"
   ]
  },
  {
   "cell_type": "markdown",
   "metadata": {},
   "source": [
    "### Get $v^{tot}_{ij}$ between grids"
   ]
  },
  {
   "cell_type": "code",
   "execution_count": 7,
   "metadata": {},
   "outputs": [],
   "source": [
    "# parameter = ln(f_max/f_min), f_min = 1/T, f_max = 1 T = 1000\n",
    "T = 1000\n",
    "f_max = 1\n",
    "f_min = 1/T\n",
    "parameter = math.log(f_max / f_min)\n",
    "\n",
    "#ODM = {orig: {desti: v_{ori, desti}}}\n",
    "# orig is the grid_name\n",
    "# desti is the grid_name \n",
    "\n",
    "\n",
    "ODM_tot = dict()\n",
    "for i in range(0, len(grid_name)):\n",
    "    element = dict()\n",
    "    for j in range(i + 1, len(grid_name)):\n",
    "        number_of_trips = v_ij.average_daily_trips(population_density[grid_name[j]], area, r_average, df_d[grid_name[i]][grid_name[j]], parameter) + v_ij.average_daily_trips(population_density[grid_name[i]], area, r_average, df_d[grid_name[i]][grid_name[j]], parameter)\n",
    "        element[grid_name[j]] = number_of_trips\n",
    "    ODM_tot[grid_name[i]] = element"
   ]
  },
  {
   "cell_type": "markdown",
   "metadata": {},
   "source": [
    "### Load Sweden VG zone data"
   ]
  },
  {
   "cell_type": "code",
   "execution_count": 8,
   "metadata": {},
   "outputs": [],
   "source": [
    "zones = gpd.read_file('../dbs/sweden/zones/DeSO/DeSO_2018_v2.shp')\n",
    "zones.loc[:, 'deso_3'] = zones.loc[:, 'deso'].apply(lambda x: x[:2])\n",
    "zones_subset = zones.loc[zones['deso_3'] == '14', :]\n",
    "zones_subset_info = dict(zip(zones_subset['deso'], zones_subset['geometry']))\n",
    "zone_name = list(zones_subset['deso'])"
   ]
  },
  {
   "cell_type": "markdown",
   "metadata": {},
   "source": [
    "### Aggregated Deso zone level"
   ]
  },
  {
   "cell_type": "code",
   "execution_count": 9,
   "metadata": {},
   "outputs": [
    {
     "name": "stderr",
     "output_type": "stream",
     "text": [
      "D:\\Anaconda\\envs\\geopandas_lab\\lib\\site-packages\\geopandas\\geodataframe.py:1351: SettingWithCopyWarning: \n",
      "A value is trying to be set on a copy of a slice from a DataFrame.\n",
      "Try using .loc[row_indexer,col_indexer] = value instead\n",
      "\n",
      "See the caveats in the documentation: https://pandas.pydata.org/pandas-docs/stable/user_guide/indexing.html#returning-a-view-versus-a-copy\n",
      "  super().__setitem__(key, value)\n"
     ]
    }
   ],
   "source": [
    "zones_subset.loc[:, 'deso_5'] = zones_subset.loc[:, 'deso'].apply(lambda x: x[:5])"
   ]
  },
  {
   "cell_type": "markdown",
   "metadata": {},
   "source": [
    "### Get  $v^{tot}_{ij}$ between aggregated Deso zones in VG"
   ]
  },
  {
   "cell_type": "code",
   "execution_count": 10,
   "metadata": {},
   "outputs": [],
   "source": [
    "cover = []\n",
    "checked = set()\n",
    "for i in range(0, len(zone_name)):\n",
    "    sub_cover = []\n",
    "    for j in range(0, len(grid_name)):\n",
    "        if j in checked:\n",
    "            continue\n",
    "        point_j = Point(geometry[grid_name[j]].centroid.x, geometry[grid_name[j]].centroid.y)\n",
    "        if zones_subset_info[zone_name[i]].contains(point_j) == True:\n",
    "            # grid_j in zone_i\n",
    "            sub_cover.append(grid_name[j])\n",
    "            checked.add(j)   # This grid has been occupied, we do not need to check it again.\n",
    "    cover.append(sub_cover)\n",
    "within = dict(zip(zone_name, cover))"
   ]
  },
  {
   "cell_type": "code",
   "execution_count": 11,
   "metadata": {},
   "outputs": [],
   "source": [
    "bigzone_name = []\n",
    "bigCover = []\n",
    "subCover = []\n",
    "old_name = zone_name[0][0:5]\n",
    "\n",
    "bigzone_name.append(old_name)\n",
    "subCover.extend(within[zone_name[0]])\n",
    "\n",
    "for i in range(1, len(zone_name)):\n",
    "    new_name = zone_name[i][0:5]\n",
    "\n",
    "    if new_name == old_name:\n",
    "        # this two zones belong the same big zone\n",
    "        subCover.extend(within[zone_name[i]])\n",
    "\n",
    "    if new_name != old_name:\n",
    "        # find a new big zone\n",
    "        #store old results\n",
    "        bigCover.append(deepcopy(subCover))\n",
    "        subCover.clear()\n",
    "\n",
    "        #store new resutls\n",
    "        bigzone_name.append(new_name)\n",
    "        subCover.extend(within[zone_name[i]])\n",
    "\n",
    "    old_name = new_name\n",
    "\n",
    "# handle the lastest case\n",
    "bigCover.append(subCover)\n",
    "\n",
    "\n",
    "big_within = dict(zip(bigzone_name, bigCover))"
   ]
  },
  {
   "cell_type": "code",
   "execution_count": 22,
   "metadata": {},
   "outputs": [
    {
     "name": "stdout",
     "output_type": "stream",
     "text": [
      "127\n"
     ]
    }
   ],
   "source": [
    "print(len(bigCover))"
   ]
  },
  {
   "cell_type": "code",
   "execution_count": 24,
   "metadata": {},
   "outputs": [
    {
     "name": "stdout",
     "output_type": "stream",
     "text": [
      "{'1401A': ['1401A0010', '1401A0020'], '1401B': ['1401B2010', '1401B2020', '1401B3010'], '1401C': ['1401C1010', '1401C1020', '1401C1030', '1401C1040', '1401C1050', '1401C1060', '1401C1070', '1401C1080', '1401C1090', '1401C1100', '1401C1110', '1401C1120', '1401C1130', '1401C1140', '1401C1150', '1401C1160'], '1402C': ['1402C1010', '1402C1020', '1402C1030', '1402C1040', '1402C1050', '1402C1060', '1402C1070', '1402C1080', '1402C1090', '1402C1100', '1402C1110', '1402C1120', '1402C1130', '1402C1140', '1402C1150', '1402C1160', '1402C1170', '1402C1180'], '1407A': ['1407A0010', '1407A0020', '1407A0030'], '1407C': ['1407C1010', '1407C1020', '1407C1030', '1407C1040', '1407C1050'], '1415A': ['1415A0010', '1415A0020', '1415A0030'], '1415C': ['1415C1010', '1415C1020', '1415C1030', '1415C1040', '1415C1050', '1415C1060', '1415C1070', '1415C1080', '1415C1090', '1415C1100', '1415C1110', '1415C1120'], '1419A': ['1419A0010', '1419A0020', '1419A0030'], '1419B': ['1419B2010', '1419B2020', '1419B3010'], '1419C': ['1419C1010', '1419C1020', '1419C1030', '1419C1040'], '1421A': ['1421A0010', '1421A0020', '1421A0030', '1421A0040', '1421A0050', '1421A0060'], '1421B': ['1421B2010', '1421B3010', '1421B4010', '1421B5010'], '1421C': ['1421C1010', '1421C1020'], '1427A': ['1427A0010', '1427A0020', '1427A0030'], '1427B': ['1427B2010'], '1427C': ['1427C1010'], '1430A': ['1430A0010', '1430A0020', '1430A0030', '1430A0040'], '1430C': ['1430C1010', '1430C1020'], '1435A': ['1435A0010', '1435A0020', '1435A0030', '1435A0040', '1435A0050'], '1435B': ['1435B2010'], '1435C': ['1435C1010'], '1438A': ['1438A0010'], '1438C': ['1438C1010', '1438C1020'], '1439A': ['1439A0010', '1439A0020'], '1439C': ['1439C1010', '1439C1020'], '1440A': ['1440A0010', '1440A0020'], '1440B': ['1440B2010', '1440B2020', '1440B2030', '1440B2040', '1440B3010'], '1440C': ['1440C1010', '1440C1020', '1440C1030', '1440C1040', '1440C1050', '1440C1060', '1440C1070', '1440C1080', '1440C1090', '1440C1100'], '1441A': ['1441A0010'], '1441B': ['1441B2010', '1441B2020', '1441B2030', '1441B2040', '1441B3010', '1441B4010'], '1441C': ['1441C1010', '1441C1020', '1441C1030', '1441C1040', '1441C1050', '1441C1060', '1441C1070', '1441C1080', '1441C1090', '1441C1100', '1441C1110', '1441C1120', '1441C1130', '1441C1140', '1441C1150', '1441C1160', '1441C1170'], '1442A': ['1442A0010', '1442A0020', '1442A0030'], '1442C': ['1442C1010', '1442C1020', '1442C1030', '1442C1040'], '1443A': ['1443A0010', '1443A0020', '1443A0030'], '1443B': ['1443B2010'], '1443C': ['1443C1010', '1443C1020'], '1444A': ['1444A0010', '1444A0020'], '1444C': ['1444C1010', '1444C1020'], '1445A': ['1445A0010', '1445A0020'], '1445C': ['1445C1010'], '1446A': ['1446A0010', '1446A0020'], '1446B': ['1446B2010'], '1446C': ['1446C1010', '1446C1020'], '1447A': ['1447A0010', '1447A0020'], '1447B': ['1447B2010'], '1447C': ['1447C1010'], '1452A': ['1452A0010', '1452A0020', '1452A0030', '1452A0040'], '1452B': ['1452B2010', '1452B3010'], '1452C': ['1452C1010', '1452C1020', '1452C1030'], '1460A': ['1460A0010', '1460A0020'], '1460B': ['1460B2010', '1460B3010'], '1460C': ['1460C1010', '1460C1020'], '1461A': ['1461A0010', '1461A0020', '1461A0030'], '1461C': ['1461C1010', '1461C1020'], '1462A': ['1462A0010', '1462A0020', '1462A0030'], '1462B': ['1462B2010'], '1462C': ['1462C1010', '1462C1020', '1462C1030', '1462C1040'], '1463A': ['1463A0010', '1463A0020', '1463A0030', '1463A0040', '1463A0050', '1463A0060', '1463A0070', '1463A0080'], '1463B': ['1463B2010', '1463B2020', '1463B3010', '1463B4010'], '1463C': ['1463C1010', '1463C1020', '1463C1030', '1463C1040', '1463C1050', '1463C1060', '1463C1070', '1463C1080', '1463C1090', '1463C1100'], '1465A': ['1465A0010', '1465A0020', '1465A0030', '1465A0040'], '1465C': ['1465C1010', '1465C1020'], '1466A': ['1466A0010', '1466A0020', '1466A0030', '1466A0040'], '1466B': ['1466B2010'], '1466C': ['1466C1010', '1466C1020'], '1470A': ['1470A0010', '1470A0020', '1470A0030', '1470A0040', '1470A0050', '1470A0060'], '1470B': ['1470B2010', '1470B3010'], '1470C': ['1470C1010', '1470C1020'], '1471A': ['1471A0010', '1471A0020', '1471A0030', '1471A0040'], '1471B': ['1471B2010', '1471B3010'], '1471C': ['1471C1010', '1471C1020', '1471C1030', '1471C1040'], '1472A': ['1472A0010'], '1472C': ['1472C1010', '1472C1020', '1472C1030', '1472C1040', '1472C1050'], '1473A': ['1473A0010', '1473A0020', '1473A0030'], '1473C': ['1473C1010', '1473C1020', '1473C1030'], '1480A': ['1480A0010', '1480A0020', '1480A0030', '1480A0040', '1480A0050'], '1480B': ['1480B2010'], '1480C': ['1480C1010', '1480C1020', '1480C1030', '1480C1040', '1480C1050', '1480C1060', '1480C1070', '1480C1080', '1480C1090', '1480C1100', '1480C1110', '1480C1120', '1480C1130', '1480C1140', '1480C1150', '1480C1160', '1480C1170', '1480C1180', '1480C1190', '1480C1200', '1480C1210', '1480C1220', '1480C1230', '1480C1240', '1480C1250', '1480C1260', '1480C1270', '1480C1280', '1480C1290', '1480C1300', '1480C1310', '1480C1320', '1480C1330', '1480C1340', '1480C1350', '1480C1360', '1480C1370', '1480C1380', '1480C1390', '1480C1400', '1480C1410', '1480C1420', '1480C1430', '1480C1440', '1480C1450', '1480C1460', '1480C1470', '1480C1480', '1480C1490', '1480C1500', '1480C1510', '1480C1520', '1480C1530', '1480C1540', '1480C1550', '1480C1560', '1480C1570', '1480C1580', '1480C1590', '1480C1600', '1480C1610', '1480C1620', '1480C1630', '1480C1640', '1480C1650', '1480C1660', '1480C1670', '1480C1680', '1480C1690', '1480C1700', '1480C1710', '1480C1720', '1480C1730', '1480C1740', '1480C1750', '1480C1760', '1480C1770', '1480C1780', '1480C1790', '1480C1800', '1480C1810', '1480C1820', '1480C1830', '1480C1840', '1480C1850', '1480C1860', '1480C1870', '1480C1880', '1480C1890', '1480C1900', '1480C1910', '1480C1920', '1480C1930', '1480C1940', '1480C1950', '1480C1960', '1480C1970', '1480C1980', '1480C1990', '1480C2000', '1480C2010', '1480C2020', '1480C2030', '1480C2040', '1480C2050', '1480C2060', '1480C2070', '1480C2080', '1480C2090', '1480C2100', '1480C2110', '1480C2120', '1480C2130', '1480C2140', '1480C2150', '1480C2160', '1480C2170', '1480C2180', '1480C2190', '1480C2200', '1480C2210', '1480C2220', '1480C2230', '1480C2240', '1480C2250', '1480C2260', '1480C2270', '1480C2280', '1480C2290', '1480C2300', '1480C2310', '1480C2320', '1480C2330', '1480C2340', '1480C2350', '1480C2360', '1480C2370', '1480C2380', '1480C2390', '1480C2400', '1480C2410', '1480C2420', '1480C2430', '1480C2440', '1480C2450', '1480C2460', '1480C2470', '1480C2480', '1480C2490', '1480C2500', '1480C2510', '1480C2520', '1480C2530', '1480C2540', '1480C2550', '1480C2560', '1480C2570', '1480C2580', '1480C2590', '1480C2600', '1480C2610', '1480C2620', '1480C2630', '1480C2640', '1480C2650', '1480C2660', '1480C2670', '1480C2680', '1480C2690', '1480C2700', '1480C2710', '1480C2720', '1480C2730', '1480C2740', '1480C2750', '1480C2760', '1480C2770', '1480C2780', '1480C2790', '1480C2800', '1480C2810', '1480C2820', '1480C2830', '1480C2840', '1480C2850', '1480C2860', '1480C2870', '1480C2880', '1480C2890', '1480C2900', '1480C2910', '1480C2920', '1480C2930', '1480C2940', '1480C2950', '1480C2960', '1480C2970', '1480C2980', '1480C2990', '1480C3000', '1480C3010', '1480C3020', '1480C3030', '1480C3040', '1480C3050', '1480C3060', '1480C3070', '1480C3080', '1480C3090', '1480C3100', '1480C3110', '1480C3120', '1480C3130', '1480C3140', '1480C3150', '1480C3160', '1480C3170', '1480C3180', '1480C3190', '1480C3200', '1480C3210', '1480C3220', '1480C3230', '1480C3240', '1480C3250', '1480C3260', '1480C3270', '1480C3280', '1480C3290', '1480C3300', '1480C3310', '1480C3320', '1480C3330', '1480C3340', '1480C3350', '1480C3360', '1480C3370', '1480C3380', '1480C3390', '1480C3400', '1480C3410', '1480C3420', '1480C3430', '1480C3440', '1480C3450', '1480C3460', '1480C3470', '1480C3480', '1480C3490', '1480C3500', '1480C3510', '1480C3520', '1480C3530', '1480C3540', '1480C3550', '1480C3560', '1480C3570', '1480C3580', '1480C3590', '1480C3600', '1480C3610', '1480C3620', '1480C3630', '1480C3640', '1480C3650', '1480C3660', '1480C3670', '1480C3680', '1480C3690', '1480C3700', '1480C3710', '1480C3720', '1480C3730', '1480C3740', '1480C3750', '1480C3760', '1480C3770', '1480C3780', '1480C3790', '1480C3800', '1480C3810', '1480C3820', '1480C3830', '1480C3840', '1480C3850', '1480C3860', '1480C3870', '1480C3880', '1480C3890', '1480C3900', '1480C3910', '1480C3920', '1480C3930', '1480C3940', '1480C3950', '1480C3960', '1480C3970', '1480C3980', '1480C3990', '1480C4000'], '1481A': ['1481A0010'], '1481C': ['1481C1010', '1481C1020', '1481C1030', '1481C1040', '1481C1050', '1481C1060', '1481C1070', '1481C1080', '1481C1090', '1481C1100', '1481C1110', '1481C1120', '1481C1130', '1481C1140', '1481C1150', '1481C1160', '1481C1170', '1481C1180', '1481C1190', '1481C1200', '1481C1210', '1481C1220', '1481C1230', '1481C1240', '1481C1250', '1481C1260', '1481C1270', '1481C1280', '1481C1290', '1481C1300', '1481C1310', '1481C1320', '1481C1330', '1481C1340', '1481C1350', '1481C1360', '1481C1370', '1481C1380', '1481C1390', '1481C1400'], '1482A': ['1482A0010', '1482A0020', '1482A0030', '1482A0040', '1482A0050', '1482A0060', '1482A0070', '1482A0080'], '1482B': ['1482B2010', '1482B2020', '1482B2030', '1482B2040', '1482B3010', '1482B4010'], '1482C': ['1482C1010', '1482C1020', '1482C1030', '1482C1040', '1482C1050', '1482C1060', '1482C1070', '1482C1080', '1482C1090', '1482C1100', '1482C1110', '1482C1120', '1482C1130', '1482C1140', '1482C1150', '1482C1160'], '1484A': ['1484A0010', '1484A0020', '1484A0030'], '1484B': ['1484B2010'], '1484C': ['1484C1010', '1484C1020', '1484C1030', '1484C1040', '1484C1050'], '1485A': ['1485A0010', '1485A0020', '1485A0030', '1485A0040', '1485A0050', '1485A0060', '1485A0070'], '1485B': ['1485B2010', '1485B2020', '1485B2030'], '1485C': ['1485C1010', '1485C1020', '1485C1030', '1485C1040', '1485C1050', '1485C1060', '1485C1070', '1485C1080', '1485C1090', '1485C1100', '1485C1110', '1485C1120', '1485C1130', '1485C1140', '1485C1150', '1485C1160', '1485C1170', '1485C1180', '1485C1190', '1485C1200', '1485C1210', '1485C1220', '1485C1230', '1485C1240'], '1486A': ['1486A0010', '1486A0020', '1486A0030'], '1486C': ['1486C1010', '1486C1020', '1486C1030', '1486C1040'], '1487A': ['1487A0010', '1487A0020', '1487A0030', '1487A0040', '1487A0050'], '1487B': ['1487B2010'], '1487C': ['1487C1010', '1487C1020', '1487C1030', '1487C1040', '1487C1050', '1487C1060', '1487C1070', '1487C1080', '1487C1090', '1487C1100', '1487C1110', '1487C1120', '1487C1130', '1487C1140', '1487C1150', '1487C1160', '1487C1170', '1487C1180', '1487C1190'], '1488A': ['1488A0010', '1488A0020', '1488A0030', '1488A0040'], '1488B': ['1488B2010'], '1488C': ['1488C1010', '1488C1020', '1488C1030', '1488C1040', '1488C1050', '1488C1060', '1488C1070', '1488C1080', '1488C1090', '1488C1100', '1488C1110', '1488C1120', '1488C1130', '1488C1140', '1488C1150', '1488C1160', '1488C1170', '1488C1180', '1488C1190', '1488C1200', '1488C1210', '1488C1220', '1488C1230', '1488C1240', '1488C1250', '1488C1260', '1488C1270'], '1489A': ['1489A0010', '1489A0020', '1489A0030', '1489A0040', '1489A0050'], '1489B': ['1489B2010', '1489B2020', '1489B3010'], '1489C': ['1489C1010', '1489C1020', '1489C1030', '1489C1040', '1489C1050', '1489C1060', '1489C1070', '1489C1080', '1489C1090', '1489C1100', '1489C1110', '1489C1120', '1489C1130', '1489C1140', '1489C1150'], '1490A': ['1490A0010', '1490A0020', '1490A0030', '1490A0040', '1490A0050', '1490A0060', '1490A0070', '1490A0080', '1490A0090', '1490A0100'], '1490B': ['1490B2010', '1490B2020', '1490B2030', '1490B2040', '1490B3010', '1490B3020', '1490B3030', '1490B4010', '1490B4020'], '1490C': ['1490C1010', '1490C1020', '1490C1030', '1490C1040', '1490C1050', '1490C1060', '1490C1070', '1490C1080', '1490C1090', '1490C1100', '1490C1110', '1490C1120', '1490C1130', '1490C1140', '1490C1150', '1490C1160', '1490C1170', '1490C1180', '1490C1190', '1490C1200', '1490C1210', '1490C1220', '1490C1230', '1490C1240', '1490C1250', '1490C1260', '1490C1270', '1490C1280', '1490C1290', '1490C1300', '1490C1310', '1490C1320', '1490C1330', '1490C1340', '1490C1350', '1490C1360', '1490C1370', '1490C1380', '1490C1390', '1490C1400', '1490C1410', '1490C1420', '1490C1430', '1490C1440', '1490C1450', '1490C1460', '1490C1470', '1490C1480', '1490C1490', '1490C1500', '1490C1510', '1490C1520', '1490C1530', '1490C1540', '1490C1550', '1490C1560', '1490C1570', '1490C1580'], '1491A': ['1491A0010', '1491A0020', '1491A0030', '1491A0040', '1491A0050', '1491A0060'], '1491B': ['1491B2010'], '1491C': ['1491C1010', '1491C1020', '1491C1030', '1491C1040', '1491C1050', '1491C1060', '1491C1070'], '1492A': ['1492A0010', '1492A0020'], '1492C': ['1492C1010', '1492C1020', '1492C1030', '1492C1040', '1492C1050'], '1493A': ['1493A0010', '1493A0020', '1493A0030', '1493A0040'], '1493C': ['1493C1010', '1493C1020', '1493C1030', '1493C1040', '1493C1050', '1493C1060', '1493C1070', '1493C1080', '1493C1090', '1493C1100', '1493C1110'], '1494A': ['1494A0010', '1494A0020', '1494A0030', '1494A0040', '1494A0050', '1494A0060', '1494A0070'], '1494B': ['1494B2010'], '1494C': ['1494C1010', '1494C1020', '1494C1030', '1494C1040', '1494C1050', '1494C1060', '1494C1070', '1494C1080', '1494C1090', '1494C1100', '1494C1110', '1494C1120', '1494C1130', '1494C1140', '1494C1150'], '1495A': ['1495A0010', '1495A0020', '1495A0030'], '1495B': ['1495B2010'], '1495C': ['1495C1010', '1495C1020', '1495C1030', '1495C1040', '1495C1050', '1495C1060', '1495C1070'], '1496A': ['1496A0010', '1496A0020', '1496A0030', '1496A0040', '1496A0050', '1496A0060', '1496A0070'], '1496B': ['1496B2010', '1496B3010'], '1496C': ['1496C1010', '1496C1020', '1496C1030', '1496C1040', '1496C1050', '1496C1060', '1496C1070', '1496C1080', '1496C1090', '1496C1100', '1496C1110', '1496C1120', '1496C1130', '1496C1140', '1496C1150', '1496C1160', '1496C1170', '1496C1180', '1496C1190', '1496C1200', '1496C1210', '1496C1220'], '1497A': ['1497A0010', '1497A0020'], '1497C': ['1497C1010', '1497C1020', '1497C1030', '1497C1040'], '1498A': ['1498A0010', '1498A0020', '1498A0030'], '1498C': ['1498C1010', '1498C1020', '1498C1030', '1498C1040', '1498C1050'], '1499A': ['1499A0010', '1499A0020', '1499A0030', '1499A0040', '1499A0050', '1499A0060', '1499A0070'], '1499B': ['1499B2010', '1499B3010', '1499B4010'], '1499C': ['1499C1010', '1499C1020', '1499C1030', '1499C1040', '1499C1050', '1499C1060', '1499C1070', '1499C1080', '1499C1090']}\n"
     ]
    }
   ],
   "source": [
    "#print(big_within)"
   ]
  },
  {
   "cell_type": "code",
   "execution_count": 12,
   "metadata": {},
   "outputs": [],
   "source": [
    "ODM_big = dict()\n",
    "for i in range(0, len(bigzone_name)):\n",
    "    element = dict()\n",
    "    for j in range(i, len(bigzone_name)):\n",
    "        if i == j:\n",
    "            average_daily_trips = 0\n",
    "            for begin in range(0, len(big_within[bigzone_name[i]])):\n",
    "                for end in range(begin + 1, len(big_within[bigzone_name[i]])):\n",
    "                    average_daily_trips = average_daily_trips + ODM_tot[big_within[bigzone_name[i]][begin]][big_within[bigzone_name[i]][end]]\n",
    "\n",
    "            element[bigzone_name[j]] = 2 * average_daily_trips\n",
    "        if i != j:\n",
    "            average_daily_trips = 0\n",
    "            for begin in range(0, len(big_within[bigzone_name[i]])):\n",
    "                for end in range(0, len(big_within[bigzone_name[j]])):\n",
    "                    average_daily_trips = average_daily_trips + ODM_tot[big_within[bigzone_name[i]][begin]][big_within[bigzone_name[j]][end]]\n",
    "            element[bigzone_name[j]] = average_daily_trips\n",
    "\n",
    "    ODM_big[bigzone_name[i]] = element"
   ]
  },
  {
   "cell_type": "markdown",
   "metadata": {},
   "source": [
    "### From upper triangular matrix to a vector"
   ]
  },
  {
   "cell_type": "code",
   "execution_count": 13,
   "metadata": {},
   "outputs": [],
   "source": [
    "model_output = np.zeros(len(bigzone_name)*len(bigzone_name))   # the vector of model_output is stored here\n",
    "for i in range(0, len(bigzone_name)):\n",
    "    for j in range(0, len(bigzone_name)):\n",
    "        if i <= j:\n",
    "            model_output[i + j * len(bigzone_name)] = ODM_big[bigzone_name[i]][bigzone_name[j]]\n",
    "        if i > j:\n",
    "            model_output[i + j * len(bigzone_name)] = ODM_big[bigzone_name[j]][bigzone_name[i]]"
   ]
  },
  {
   "cell_type": "code",
   "execution_count": 14,
   "metadata": {},
   "outputs": [],
   "source": [
    "np.savetxt(\"../results/model_output.txt\", model_output)"
   ]
  },
  {
   "cell_type": "markdown",
   "metadata": {},
   "source": [
    "#--------------From here we prepare the groundtruth data----------#"
   ]
  },
  {
   "cell_type": "code",
   "execution_count": 15,
   "metadata": {},
   "outputs": [],
   "source": [
    "zones = gpd.read_file('../dbs/sweden/zones/DeSO/DeSO_2018_v2.shp')\n",
    "zones = zones.rename(columns={\"deso\": \"zone\"})[['zone', 'geometry']]\n",
    "\n",
    "\n",
    "trips = pd.read_csv(\"../dbs/sweden/survey/day_trips.csv\")\n",
    "trips = trips.loc[:, [\"sub_id\", 'trip_id', 'trip_main_id', 'distance_main',\n",
    "                              'date', \"origin_main_deso\", \"desti_main_deso\", 'trip_weight']]\n",
    "trips = trips.drop_duplicates(subset=[\"sub_id\", 'trip_id', 'trip_main_id'])\n",
    "trips[\"T\"] = trips[\"date\"].apply(lambda x: pd.to_datetime(x))\n",
    "trips = trips.loc[~trips[\"T\"].apply(lambda x: x.weekday()).isin([5, 6]), :]\n",
    "trips.dropna(axis=0, how='any', inplace=True)\n",
    "\n",
    "odms = trips.groupby(['origin_main_deso', 'desti_main_deso']).sum()['trip_weight']\n",
    "odms = odms.reindex(pd.MultiIndex.from_product([zones.zone, zones.zone], names=['ozone', 'dzone']), fill_value=0)"
   ]
  },
  {
   "cell_type": "code",
   "execution_count": 16,
   "metadata": {},
   "outputs": [],
   "source": [
    "ODM = dict()\n",
    "for i in range(0, len(zone_name)):\n",
    "    element = dict()\n",
    "    for j in range(0, len(zone_name)):\n",
    "        element[zone_name[j]] = odms.at[zone_name[i], zone_name[j]]\n",
    "    ODM[zone_name[i]] = element"
   ]
  },
  {
   "cell_type": "code",
   "execution_count": 18,
   "metadata": {},
   "outputs": [],
   "source": [
    "bigzone_name = []\n",
    "bigCover = []\n",
    "subCover = []\n",
    "old_name = zone_name[0][0:5]\n",
    "\n",
    "bigzone_name.append(old_name)\n",
    "subCover.append(zone_name[0])\n",
    "\n",
    "for i in range(1, len(zone_name)):\n",
    "    new_name = zone_name[i][0:5]\n",
    "\n",
    "    if new_name == old_name:\n",
    "        # this two zones belong the same big zone\n",
    "        subCover.append(zone_name[i])\n",
    "\n",
    "    if new_name != old_name:\n",
    "        # find a new big zone\n",
    "        #store old results\n",
    "        bigCover.append(deepcopy(subCover))\n",
    "        subCover.clear()\n",
    "\n",
    "        #store new resutls\n",
    "        bigzone_name.append(new_name)\n",
    "        subCover.append(zone_name[i])\n",
    "\n",
    "    old_name = new_name\n",
    "\n",
    "# handle the lastest case\n",
    "bigCover.append(subCover)\n",
    "\n",
    "\n",
    "big_within = dict(zip(bigzone_name, bigCover))"
   ]
  },
  {
   "cell_type": "code",
   "execution_count": 23,
   "metadata": {},
   "outputs": [
    {
     "name": "stdout",
     "output_type": "stream",
     "text": [
      "127\n"
     ]
    }
   ],
   "source": [
    "print(len(bigCover))"
   ]
  },
  {
   "cell_type": "markdown",
   "metadata": {},
   "source": [
    "### Aggregated groundtruth data"
   ]
  },
  {
   "cell_type": "code",
   "execution_count": 19,
   "metadata": {},
   "outputs": [],
   "source": [
    "ODM_truth = dict()\n",
    "for i in range(0, len(bigzone_name)):\n",
    "    element = dict()\n",
    "    for j in range(0, len(bigzone_name)):\n",
    "        average_daily_trips = 0\n",
    "        if i == j:\n",
    "            for begin in range(0, len(big_within[bigzone_name[i]])):\n",
    "                for end in range(0, len(big_within[bigzone_name[i]])):\n",
    "                    average_daily_trips = average_daily_trips + ODM[big_within[bigzone_name[i]][begin]][big_within[bigzone_name[i]][end]]\n",
    "                    \n",
    "        if i != j:\n",
    "            for begin in range(0, len(big_within[bigzone_name[i]])):\n",
    "                for end in range(0, len(big_within[bigzone_name[j]])):\n",
    "                    average_daily_trips = average_daily_trips + ODM[big_within[bigzone_name[i]][begin]][big_within[bigzone_name[j]][end]]\n",
    "        \n",
    "        element[bigzone_name[j]] = average_daily_trips\n",
    "\n",
    "    ODM_truth[bigzone_name[i]] = element"
   ]
  },
  {
   "cell_type": "code",
   "execution_count": 20,
   "metadata": {},
   "outputs": [],
   "source": [
    "benchmark = np.zeros(len(bigzone_name)*len(bigzone_name))   # the vector of groundtruth data is stored here\n",
    "for i in range(0, len(bigzone_name)):\n",
    "    for j in range(0, len(bigzone_name)):\n",
    "            benchmark[i + j * len(bigzone_name)] = ODM_truth[bigzone_name[i]][bigzone_name[j]]"
   ]
  },
  {
   "cell_type": "code",
   "execution_count": 21,
   "metadata": {},
   "outputs": [],
   "source": [
    "np.savetxt(\"../results/benchmark.txt\", benchmark)"
   ]
  }
 ],
 "metadata": {
  "interpreter": {
   "hash": "1f2e54c80dc52ecb462da69c78d850336b81dad0767d9071405d7a4130722d43"
  },
  "kernelspec": {
   "display_name": "Python 3.9.10 ('geolab')",
   "language": "python",
   "name": "python3"
  },
  "language_info": {
   "codemirror_mode": {
    "name": "ipython",
    "version": 3
   },
   "file_extension": ".py",
   "mimetype": "text/x-python",
   "name": "python",
   "nbconvert_exporter": "python",
   "pygments_lexer": "ipython3",
   "version": "3.9.10"
  },
  "orig_nbformat": 4
 },
 "nbformat": 4,
 "nbformat_minor": 2
}
