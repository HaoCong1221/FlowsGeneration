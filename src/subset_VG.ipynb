{
 "cells": [
  {
   "cell_type": "code",
   "execution_count": 1,
   "metadata": {},
   "outputs": [],
   "source": [
    "import sys\n",
    "sys.path.append('../lib/')\n",
    "\n",
    "import pandas as pd\n",
    "import numpy as np\n",
    "import geopandas as gpd\n",
    "\n",
    "import workers\n",
    "import v_ij\n",
    "import math\n",
    "import sweden\n",
    "\n",
    "from shapely.geometry import Point\n",
    "import gc\n",
    "from copy import deepcopy"
   ]
  },
  {
   "cell_type": "markdown",
   "metadata": {},
   "source": [
    "### load 2km * 2km zone"
   ]
  },
  {
   "cell_type": "code",
   "execution_count": 2,
   "metadata": {},
   "outputs": [],
   "source": [
    "grids = gpd.read_file('../results/grids_vgr_2km_density_deso5.shp')\n"
   ]
  },
  {
   "cell_type": "code",
   "execution_count": 3,
   "metadata": {},
   "outputs": [
    {
     "data": {
      "text/html": [
       "<div>\n",
       "<style scoped>\n",
       "    .dataframe tbody tr th:only-of-type {\n",
       "        vertical-align: middle;\n",
       "    }\n",
       "\n",
       "    .dataframe tbody tr th {\n",
       "        vertical-align: top;\n",
       "    }\n",
       "\n",
       "    .dataframe thead th {\n",
       "        text-align: right;\n",
       "    }\n",
       "</style>\n",
       "<table border=\"1\" class=\"dataframe\">\n",
       "  <thead>\n",
       "    <tr style=\"text-align: right;\">\n",
       "      <th></th>\n",
       "      <th>density</th>\n",
       "      <th>zone</th>\n",
       "      <th>deso_5</th>\n",
       "      <th>geometry</th>\n",
       "    </tr>\n",
       "  </thead>\n",
       "  <tbody>\n",
       "    <tr>\n",
       "      <th>0</th>\n",
       "      <td>26.055</td>\n",
       "      <td>1</td>\n",
       "      <td>1401A</td>\n",
       "      <td>POLYGON ((342000.000 6390000.000, 342000.000 6...</td>\n",
       "    </tr>\n",
       "    <tr>\n",
       "      <th>1</th>\n",
       "      <td>26.055</td>\n",
       "      <td>2</td>\n",
       "      <td>1401A</td>\n",
       "      <td>POLYGON ((342000.000 6396000.000, 342000.000 6...</td>\n",
       "    </tr>\n",
       "    <tr>\n",
       "      <th>2</th>\n",
       "      <td>26.055</td>\n",
       "      <td>3</td>\n",
       "      <td>1401A</td>\n",
       "      <td>POLYGON ((344000.000 6390000.000, 344000.000 6...</td>\n",
       "    </tr>\n",
       "    <tr>\n",
       "      <th>3</th>\n",
       "      <td>26.055</td>\n",
       "      <td>4</td>\n",
       "      <td>1401A</td>\n",
       "      <td>POLYGON ((344000.000 6392000.000, 344000.000 6...</td>\n",
       "    </tr>\n",
       "    <tr>\n",
       "      <th>4</th>\n",
       "      <td>26.055</td>\n",
       "      <td>5</td>\n",
       "      <td>1401A</td>\n",
       "      <td>POLYGON ((344000.000 6394000.000, 344000.000 6...</td>\n",
       "    </tr>\n",
       "  </tbody>\n",
       "</table>\n",
       "</div>"
      ],
      "text/plain": [
       "   density  zone deso_5                                           geometry\n",
       "0   26.055     1  1401A  POLYGON ((342000.000 6390000.000, 342000.000 6...\n",
       "1   26.055     2  1401A  POLYGON ((342000.000 6396000.000, 342000.000 6...\n",
       "2   26.055     3  1401A  POLYGON ((344000.000 6390000.000, 344000.000 6...\n",
       "3   26.055     4  1401A  POLYGON ((344000.000 6392000.000, 344000.000 6...\n",
       "4   26.055     5  1401A  POLYGON ((344000.000 6394000.000, 344000.000 6..."
      ]
     },
     "execution_count": 3,
     "metadata": {},
     "output_type": "execute_result"
    }
   ],
   "source": [
    "grids.head()"
   ]
  },
  {
   "cell_type": "markdown",
   "metadata": {},
   "source": [
    "### Get distance between zones"
   ]
  },
  {
   "cell_type": "code",
   "execution_count": 4,
   "metadata": {},
   "outputs": [
    {
     "name": "stdout",
     "output_type": "stream",
     "text": [
      "Calculating distances between zones...\n"
     ]
    }
   ],
   "source": [
    "# This gives a stacked version\n",
    "distances = workers.zone_distances(grids)\n",
    "# This gives a matrix-style dataframe\n",
    "df_d = distances.unstack(level=1)"
   ]
  },
  {
   "cell_type": "markdown",
   "metadata": {},
   "source": [
    "### Get area and average radius"
   ]
  },
  {
   "cell_type": "code",
   "execution_count": 5,
   "metadata": {},
   "outputs": [],
   "source": [
    "area = 4 # km\n",
    "\n",
    "# A=pi*r_average^2\n",
    "\n",
    "r_average = math.sqrt(area/math.pi) # km"
   ]
  },
  {
   "cell_type": "markdown",
   "metadata": {},
   "source": [
    "### Get population density and geometry"
   ]
  },
  {
   "cell_type": "code",
   "execution_count": 6,
   "metadata": {},
   "outputs": [],
   "source": [
    "grid_name = list(grids.zone)\n",
    "population_density = dict(zip(grids.zone, grids.density))\n",
    "geometry = dict(zip(grids.zone, grids.geometry))"
   ]
  },
  {
   "cell_type": "markdown",
   "metadata": {},
   "source": [
    "### Get $v^{tot}_{ij}$"
   ]
  },
  {
   "cell_type": "code",
   "execution_count": 7,
   "metadata": {},
   "outputs": [],
   "source": [
    "# parameter = ln(f_max/f_min), f_min = 1/T, f_max = 1 T = 1000\n",
    "T = 1000\n",
    "f_max = 1\n",
    "f_min = 1/T\n",
    "parameter = math.log(f_max / f_min)\n",
    "\n",
    "#ODM = {orig: {desti: v_{ori, desti}}}\n",
    "# orig is the grid_name\n",
    "# desti is the grid_name \n",
    "\n",
    "\n",
    "ODM_tot = dict()\n",
    "for i in range(0, len(grid_name)):\n",
    "    element = dict()\n",
    "    for j in range(i + 1, len(grid_name)):\n",
    "        number_of_trips = v_ij.average_daily_trips(population_density[grid_name[j]], area, r_average, df_d[grid_name[i]][grid_name[j]], parameter) + v_ij.average_daily_trips(population_density[grid_name[i]], area, r_average, df_d[grid_name[i]][grid_name[j]], parameter)\n",
    "        element[grid_name[j]] = number_of_trips\n",
    "    ODM_tot[grid_name[i]] = element"
   ]
  },
  {
   "cell_type": "markdown",
   "metadata": {},
   "source": [
    "### Save ODM_tot between grids"
   ]
  },
  {
   "cell_type": "code",
   "execution_count": 8,
   "metadata": {},
   "outputs": [],
   "source": [
    "with open('../results/ODM_grid.txt', 'w') as f:\n",
    "   for k in ODM_tot.keys():\n",
    "       for i in ODM_tot[k].keys():\n",
    "           f.write(str(k))\n",
    "           f.write('\\t')\n",
    "           f.write(str(i)) \n",
    "           f.write('\\t')\n",
    "           f.write(str(ODM_tot[k][i]))\n",
    "           f.write('\\n')  "
   ]
  },
  {
   "cell_type": "markdown",
   "metadata": {},
   "source": [
    "### Load the ODM_tot between grids"
   ]
  },
  {
   "cell_type": "code",
   "execution_count": 9,
   "metadata": {},
   "outputs": [],
   "source": [
    "ODM_tot = dict()\n",
    "with open('../results/ODM_grid.txt', 'r') as f:\n",
    "    line = f.readline()\n",
    "    inner = dict()\n",
    "    while line:\n",
    "        data = line.split()\n",
    "        original = int(data[0])\n",
    "        destination = int(data[1])\n",
    "        number_of_trip = float(data[2])\n",
    "        inner[destination] = number_of_trip\n",
    "\n",
    "        if destination == grid_name[-1]:\n",
    "            ODM_tot[original] = deepcopy(inner)\n",
    "            inner.clear()\n",
    "        line = f.readline()"
   ]
  },
  {
   "cell_type": "markdown",
   "metadata": {},
   "source": [
    "### Load Sweden VG zone data"
   ]
  },
  {
   "cell_type": "code",
   "execution_count": 10,
   "metadata": {},
   "outputs": [],
   "source": [
    "zones = gpd.read_file('../dbs/sweden/zones/DeSO/DeSO_2018_v2.shp')\n",
    "zones.loc[:, 'deso_3'] = zones.loc[:, 'deso'].apply(lambda x: x[:2])\n",
    "zones_subset = zones.loc[zones['deso_3'] == '14', :]\n",
    "zones_subset_info = dict(zip(zones_subset['deso'], zones_subset['geometry']))\n",
    "zone_name = list(zones_subset['deso'])"
   ]
  },
  {
   "cell_type": "markdown",
   "metadata": {},
   "source": [
    "### Aggregate level"
   ]
  },
  {
   "cell_type": "code",
   "execution_count": 11,
   "metadata": {},
   "outputs": [
    {
     "name": "stderr",
     "output_type": "stream",
     "text": [
      "D:\\Anaconda\\envs\\geopandas_lab\\lib\\site-packages\\geopandas\\geodataframe.py:1351: SettingWithCopyWarning: \n",
      "A value is trying to be set on a copy of a slice from a DataFrame.\n",
      "Try using .loc[row_indexer,col_indexer] = value instead\n",
      "\n",
      "See the caveats in the documentation: https://pandas.pydata.org/pandas-docs/stable/user_guide/indexing.html#returning-a-view-versus-a-copy\n",
      "  super().__setitem__(key, value)\n"
     ]
    }
   ],
   "source": [
    "zones_subset.loc[:, 'deso_5'] = zones_subset.loc[:, 'deso'].apply(lambda x: x[:5])"
   ]
  },
  {
   "cell_type": "code",
   "execution_count": 12,
   "metadata": {},
   "outputs": [
    {
     "data": {
      "text/plain": [
       "<pandas.core.groupby.generic.DataFrameGroupBy object at 0x000002818A32C0D0>"
      ]
     },
     "execution_count": 12,
     "metadata": {},
     "output_type": "execute_result"
    }
   ],
   "source": [
    "zones_subset.groupby(['deso_5'])"
   ]
  },
  {
   "cell_type": "code",
   "execution_count": 13,
   "metadata": {},
   "outputs": [
    {
     "data": {
      "text/html": [
       "<div>\n",
       "<style scoped>\n",
       "    .dataframe tbody tr th:only-of-type {\n",
       "        vertical-align: middle;\n",
       "    }\n",
       "\n",
       "    .dataframe tbody tr th {\n",
       "        vertical-align: top;\n",
       "    }\n",
       "\n",
       "    .dataframe thead th {\n",
       "        text-align: right;\n",
       "    }\n",
       "</style>\n",
       "<table border=\"1\" class=\"dataframe\">\n",
       "  <thead>\n",
       "    <tr style=\"text-align: right;\">\n",
       "      <th></th>\n",
       "      <th>id</th>\n",
       "      <th>objectid</th>\n",
       "      <th>uuid</th>\n",
       "      <th>deso</th>\n",
       "      <th>befolkning</th>\n",
       "      <th>version</th>\n",
       "      <th>geometry</th>\n",
       "      <th>deso_3</th>\n",
       "      <th>deso_5</th>\n",
       "    </tr>\n",
       "  </thead>\n",
       "  <tbody>\n",
       "    <tr>\n",
       "      <th>3563</th>\n",
       "      <td>3564.0</td>\n",
       "      <td>3564</td>\n",
       "      <td>{6349809D-EFF4-4CF3-8B17-FA4B18460A06}</td>\n",
       "      <td>1401A0010</td>\n",
       "      <td>2278</td>\n",
       "      <td>2018_v2</td>\n",
       "      <td>POLYGON ((344860.657 6401921.547, 345105.014 6...</td>\n",
       "      <td>14</td>\n",
       "      <td>1401A</td>\n",
       "    </tr>\n",
       "    <tr>\n",
       "      <th>3564</th>\n",
       "      <td>3565.0</td>\n",
       "      <td>3565</td>\n",
       "      <td>{972D1560-D815-4CBD-90C8-10E54B1AB758}</td>\n",
       "      <td>1401A0020</td>\n",
       "      <td>1584</td>\n",
       "      <td>2018_v2</td>\n",
       "      <td>POLYGON ((343371.029 6401284.527, 343383.043 6...</td>\n",
       "      <td>14</td>\n",
       "      <td>1401A</td>\n",
       "    </tr>\n",
       "    <tr>\n",
       "      <th>3565</th>\n",
       "      <td>3566.0</td>\n",
       "      <td>3566</td>\n",
       "      <td>{AC463249-527F-42FF-AC3C-217C812B13F3}</td>\n",
       "      <td>1401B2010</td>\n",
       "      <td>1604</td>\n",
       "      <td>2018_v2</td>\n",
       "      <td>POLYGON ((350267.572 6400639.429, 350153.500 6...</td>\n",
       "      <td>14</td>\n",
       "      <td>1401B</td>\n",
       "    </tr>\n",
       "    <tr>\n",
       "      <th>3566</th>\n",
       "      <td>3567.0</td>\n",
       "      <td>3567</td>\n",
       "      <td>{82429698-A197-4A31-BFA6-2F2C6C4BB0B7}</td>\n",
       "      <td>1401B2020</td>\n",
       "      <td>1402</td>\n",
       "      <td>2018_v2</td>\n",
       "      <td>POLYGON ((347372.465 6401230.998, 347671.575 6...</td>\n",
       "      <td>14</td>\n",
       "      <td>1401B</td>\n",
       "    </tr>\n",
       "    <tr>\n",
       "      <th>3567</th>\n",
       "      <td>3568.0</td>\n",
       "      <td>3568</td>\n",
       "      <td>{B6D36006-B7AF-49C8-918B-F8D923543BEC}</td>\n",
       "      <td>1401B3010</td>\n",
       "      <td>1702</td>\n",
       "      <td>2018_v2</td>\n",
       "      <td>POLYGON ((350830.549 6394368.985, 350866.237 6...</td>\n",
       "      <td>14</td>\n",
       "      <td>1401B</td>\n",
       "    </tr>\n",
       "  </tbody>\n",
       "</table>\n",
       "</div>"
      ],
      "text/plain": [
       "          id  objectid                                    uuid       deso  \\\n",
       "3563  3564.0      3564  {6349809D-EFF4-4CF3-8B17-FA4B18460A06}  1401A0010   \n",
       "3564  3565.0      3565  {972D1560-D815-4CBD-90C8-10E54B1AB758}  1401A0020   \n",
       "3565  3566.0      3566  {AC463249-527F-42FF-AC3C-217C812B13F3}  1401B2010   \n",
       "3566  3567.0      3567  {82429698-A197-4A31-BFA6-2F2C6C4BB0B7}  1401B2020   \n",
       "3567  3568.0      3568  {B6D36006-B7AF-49C8-918B-F8D923543BEC}  1401B3010   \n",
       "\n",
       "      befolkning  version                                           geometry  \\\n",
       "3563        2278  2018_v2  POLYGON ((344860.657 6401921.547, 345105.014 6...   \n",
       "3564        1584  2018_v2  POLYGON ((343371.029 6401284.527, 343383.043 6...   \n",
       "3565        1604  2018_v2  POLYGON ((350267.572 6400639.429, 350153.500 6...   \n",
       "3566        1402  2018_v2  POLYGON ((347372.465 6401230.998, 347671.575 6...   \n",
       "3567        1702  2018_v2  POLYGON ((350830.549 6394368.985, 350866.237 6...   \n",
       "\n",
       "     deso_3 deso_5  \n",
       "3563     14  1401A  \n",
       "3564     14  1401A  \n",
       "3565     14  1401B  \n",
       "3566     14  1401B  \n",
       "3567     14  1401B  "
      ]
     },
     "execution_count": 13,
     "metadata": {},
     "output_type": "execute_result"
    }
   ],
   "source": [
    "zones_subset.head()"
   ]
  },
  {
   "cell_type": "markdown",
   "metadata": {},
   "source": [
    "### Get zone level $V_{ij}$"
   ]
  },
  {
   "cell_type": "code",
   "execution_count": 14,
   "metadata": {},
   "outputs": [],
   "source": [
    "cover = []\n",
    "checked = set()\n",
    "for i in range(0, len(zone_name)):\n",
    "    sub_cover = []\n",
    "    for j in range(0, len(grid_name)):\n",
    "        if j in checked:\n",
    "            continue\n",
    "        point_j = Point(geometry[grid_name[j]].centroid.x, geometry[grid_name[j]].centroid.y)\n",
    "        if zones_subset_info[zone_name[i]].contains(point_j) == True:\n",
    "            # grid_j in zone_i\n",
    "            sub_cover.append(grid_name[j])\n",
    "            checked.add(j)   # This grid has been occupied, we do not need to check it again.\n",
    "    cover.append(sub_cover)\n",
    "within = dict(zip(zone_name, cover))"
   ]
  },
  {
   "cell_type": "code",
   "execution_count": 15,
   "metadata": {},
   "outputs": [],
   "source": [
    "bigzone_name = []\n",
    "bigCover = []\n",
    "subCover = []\n",
    "old_name = zone_name[0][0:5]\n",
    "\n",
    "bigzone_name.append(old_name)\n",
    "subCover.extend(within[zone_name[0]])\n",
    "\n",
    "for i in range(1, len(zone_name)):\n",
    "    new_name = zone_name[i][0:5]\n",
    "\n",
    "    if new_name == old_name:\n",
    "        # this two zones belong the same big zone\n",
    "        subCover.extend(within[zone_name[i]])\n",
    "\n",
    "    if new_name != old_name:\n",
    "        # find a new big zone\n",
    "        #store old results\n",
    "        bigCover.append(deepcopy(subCover))\n",
    "        subCover.clear()\n",
    "\n",
    "        #store new resutls\n",
    "        bigzone_name.append(new_name)\n",
    "        subCover.extend(within[zone_name[i]])\n",
    "\n",
    "    old_name = new_name\n",
    "\n",
    "# handle the lastest case\n",
    "bigCover.append(subCover)\n",
    "\n",
    "\n",
    "big_within = dict(zip(bigzone_name, bigCover))"
   ]
  },
  {
   "cell_type": "code",
   "execution_count": 16,
   "metadata": {},
   "outputs": [],
   "source": [
    "ODM_big = dict()\n",
    "for i in range(0, len(bigzone_name)):\n",
    "    element = dict()\n",
    "    for j in range(i, len(bigzone_name)):\n",
    "        if i == j:\n",
    "            average_daily_trips = 0\n",
    "            for begin in range(0, len(big_within[bigzone_name[i]])):\n",
    "                for end in range(begin + 1, len(big_within[bigzone_name[i]])):\n",
    "                    average_daily_trips = average_daily_trips + ODM_tot[big_within[bigzone_name[i]][begin]][big_within[bigzone_name[i]][end]]\n",
    "\n",
    "            element[bigzone_name[j]] = 2 * average_daily_trips\n",
    "        if i != j:\n",
    "            average_daily_trips = 0\n",
    "            for begin in range(0, len(big_within[bigzone_name[i]])):\n",
    "                for end in range(0, len(big_within[bigzone_name[j]])):\n",
    "                    average_daily_trips = average_daily_trips + ODM_tot[big_within[bigzone_name[i]][begin]][big_within[bigzone_name[j]][end]]\n",
    "            element[bigzone_name[j]] = average_daily_trips\n",
    "\n",
    "    ODM_big[bigzone_name[i]] = element\n",
    "\n",
    "with open('../results/ODM_big.txt', 'w') as f:\n",
    "   for k in ODM_big.keys():\n",
    "       for i in ODM_big[k].keys():\n",
    "           f.write(str(k))\n",
    "           f.write('\\t')\n",
    "           f.write(str(i)) \n",
    "           f.write('\\t')\n",
    "           f.write(str(ODM_big[k][i]))\n",
    "           f.write('\\n')  "
   ]
  }
 ],
 "metadata": {
  "interpreter": {
   "hash": "1f2e54c80dc52ecb462da69c78d850336b81dad0767d9071405d7a4130722d43"
  },
  "kernelspec": {
   "display_name": "Python 3.9.10 ('geolab')",
   "language": "python",
   "name": "python3"
  },
  "language_info": {
   "codemirror_mode": {
    "name": "ipython",
    "version": 3
   },
   "file_extension": ".py",
   "mimetype": "text/x-python",
   "name": "python",
   "nbconvert_exporter": "python",
   "pygments_lexer": "ipython3",
   "version": "3.9.10"
  },
  "orig_nbformat": 4
 },
 "nbformat": 4,
 "nbformat_minor": 2
}
