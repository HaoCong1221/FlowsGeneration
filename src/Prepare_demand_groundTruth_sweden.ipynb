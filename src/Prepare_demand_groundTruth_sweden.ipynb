{
 "cells": [
  {
   "cell_type": "code",
   "execution_count": 1,
   "metadata": {},
   "outputs": [],
   "source": [
    "import sys\n",
    "sys.path.append('../lib/')\n",
    "\n",
    "import pandas as pd\n",
    "import numpy as np\n",
    "import geopandas as gpd\n",
    "\n",
    "import math\n",
    "\n",
    "import scipy.interpolate\n",
    "from copy import deepcopy"
   ]
  },
  {
   "cell_type": "code",
   "execution_count": 3,
   "metadata": {},
   "outputs": [],
   "source": [
    "zones = gpd.read_file('../dbs/sweden/zones/DeSO/DeSO_2018_v2.shp')\n",
    "#zones.loc[:, 'deso_3'] = zones.loc[:, 'deso'].apply(lambda x: x[:2])\n",
    "#zones_subset = zones.loc[zones['deso_3'] == '14', :]\n",
    "#zones_subset_info = dict(zip(zones_subset['deso'], zones_subset['geometry']))\n",
    "#zone_name = list(zones_subset['deso'])\n",
    "\n",
    "zones_info = dict(zip(zones['deso'], zones['geometry']))\n",
    "zone_name = list(zones['deso'])\n",
    "\n",
    "zones = zones.rename(columns={\"deso\": \"zone\"})[['zone', 'geometry']]\n",
    "\n",
    "\n",
    "trips = pd.read_csv(\"../dbs/sweden/survey/day_trips.csv\")\n",
    "trips = trips.loc[:, [\"sub_id\", 'trip_id', 'trip_main_id', 'distance_main',\n",
    "                              'date', \"origin_main_deso\", \"desti_main_deso\", 'trip_weight']]\n",
    "trips = trips.drop_duplicates(subset=[\"sub_id\", 'trip_id', 'trip_main_id'])\n",
    "trips[\"T\"] = trips[\"date\"].apply(lambda x: pd.to_datetime(x))\n",
    "trips = trips.loc[~trips[\"T\"].apply(lambda x: x.weekday()).isin([5, 6]), :]\n",
    "trips.dropna(axis=0, how='any', inplace=True)\n",
    "\n",
    "odms = trips.groupby(['origin_main_deso', 'desti_main_deso']).sum()['trip_weight']\n",
    "odms = odms.reindex(pd.MultiIndex.from_product([zones.zone, zones.zone], names=['ozone', 'dzone']), fill_value=0)\n"
   ]
  },
  {
   "cell_type": "code",
   "execution_count": 4,
   "metadata": {},
   "outputs": [],
   "source": [
    "ODM = dict()\n",
    "for i in range(0, len(zone_name)):\n",
    "    element = dict()\n",
    "    for j in range(0, len(zone_name)):\n",
    "        element[zone_name[j]] = odms.at[zone_name[i], zone_name[j]]\n",
    "    ODM[zone_name[i]] = element\n",
    "\n",
    "\n",
    "bigzone_name = []\n",
    "bigCover = []\n",
    "subCover = []\n",
    "old_name = zone_name[0][0:5]\n",
    "\n",
    "bigzone_name.append(old_name)\n",
    "subCover.append(zone_name[0])\n",
    "\n",
    "for i in range(1, len(zone_name)):\n",
    "    new_name = zone_name[i][0:5]\n",
    "\n",
    "    if new_name == old_name:\n",
    "        # this two zones belong the same big zone\n",
    "        subCover.append(zone_name[i])\n",
    "\n",
    "    if new_name != old_name:\n",
    "        # find a new big zone\n",
    "        #store old results\n",
    "        bigCover.append(deepcopy(subCover))\n",
    "        subCover.clear()\n",
    "\n",
    "        #store new resutls\n",
    "        bigzone_name.append(new_name)\n",
    "        subCover.append(zone_name[i])\n",
    "\n",
    "    old_name = new_name\n",
    "\n",
    "# handle the lastest case\n",
    "bigCover.append(subCover)\n",
    "\n",
    "\n",
    "big_within = dict(zip(bigzone_name, bigCover))"
   ]
  },
  {
   "cell_type": "code",
   "execution_count": null,
   "metadata": {},
   "outputs": [],
   "source": [
    "print(big_within)"
   ]
  },
  {
   "cell_type": "code",
   "execution_count": 5,
   "metadata": {},
   "outputs": [],
   "source": [
    "geometry = dict(zip(zone_name, zones.geometry))"
   ]
  },
  {
   "cell_type": "code",
   "execution_count": 6,
   "metadata": {},
   "outputs": [],
   "source": [
    "df_data = pd.read_csv('../results/distance_ratio_data.csv')\n",
    "df_simulation = pd.read_csv('../results/distance_ratio_simulation.csv')\n",
    "\n",
    "\n",
    "sp_data_sweden = scipy.interpolate.interp1d(df_data.loc[df_data.country == 'sweden', ['distance']].values.reshape(-1),\n",
    "                                            df_data.loc[df_data.country == 'sweden', ['ratio']].values.reshape(-1), bounds_error = False, fill_value = 1.5)\n",
    "\n",
    "sp_data_simulation = scipy.interpolate.interp1d(df_simulation.loc[:, ['distance']].values.reshape(-1),\n",
    "                                                df_simulation.loc[:, ['ratio']].values.reshape(-1), bounds_error = False, fill_value = 1.5)"
   ]
  },
  {
   "cell_type": "code",
   "execution_count": 7,
   "metadata": {},
   "outputs": [],
   "source": [
    "ODM_truth = dict()\n",
    "travelDemand_d = dict()\n",
    "travelDemand_D = dict()\n",
    "travelDemand_D_simulation = dict()\n",
    "for i in range(0, len(bigzone_name)):\n",
    "    element = dict()\n",
    "    element1 = dict()\n",
    "    element2 = dict()\n",
    "    element3 = dict()\n",
    "    for j in range(0, len(bigzone_name)):\n",
    "        average_daily_trips = 0\n",
    "        demand_d = 0\n",
    "        demand_D = 0\n",
    "        demand_D_simultion = 0\n",
    "        if i == j:\n",
    "            for begin in range(0, len(big_within[bigzone_name[i]])):\n",
    "                for end in range(0, len(big_within[bigzone_name[i]])):\n",
    "                    if begin != end:\n",
    "                        average_daily_trips = average_daily_trips + ODM[big_within[bigzone_name[i]][begin]][big_within[bigzone_name[i]][end]]\n",
    "\n",
    "                        deltax = (geometry[big_within[bigzone_name[i]][begin]].centroid.x - geometry[big_within[bigzone_name[j]][end]].centroid.x) / 1000                    \n",
    "                        deltay = (geometry[big_within[bigzone_name[i]][begin]].centroid.y - geometry[big_within[bigzone_name[j]][end]].centroid.y) / 1000\n",
    "                    \n",
    "                        distance = math.sqrt(deltax * deltax + deltay * deltay)\n",
    "                        demand_d = demand_d + ODM[big_within[bigzone_name[i]][begin]][big_within[bigzone_name[j]][end]] * distance\n",
    "                        demand_D = demand_D + ODM[big_within[bigzone_name[i]][begin]][big_within[bigzone_name[j]][end]] * float(sp_data_sweden(distance)) * distance\n",
    "                        demand_D_simultion = demand_D_simultion + ODM[big_within[bigzone_name[i]][begin]][big_within[bigzone_name[j]][end]] * float(sp_data_simulation(distance)) * distance\n",
    "                    else:\n",
    "                        average_daily_trips = average_daily_trips + ODM[big_within[bigzone_name[i]][begin]][big_within[bigzone_name[i]][end]]\n",
    "        if i != j:\n",
    "            for begin in range(0, len(big_within[bigzone_name[i]])):\n",
    "                for end in range(0, len(big_within[bigzone_name[j]])):\n",
    "                    average_daily_trips = average_daily_trips + ODM[big_within[bigzone_name[i]][begin]][big_within[bigzone_name[j]][end]]\n",
    "\n",
    "                    deltax = (geometry[big_within[bigzone_name[i]][begin]].centroid.x - geometry[big_within[bigzone_name[j]][end]].centroid.x) / 1000                    \n",
    "                    deltay = (geometry[big_within[bigzone_name[i]][begin]].centroid.y - geometry[big_within[bigzone_name[j]][end]].centroid.y) / 1000\n",
    "                    \n",
    "                    distance = math.sqrt(deltax * deltax + deltay * deltay)\n",
    "                    demand_d = demand_d + ODM[big_within[bigzone_name[i]][begin]][big_within[bigzone_name[j]][end]] * distance\n",
    "                    demand_D = demand_D + ODM[big_within[bigzone_name[i]][begin]][big_within[bigzone_name[j]][end]] * float(sp_data_sweden(distance)) * distance\n",
    "                    demand_D_simultion = demand_D_simultion + ODM[big_within[bigzone_name[i]][begin]][big_within[bigzone_name[j]][end]] * float(sp_data_simulation(distance)) * distance\n",
    "        \n",
    "        element[bigzone_name[j]] = average_daily_trips\n",
    "        element1[bigzone_name[j]] = demand_d\n",
    "        element2[bigzone_name[j]] = demand_D\n",
    "        element3[bigzone_name[j]] = demand_D_simultion\n",
    "\n",
    "    ODM_truth[bigzone_name[i]] = element\n",
    "    travelDemand_d[bigzone_name[i]] = element1\n",
    "    travelDemand_D[bigzone_name[i]] = element2\n",
    "    travelDemand_D_simulation[bigzone_name[i]] = element3\n",
    "\n"
   ]
  },
  {
   "cell_type": "code",
   "execution_count": 8,
   "metadata": {},
   "outputs": [],
   "source": [
    "benchmark = np.zeros(len(bigzone_name)*len(bigzone_name))   \n",
    "benchmark_d = np.zeros(len(bigzone_name)*len(bigzone_name))   \n",
    "benchmark_D = np.zeros(len(bigzone_name)*len(bigzone_name))   \n",
    "benchmark_D_simulation = np.zeros(len(bigzone_name)*len(bigzone_name))   \n",
    "for i in range(0, len(bigzone_name)):\n",
    "    for j in range(0, len(bigzone_name)):\n",
    "            benchmark[i + j * len(bigzone_name)] = ODM_truth[bigzone_name[i]][bigzone_name[j]]\n",
    "            benchmark_d[i + j * len(bigzone_name)] = travelDemand_d[bigzone_name[i]][bigzone_name[j]]\n",
    "            benchmark_D[i + j * len(bigzone_name)] = travelDemand_D[bigzone_name[i]][bigzone_name[j]]\n",
    "            benchmark_D_simulation[i + j * len(bigzone_name)] = travelDemand_D_simulation[bigzone_name[i]][bigzone_name[j]]"
   ]
  },
  {
   "cell_type": "code",
   "execution_count": 9,
   "metadata": {},
   "outputs": [],
   "source": [
    "np.savetxt('../results/benchmark_sweden.txt', benchmark)\n",
    "np.savetxt('../results/benchmark_d_sweden.txt', benchmark_d)\n",
    "np.savetxt('../results/benchmark_D_survey_sweden.txt', benchmark_D)\n",
    "np.savetxt('../results/benchmark_D_simulation_sweden.txt', benchmark_D_simulation)"
   ]
  }
 ],
 "metadata": {
  "interpreter": {
   "hash": "1f2e54c80dc52ecb462da69c78d850336b81dad0767d9071405d7a4130722d43"
  },
  "kernelspec": {
   "display_name": "Python 3.9.10 ('geolab')",
   "language": "python",
   "name": "python3"
  },
  "language_info": {
   "codemirror_mode": {
    "name": "ipython",
    "version": 3
   },
   "file_extension": ".py",
   "mimetype": "text/x-python",
   "name": "python",
   "nbconvert_exporter": "python",
   "pygments_lexer": "ipython3",
   "version": "3.9.10"
  },
  "orig_nbformat": 4
 },
 "nbformat": 4,
 "nbformat_minor": 2
}
