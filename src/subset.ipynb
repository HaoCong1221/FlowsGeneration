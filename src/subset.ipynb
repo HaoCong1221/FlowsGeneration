{
 "cells": [
  {
   "cell_type": "code",
   "execution_count": 32,
   "metadata": {},
   "outputs": [],
   "source": [
    "import sys\n",
    "sys.path.append('../lib/')\n",
    "\n",
    "import pandas as pd\n",
    "import numpy as np\n",
    "import geopandas as gpd\n",
    "\n",
    "import workers\n",
    "import v_ij\n",
    "import math\n",
    "import sweden\n",
    "\n",
    "from shapely.geometry import Point\n",
    "import gc"
   ]
  },
  {
   "cell_type": "markdown",
   "metadata": {},
   "source": [
    "### load Zone"
   ]
  },
  {
   "cell_type": "code",
   "execution_count": 2,
   "metadata": {},
   "outputs": [],
   "source": [
    "grids = gpd.read_file('../results/grids_vgr_2km_density_deso5.shp')\n"
   ]
  },
  {
   "cell_type": "code",
   "execution_count": 13,
   "metadata": {},
   "outputs": [
    {
     "data": {
      "text/html": [
       "<div>\n",
       "<style scoped>\n",
       "    .dataframe tbody tr th:only-of-type {\n",
       "        vertical-align: middle;\n",
       "    }\n",
       "\n",
       "    .dataframe tbody tr th {\n",
       "        vertical-align: top;\n",
       "    }\n",
       "\n",
       "    .dataframe thead th {\n",
       "        text-align: right;\n",
       "    }\n",
       "</style>\n",
       "<table border=\"1\" class=\"dataframe\">\n",
       "  <thead>\n",
       "    <tr style=\"text-align: right;\">\n",
       "      <th></th>\n",
       "      <th>density</th>\n",
       "      <th>zone</th>\n",
       "      <th>deso_5</th>\n",
       "      <th>geometry</th>\n",
       "    </tr>\n",
       "  </thead>\n",
       "  <tbody>\n",
       "    <tr>\n",
       "      <th>0</th>\n",
       "      <td>26.055</td>\n",
       "      <td>1</td>\n",
       "      <td>1401A</td>\n",
       "      <td>POLYGON ((342000.000 6390000.000, 342000.000 6...</td>\n",
       "    </tr>\n",
       "    <tr>\n",
       "      <th>1</th>\n",
       "      <td>26.055</td>\n",
       "      <td>2</td>\n",
       "      <td>1401A</td>\n",
       "      <td>POLYGON ((342000.000 6396000.000, 342000.000 6...</td>\n",
       "    </tr>\n",
       "    <tr>\n",
       "      <th>2</th>\n",
       "      <td>26.055</td>\n",
       "      <td>3</td>\n",
       "      <td>1401A</td>\n",
       "      <td>POLYGON ((344000.000 6390000.000, 344000.000 6...</td>\n",
       "    </tr>\n",
       "    <tr>\n",
       "      <th>3</th>\n",
       "      <td>26.055</td>\n",
       "      <td>4</td>\n",
       "      <td>1401A</td>\n",
       "      <td>POLYGON ((344000.000 6392000.000, 344000.000 6...</td>\n",
       "    </tr>\n",
       "    <tr>\n",
       "      <th>4</th>\n",
       "      <td>26.055</td>\n",
       "      <td>5</td>\n",
       "      <td>1401A</td>\n",
       "      <td>POLYGON ((344000.000 6394000.000, 344000.000 6...</td>\n",
       "    </tr>\n",
       "  </tbody>\n",
       "</table>\n",
       "</div>"
      ],
      "text/plain": [
       "   density  zone deso_5                                           geometry\n",
       "0   26.055     1  1401A  POLYGON ((342000.000 6390000.000, 342000.000 6...\n",
       "1   26.055     2  1401A  POLYGON ((342000.000 6396000.000, 342000.000 6...\n",
       "2   26.055     3  1401A  POLYGON ((344000.000 6390000.000, 344000.000 6...\n",
       "3   26.055     4  1401A  POLYGON ((344000.000 6392000.000, 344000.000 6...\n",
       "4   26.055     5  1401A  POLYGON ((344000.000 6394000.000, 344000.000 6..."
      ]
     },
     "execution_count": 13,
     "metadata": {},
     "output_type": "execute_result"
    }
   ],
   "source": [
    "grids.head()"
   ]
  },
  {
   "cell_type": "markdown",
   "metadata": {},
   "source": [
    "### Get distance between zones"
   ]
  },
  {
   "cell_type": "code",
   "execution_count": 3,
   "metadata": {},
   "outputs": [
    {
     "name": "stdout",
     "output_type": "stream",
     "text": [
      "Calculating distances between zones...\n"
     ]
    }
   ],
   "source": [
    "# This gives a stacked version\n",
    "distances = workers.zone_distances(grids)\n",
    "# This gives a matrix-style dataframe\n",
    "df_d = distances.unstack(level=1)"
   ]
  },
  {
   "cell_type": "markdown",
   "metadata": {},
   "source": [
    "### Get area and average radius"
   ]
  },
  {
   "cell_type": "code",
   "execution_count": 5,
   "metadata": {},
   "outputs": [],
   "source": [
    "area = 4 # km\n",
    "\n",
    "# A=pi*r_average^2\n",
    "\n",
    "r_average = math.sqrt(area/math.pi) # km"
   ]
  },
  {
   "cell_type": "markdown",
   "metadata": {},
   "source": [
    "### Get population density and geometry"
   ]
  },
  {
   "cell_type": "code",
   "execution_count": 41,
   "metadata": {},
   "outputs": [],
   "source": [
    "population_density = dict(zip(grids.zone, grids.density))\n",
    "geometry = dict(zip(grids.zone, grids.geometry))"
   ]
  },
  {
   "cell_type": "markdown",
   "metadata": {},
   "source": [
    "### Get $v^{tot}_{ij}$"
   ]
  },
  {
   "cell_type": "code",
   "execution_count": 48,
   "metadata": {},
   "outputs": [],
   "source": [
    "# parameter = ln(f_max/f_min), f_min = 1/T, f_max = 1 T = 1000\n",
    "T = 1000\n",
    "f_max = 1\n",
    "f_min = 1/T\n",
    "parameter = math.log(f_max / f_min)\n",
    "\n",
    "ODM_data = []\n",
    "for i in grids['zone']:\n",
    "    for j in grids['zone']:\n",
    "        element = dict()\n",
    "        element['origin_grid'] = i\n",
    "        element['desti_grid'] = j\n",
    "        if i != j:\n",
    "            # filter out the error divide by zero\n",
    "            element['trip_weight'] = v_ij.average_daily_trips(population_density[j], area, r_average, df_d[i][j], parameter) + v_ij.average_daily_trips(population_density[i], area, r_average, df_d[i][j], parameter)\n",
    "        if i == j:\n",
    "            element['trip_weight'] = 0\n",
    "        ODM_data.append(element)\n",
    "ODM_subset = pd.DataFrame(ODM_data)"
   ]
  },
  {
   "cell_type": "markdown",
   "metadata": {},
   "source": [
    "### Save ODM_subset between grids"
   ]
  },
  {
   "cell_type": "code",
   "execution_count": 49,
   "metadata": {},
   "outputs": [],
   "source": [
    "ODM_subset.to_csv(\"../results/ODM_subset.csv\", index=False)"
   ]
  },
  {
   "cell_type": "code",
   "execution_count": 54,
   "metadata": {},
   "outputs": [
    {
     "data": {
      "text/html": [
       "<div>\n",
       "<style scoped>\n",
       "    .dataframe tbody tr th:only-of-type {\n",
       "        vertical-align: middle;\n",
       "    }\n",
       "\n",
       "    .dataframe tbody tr th {\n",
       "        vertical-align: top;\n",
       "    }\n",
       "\n",
       "    .dataframe thead th {\n",
       "        text-align: right;\n",
       "    }\n",
       "</style>\n",
       "<table border=\"1\" class=\"dataframe\">\n",
       "  <thead>\n",
       "    <tr style=\"text-align: right;\">\n",
       "      <th></th>\n",
       "      <th>origin_grid</th>\n",
       "      <th>desti_grid</th>\n",
       "      <th>trip_weight</th>\n",
       "    </tr>\n",
       "  </thead>\n",
       "  <tbody>\n",
       "    <tr>\n",
       "      <th>0</th>\n",
       "      <td>1</td>\n",
       "      <td>1</td>\n",
       "      <td>0.000000</td>\n",
       "    </tr>\n",
       "    <tr>\n",
       "      <th>1</th>\n",
       "      <td>1</td>\n",
       "      <td>2</td>\n",
       "      <td>50.924365</td>\n",
       "    </tr>\n",
       "    <tr>\n",
       "      <th>2</th>\n",
       "      <td>1</td>\n",
       "      <td>3</td>\n",
       "      <td>458.319289</td>\n",
       "    </tr>\n",
       "    <tr>\n",
       "      <th>3</th>\n",
       "      <td>1</td>\n",
       "      <td>4</td>\n",
       "      <td>229.159644</td>\n",
       "    </tr>\n",
       "    <tr>\n",
       "      <th>4</th>\n",
       "      <td>1</td>\n",
       "      <td>5</td>\n",
       "      <td>91.663858</td>\n",
       "    </tr>\n",
       "  </tbody>\n",
       "</table>\n",
       "</div>"
      ],
      "text/plain": [
       "   origin_grid  desti_grid  trip_weight\n",
       "0            1           1     0.000000\n",
       "1            1           2    50.924365\n",
       "2            1           3   458.319289\n",
       "3            1           4   229.159644\n",
       "4            1           5    91.663858"
      ]
     },
     "execution_count": 54,
     "metadata": {},
     "output_type": "execute_result"
    }
   ],
   "source": [
    "ODM_subset.head()"
   ]
  },
  {
   "cell_type": "markdown",
   "metadata": {},
   "source": [
    "### Test get value"
   ]
  },
  {
   "cell_type": "code",
   "execution_count": 70,
   "metadata": {},
   "outputs": [
    {
     "name": "stdout",
     "output_type": "stream",
     "text": [
      "0.0\n"
     ]
    }
   ],
   "source": [
    "i = 1\n",
    "j = 1\n",
    "a = ODM_subset.loc[ (ODM_subset['origin_grid'] == i) & (ODM_subset['desti_grid'] == j)].at[0, 'trip_weight']"
   ]
  },
  {
   "cell_type": "markdown",
   "metadata": {},
   "source": [
    "## Load ODM_subset"
   ]
  },
  {
   "cell_type": "code",
   "execution_count": 12,
   "metadata": {},
   "outputs": [],
   "source": [
    "ODM_subset = pd.read_csv(\"../results/ODM_subset.csv\")"
   ]
  },
  {
   "cell_type": "code",
   "execution_count": 71,
   "metadata": {},
   "outputs": [
    {
     "data": {
      "text/html": [
       "<div>\n",
       "<style scoped>\n",
       "    .dataframe tbody tr th:only-of-type {\n",
       "        vertical-align: middle;\n",
       "    }\n",
       "\n",
       "    .dataframe tbody tr th {\n",
       "        vertical-align: top;\n",
       "    }\n",
       "\n",
       "    .dataframe thead th {\n",
       "        text-align: right;\n",
       "    }\n",
       "</style>\n",
       "<table border=\"1\" class=\"dataframe\">\n",
       "  <thead>\n",
       "    <tr style=\"text-align: right;\">\n",
       "      <th></th>\n",
       "      <th>origin_grid</th>\n",
       "      <th>desti_grid</th>\n",
       "      <th>trip_weight</th>\n",
       "    </tr>\n",
       "  </thead>\n",
       "  <tbody>\n",
       "    <tr>\n",
       "      <th>0</th>\n",
       "      <td>1</td>\n",
       "      <td>1</td>\n",
       "      <td>0.000000</td>\n",
       "    </tr>\n",
       "    <tr>\n",
       "      <th>1</th>\n",
       "      <td>1</td>\n",
       "      <td>2</td>\n",
       "      <td>50.924365</td>\n",
       "    </tr>\n",
       "    <tr>\n",
       "      <th>2</th>\n",
       "      <td>1</td>\n",
       "      <td>3</td>\n",
       "      <td>458.319289</td>\n",
       "    </tr>\n",
       "    <tr>\n",
       "      <th>3</th>\n",
       "      <td>1</td>\n",
       "      <td>4</td>\n",
       "      <td>229.159644</td>\n",
       "    </tr>\n",
       "    <tr>\n",
       "      <th>4</th>\n",
       "      <td>1</td>\n",
       "      <td>5</td>\n",
       "      <td>91.663858</td>\n",
       "    </tr>\n",
       "  </tbody>\n",
       "</table>\n",
       "</div>"
      ],
      "text/plain": [
       "   origin_grid  desti_grid  trip_weight\n",
       "0            1           1     0.000000\n",
       "1            1           2    50.924365\n",
       "2            1           3   458.319289\n",
       "3            1           4   229.159644\n",
       "4            1           5    91.663858"
      ]
     },
     "execution_count": 71,
     "metadata": {},
     "output_type": "execute_result"
    }
   ],
   "source": [
    "ODM_subset.head()"
   ]
  },
  {
   "cell_type": "markdown",
   "metadata": {},
   "source": [
    "### Load Sweden VGR zone data"
   ]
  },
  {
   "cell_type": "code",
   "execution_count": 72,
   "metadata": {},
   "outputs": [
    {
     "data": {
      "text/plain": [
       "3347"
      ]
     },
     "execution_count": 72,
     "metadata": {},
     "output_type": "execute_result"
    }
   ],
   "source": [
    "zones = gpd.read_file('../dbs/sweden/zones/DeSO/DeSO_2018_v2.shp')\n",
    "zones.loc[:, 'deso_3'] = zones.loc[:, 'deso'].apply(lambda x: x[:2])\n",
    "zones_subset = zones.loc[zones['deso_3'] == '14', :]\n",
    "zones_subset_info = dict(zip(zones_subset['deso'], zones_subset['geometry']))\n",
    "zone_name = zones_subset['deso']\n",
    "del zones_subset\n",
    "gc.collect()"
   ]
  },
  {
   "cell_type": "markdown",
   "metadata": {},
   "source": [
    "### Get zone level $V_{ij}$"
   ]
  },
  {
   "cell_type": "code",
   "execution_count": 79,
   "metadata": {},
   "outputs": [],
   "source": [
    "cover = []\n",
    "for i in zone_name:\n",
    "    sub_cover = []\n",
    "    for j in grids.zone:\n",
    "        point_j = Point(geometry[j].centroid.x, geometry[j].centroid.y)\n",
    "        if zones_subset_info[i].contains(point_j) == True:\n",
    "            sub_cover.append(j)\n",
    "    cover.append(sub_cover)"
   ]
  },
  {
   "cell_type": "code",
   "execution_count": 81,
   "metadata": {},
   "outputs": [],
   "source": [
    "within = dict(zip(zone_name, cover))"
   ]
  },
  {
   "cell_type": "code",
   "execution_count": 90,
   "metadata": {},
   "outputs": [
    {
     "name": "stdout",
     "output_type": "stream",
     "text": [
      "51.924365410142634\n"
     ]
    }
   ],
   "source": [
    "a = 1\n",
    "a = a + float(ODM_subset.loc[ (ODM_subset['origin_grid'] == 1) & (ODM_subset['desti_grid'] == 2)]['trip_weight'])\n",
    "print(a)"
   ]
  },
  {
   "cell_type": "code",
   "execution_count": 91,
   "metadata": {},
   "outputs": [
    {
     "ename": "KeyboardInterrupt",
     "evalue": "",
     "output_type": "error",
     "traceback": [
      "\u001b[1;31m---------------------------------------------------------------------------\u001b[0m",
      "\u001b[1;31mKeyboardInterrupt\u001b[0m                         Traceback (most recent call last)",
      "\u001b[1;32mc:\\Users\\cheng\\Desktop\\123\\FlowsGeneration\\src\\subset.ipynb Cell 27'\u001b[0m in \u001b[0;36m<cell line: 2>\u001b[1;34m()\u001b[0m\n\u001b[0;32m     <a href='vscode-notebook-cell:/c%3A/Users/cheng/Desktop/123/FlowsGeneration/src/subset.ipynb#ch0000034?line=13'>14</a>\u001b[0m             \u001b[39mfor\u001b[39;00m ii \u001b[39min\u001b[39;00m within[i]:\n\u001b[0;32m     <a href='vscode-notebook-cell:/c%3A/Users/cheng/Desktop/123/FlowsGeneration/src/subset.ipynb#ch0000034?line=14'>15</a>\u001b[0m                 \u001b[39mfor\u001b[39;00m jj \u001b[39min\u001b[39;00m within[j]:\n\u001b[1;32m---> <a href='vscode-notebook-cell:/c%3A/Users/cheng/Desktop/123/FlowsGeneration/src/subset.ipynb#ch0000034?line=15'>16</a>\u001b[0m                     element[\u001b[39m'\u001b[39m\u001b[39mtrip_weight\u001b[39m\u001b[39m'\u001b[39m] \u001b[39m=\u001b[39m element[\u001b[39m'\u001b[39m\u001b[39mtrip_weight\u001b[39m\u001b[39m'\u001b[39m] \u001b[39m+\u001b[39m \u001b[39mfloat\u001b[39m(ODM_subset\u001b[39m.\u001b[39;49mloc[ (ODM_subset[\u001b[39m'\u001b[39;49m\u001b[39morigin_grid\u001b[39;49m\u001b[39m'\u001b[39;49m] \u001b[39m==\u001b[39;49m ii) \u001b[39m&\u001b[39;49m (ODM_subset[\u001b[39m'\u001b[39;49m\u001b[39mdesti_grid\u001b[39;49m\u001b[39m'\u001b[39;49m] \u001b[39m==\u001b[39;49m jj)][\u001b[39m'\u001b[39m\u001b[39mtrip_weight\u001b[39m\u001b[39m'\u001b[39m])\n\u001b[0;32m     <a href='vscode-notebook-cell:/c%3A/Users/cheng/Desktop/123/FlowsGeneration/src/subset.ipynb#ch0000034?line=16'>17</a>\u001b[0m         ODM_tmp\u001b[39m.\u001b[39mappend(element)\n\u001b[0;32m     <a href='vscode-notebook-cell:/c%3A/Users/cheng/Desktop/123/FlowsGeneration/src/subset.ipynb#ch0000034?line=17'>18</a>\u001b[0m ODM_grid \u001b[39m=\u001b[39m pd\u001b[39m.\u001b[39mDataFrame(ODM_tmp)\n",
      "File \u001b[1;32m~\\anaconda3\\envs\\geolab\\lib\\site-packages\\pandas\\core\\indexing.py:967\u001b[0m, in \u001b[0;36m_LocationIndexer.__getitem__\u001b[1;34m(self, key)\u001b[0m\n\u001b[0;32m    <a href='file:///c%3A/Users/cheng/anaconda3/envs/geolab/lib/site-packages/pandas/core/indexing.py?line=963'>964</a>\u001b[0m axis \u001b[39m=\u001b[39m \u001b[39mself\u001b[39m\u001b[39m.\u001b[39maxis \u001b[39mor\u001b[39;00m \u001b[39m0\u001b[39m\n\u001b[0;32m    <a href='file:///c%3A/Users/cheng/anaconda3/envs/geolab/lib/site-packages/pandas/core/indexing.py?line=965'>966</a>\u001b[0m maybe_callable \u001b[39m=\u001b[39m com\u001b[39m.\u001b[39mapply_if_callable(key, \u001b[39mself\u001b[39m\u001b[39m.\u001b[39mobj)\n\u001b[1;32m--> <a href='file:///c%3A/Users/cheng/anaconda3/envs/geolab/lib/site-packages/pandas/core/indexing.py?line=966'>967</a>\u001b[0m \u001b[39mreturn\u001b[39;00m \u001b[39mself\u001b[39;49m\u001b[39m.\u001b[39;49m_getitem_axis(maybe_callable, axis\u001b[39m=\u001b[39;49maxis)\n",
      "File \u001b[1;32m~\\anaconda3\\envs\\geolab\\lib\\site-packages\\pandas\\core\\indexing.py:1182\u001b[0m, in \u001b[0;36m_LocIndexer._getitem_axis\u001b[1;34m(self, key, axis)\u001b[0m\n\u001b[0;32m   <a href='file:///c%3A/Users/cheng/anaconda3/envs/geolab/lib/site-packages/pandas/core/indexing.py?line=1179'>1180</a>\u001b[0m     \u001b[39mreturn\u001b[39;00m \u001b[39mself\u001b[39m\u001b[39m.\u001b[39m_get_slice_axis(key, axis\u001b[39m=\u001b[39maxis)\n\u001b[0;32m   <a href='file:///c%3A/Users/cheng/anaconda3/envs/geolab/lib/site-packages/pandas/core/indexing.py?line=1180'>1181</a>\u001b[0m \u001b[39melif\u001b[39;00m com\u001b[39m.\u001b[39mis_bool_indexer(key):\n\u001b[1;32m-> <a href='file:///c%3A/Users/cheng/anaconda3/envs/geolab/lib/site-packages/pandas/core/indexing.py?line=1181'>1182</a>\u001b[0m     \u001b[39mreturn\u001b[39;00m \u001b[39mself\u001b[39;49m\u001b[39m.\u001b[39;49m_getbool_axis(key, axis\u001b[39m=\u001b[39;49maxis)\n\u001b[0;32m   <a href='file:///c%3A/Users/cheng/anaconda3/envs/geolab/lib/site-packages/pandas/core/indexing.py?line=1182'>1183</a>\u001b[0m \u001b[39melif\u001b[39;00m is_list_like_indexer(key):\n\u001b[0;32m   <a href='file:///c%3A/Users/cheng/anaconda3/envs/geolab/lib/site-packages/pandas/core/indexing.py?line=1183'>1184</a>\u001b[0m \n\u001b[0;32m   <a href='file:///c%3A/Users/cheng/anaconda3/envs/geolab/lib/site-packages/pandas/core/indexing.py?line=1184'>1185</a>\u001b[0m     \u001b[39m# an iterable multi-selection\u001b[39;00m\n\u001b[0;32m   <a href='file:///c%3A/Users/cheng/anaconda3/envs/geolab/lib/site-packages/pandas/core/indexing.py?line=1185'>1186</a>\u001b[0m     \u001b[39mif\u001b[39;00m \u001b[39mnot\u001b[39;00m (\u001b[39misinstance\u001b[39m(key, \u001b[39mtuple\u001b[39m) \u001b[39mand\u001b[39;00m \u001b[39misinstance\u001b[39m(labels, MultiIndex)):\n",
      "File \u001b[1;32m~\\anaconda3\\envs\\geolab\\lib\\site-packages\\pandas\\core\\indexing.py:985\u001b[0m, in \u001b[0;36m_LocationIndexer._getbool_axis\u001b[1;34m(self, key, axis)\u001b[0m\n\u001b[0;32m    <a href='file:///c%3A/Users/cheng/anaconda3/envs/geolab/lib/site-packages/pandas/core/indexing.py?line=982'>983</a>\u001b[0m labels \u001b[39m=\u001b[39m \u001b[39mself\u001b[39m\u001b[39m.\u001b[39mobj\u001b[39m.\u001b[39m_get_axis(axis)\n\u001b[0;32m    <a href='file:///c%3A/Users/cheng/anaconda3/envs/geolab/lib/site-packages/pandas/core/indexing.py?line=983'>984</a>\u001b[0m key \u001b[39m=\u001b[39m check_bool_indexer(labels, key)\n\u001b[1;32m--> <a href='file:///c%3A/Users/cheng/anaconda3/envs/geolab/lib/site-packages/pandas/core/indexing.py?line=984'>985</a>\u001b[0m inds \u001b[39m=\u001b[39m key\u001b[39m.\u001b[39;49mnonzero()[\u001b[39m0\u001b[39m]\n\u001b[0;32m    <a href='file:///c%3A/Users/cheng/anaconda3/envs/geolab/lib/site-packages/pandas/core/indexing.py?line=985'>986</a>\u001b[0m \u001b[39mreturn\u001b[39;00m \u001b[39mself\u001b[39m\u001b[39m.\u001b[39mobj\u001b[39m.\u001b[39m_take_with_is_copy(inds, axis\u001b[39m=\u001b[39maxis)\n",
      "\u001b[1;31mKeyboardInterrupt\u001b[0m: "
     ]
    }
   ],
   "source": [
    "ODM_tmp = []\n",
    "for i in range(0, len(zone_name)):\n",
    "    for j in range(i + 1, len(zone_name)):\n",
    "        element = dict()\n",
    "        element['origin_main_deso'] = zone_name[i]\n",
    "        element['desti_main_deso'] = zone_name[j]\n",
    "        element['trip_weight'] = 0\n",
    "\n",
    "        if len(within[zone_name[i]]) != 0 and len(within[zone_name[j]]) != 0:\n",
    "            for ii in within[zone_name[i]]:\n",
    "                for jj in within[zone_name[j]]:\n",
    "                    element['trip_weight'] = element['trip_weight'] + float(ODM_subset.loc[ (ODM_subset['origin_grid'] == ii) & (ODM_subset['desti_grid'] == jj)]['trip_weight'])\n",
    "        ODM_tmp.append(element)\n",
    "ODM_grid = pd.DataFrame(ODM_tmp)"
   ]
  },
  {
   "cell_type": "code",
   "execution_count": null,
   "metadata": {},
   "outputs": [],
   "source": [
    "ODM_grid.to_csv('../results/ODM_grid.csv', index=False)"
   ]
  },
  {
   "cell_type": "code",
   "execution_count": null,
   "metadata": {},
   "outputs": [],
   "source": [
    "ODM_grid = pd.read_csv('../results/ODM_grid.csv')"
   ]
  },
  {
   "cell_type": "code",
   "execution_count": null,
   "metadata": {},
   "outputs": [],
   "source": [
    "# Initialise an object for storing the ground-truth data including zones\n",
    "data_sweden = sweden.GroundTruthLoader()\n",
    "# Load ground-truth survey data into ODM form\n",
    "data_sweden.load_odm()\n",
    "\n",
    "tmp_data = []\n",
    "for i in range(0, len(zone_name)):\n",
    "    for j in range(i + 1, len(zone_name)):\n",
    "        tmp_data.append( float(data_sweden.odm.loc[ (data_sweden.odm['ozone'] == zone_name[i]) & (data_sweden.odm['dzone'] == zone_name[j])]['trip_weight']) )\n",
    "\n",
    "survey_data = np.array(tmp_data)"
   ]
  },
  {
   "cell_type": "code",
   "execution_count": null,
   "metadata": {},
   "outputs": [],
   "source": [
    "tmp_data1 = []\n",
    "for i in range(0, len(zone_name)):\n",
    "    for j in range(i + 1, len(zone_name)):\n",
    "        tmp_data1.append(float(ODM_grid.loc[ (data_sweden.odm['origin_grid'] == zone_name[i]) & (data_sweden.odm['desti_grid'] == zone_name[j])]['trip_weight']))\n",
    "model_data = np.array(tmp_data1)"
   ]
  },
  {
   "cell_type": "code",
   "execution_count": null,
   "metadata": {},
   "outputs": [],
   "source": [
    "import matplotlib.pyplot as plt\n",
    "# delete 0\n",
    "index = []\n",
    "length = len(survey_data)\n",
    "for i in range(0, length):\n",
    "    if survey_data[i] == 0:\n",
    "        index.append(i)\n",
    "\n",
    "survey_data = np.delete(survey_data, index)\n",
    "model_data = np.delete(model_data, index)\n",
    "\n",
    "probability_model = np.divide(model_data, model_data.sum())\n",
    "\n",
    "\n",
    "fig, ax = plt.subplots(figsize=(10, 10))\n",
    "plt.xscale('log')\n",
    "plt.yscale('log')\n",
    "ax.scatter(survey_data, probability_model, facecolor='C0', edgecolor='k')"
   ]
  },
  {
   "cell_type": "code",
   "execution_count": null,
   "metadata": {},
   "outputs": [],
   "source": [
    "model_sum = np.sum(probability_model)\n",
    "survey_sum = np.sum(survey_data)\n",
    "\n",
    "numerator = 0\n",
    "denominator = 0\n",
    "\n",
    "for i in range(0, len(survey_data)):\n",
    "    v_model = probability_model[i]\n",
    "    v_survey = survey_data[i]\n",
    "\n",
    "    numerator  = numerator + min(v_survey, v_model)\n",
    "\n",
    "denominator = model_sum + survey_sum\n",
    "\n",
    "SSI = 2 * numerator / denominator\n",
    "print(SSI)"
   ]
  },
  {
   "cell_type": "code",
   "execution_count": null,
   "metadata": {},
   "outputs": [],
   "source": [
    "from scipy.stats import spearmanr\n",
    "from scipy.stats import kendalltau\n",
    "\n",
    "\n",
    "coef, p = spearmanr(probability_model, survey_data)\n",
    "alpha = 0.05\n",
    "\n",
    "print(\"Spearmans correlation coefficient: %.3f\" % coef)\n",
    "if p > alpha:\n",
    "    print('Samples are uncorrelated (fail to reject H0) p=%.3f' % p)\n",
    "else:\n",
    "    print('Samples are correlated (reject H0) p=%.3f' % p )\n",
    "\n",
    "\n",
    "coef, p = kendalltau(probability_model, survey_data)\n",
    "alpha = 0.05\n",
    "\n",
    "print(\"Kendalltau correlation coefficient: %.3f\" % coef)\n",
    "if p > alpha:\n",
    "    print('Samples are uncorrelated (fail to reject H0) p=%.3f' % p)\n",
    "else:\n",
    "    print('Samples are correlated (reject H0) p=%.3f' % p )"
   ]
  }
 ],
 "metadata": {
  "interpreter": {
   "hash": "1f2e54c80dc52ecb462da69c78d850336b81dad0767d9071405d7a4130722d43"
  },
  "kernelspec": {
   "display_name": "Python 3.9.10 ('geolab')",
   "language": "python",
   "name": "python3"
  },
  "language_info": {
   "codemirror_mode": {
    "name": "ipython",
    "version": 3
   },
   "file_extension": ".py",
   "mimetype": "text/x-python",
   "name": "python",
   "nbconvert_exporter": "python",
   "pygments_lexer": "ipython3",
   "version": "3.9.10"
  },
  "orig_nbformat": 4
 },
 "nbformat": 4,
 "nbformat_minor": 2
}
