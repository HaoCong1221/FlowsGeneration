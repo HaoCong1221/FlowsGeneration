{
 "cells": [
  {
   "cell_type": "markdown",
   "metadata": {
    "pycharm": {
     "name": "#%% md\n"
    }
   },
   "source": [
    "# Descriptive analysis of the data used\n",
    "\n",
    "Load GIS data, explore their structure, and test the flow generation method."
   ]
  },
  {
   "cell_type": "code",
   "execution_count": 2,
   "metadata": {},
   "outputs": [],
   "source": [
    "import sys"
   ]
  },
  {
   "cell_type": "code",
   "execution_count": 3,
   "metadata": {},
   "outputs": [],
   "source": [
    "sys.path.append('../lib/')"
   ]
  },
  {
   "cell_type": "code",
   "execution_count": 1,
   "metadata": {
    "collapsed": false,
    "jupyter": {
     "outputs_hidden": false
    },
    "pycharm": {
     "name": "#%%\n"
    }
   },
   "outputs": [],
   "source": [
    "import pandas as pd\n",
    "import numpy as np\n",
    "import numpy.matlib\n",
    "%load_ext autoreload\n",
    "%autoreload 2"
   ]
  },
  {
   "cell_type": "code",
   "execution_count": 5,
   "metadata": {
    "collapsed": false,
    "jupyter": {
     "outputs_hidden": false
    },
    "pycharm": {
     "name": "#%%\n"
    }
   },
   "outputs": [],
   "source": [
    "# Import self-defined libraries\n",
    "import sweden\n",
    "import netherlands\n",
    "import workers\n",
    "import v_ij"
   ]
  },
  {
   "cell_type": "markdown",
   "metadata": {
    "pycharm": {
     "name": "#%% md\n"
    }
   },
   "source": [
    "## 1. Load spatial zones and ground-truth data for Sweden\n",
    "Check `lib\\sweden.py` for what the below lines do."
   ]
  },
  {
   "cell_type": "code",
   "execution_count": 6,
   "metadata": {
    "collapsed": false,
    "jupyter": {
     "outputs_hidden": false
    },
    "pycharm": {
     "name": "#%%\n"
    }
   },
   "outputs": [
    {
     "name": "stdout",
     "output_type": "stream",
     "text": [
      "origin_main_deso  desti_main_deso\n",
      "0114A0010         0114C1170          182551.736842\n",
      "                  0163C1140          810292.236111\n",
      "                  0163C1170          182927.555556\n",
      "                  0163C1350           94404.100629\n",
      "                  0163C1380           23397.135431\n",
      "Name: trip_weight, dtype: float64\n",
      "ozone      dzone    \n",
      "0114A0010  0114A0010    0.0\n",
      "           0114C1010    0.0\n",
      "           0114C1020    0.0\n",
      "           0114C1030    0.0\n",
      "           0114C1040    0.0\n",
      "Name: trip_weight, dtype: float64\n"
     ]
    }
   ],
   "source": [
    "# Initialise an object for storing the ground-truth data including zones\n",
    "data_sweden = sweden.GroundTruthLoader()\n",
    "\n",
    "# Load zones\n",
    "data_sweden.load_zones()\n",
    "\n",
    "# Create boundary for later use\n",
    "data_sweden.create_boundary()\n",
    "\n",
    "# Load ground-truth survey data into ODM form\n",
    "data_sweden.load_odm()"
   ]
  },
  {
   "cell_type": "markdown",
   "metadata": {
    "pycharm": {
     "name": "#%% md\n"
    }
   },
   "source": [
    "### 1.1 Check spatial zones and population"
   ]
  },
  {
   "cell_type": "code",
   "execution_count": 7,
   "metadata": {
    "collapsed": false,
    "jupyter": {
     "outputs_hidden": false
    },
    "pycharm": {
     "name": "#%%\n"
    }
   },
   "outputs": [
    {
     "data": {
      "text/html": [
       "<div>\n",
       "<style scoped>\n",
       "    .dataframe tbody tr th:only-of-type {\n",
       "        vertical-align: middle;\n",
       "    }\n",
       "\n",
       "    .dataframe tbody tr th {\n",
       "        vertical-align: top;\n",
       "    }\n",
       "\n",
       "    .dataframe thead th {\n",
       "        text-align: right;\n",
       "    }\n",
       "</style>\n",
       "<table border=\"1\" class=\"dataframe\">\n",
       "  <thead>\n",
       "    <tr style=\"text-align: right;\">\n",
       "      <th></th>\n",
       "      <th>zone</th>\n",
       "      <th>geometry</th>\n",
       "    </tr>\n",
       "  </thead>\n",
       "  <tbody>\n",
       "    <tr>\n",
       "      <th>0</th>\n",
       "      <td>0114A0010</td>\n",
       "      <td>POLYGON ((661116.252 6606615.603, 661171.409 6...</td>\n",
       "    </tr>\n",
       "    <tr>\n",
       "      <th>1</th>\n",
       "      <td>0114C1010</td>\n",
       "      <td>POLYGON ((666960.066 6598800.393, 666971.371 6...</td>\n",
       "    </tr>\n",
       "    <tr>\n",
       "      <th>2</th>\n",
       "      <td>0114C1020</td>\n",
       "      <td>POLYGON ((667034.814 6600076.634, 667032.984 6...</td>\n",
       "    </tr>\n",
       "    <tr>\n",
       "      <th>3</th>\n",
       "      <td>0114C1030</td>\n",
       "      <td>POLYGON ((667095.512 6599103.521, 667095.009 6...</td>\n",
       "    </tr>\n",
       "    <tr>\n",
       "      <th>4</th>\n",
       "      <td>0114C1040</td>\n",
       "      <td>POLYGON ((664610.264 6600922.821, 664638.910 6...</td>\n",
       "    </tr>\n",
       "  </tbody>\n",
       "</table>\n",
       "</div>"
      ],
      "text/plain": [
       "        zone                                           geometry\n",
       "0  0114A0010  POLYGON ((661116.252 6606615.603, 661171.409 6...\n",
       "1  0114C1010  POLYGON ((666960.066 6598800.393, 666971.371 6...\n",
       "2  0114C1020  POLYGON ((667034.814 6600076.634, 667032.984 6...\n",
       "3  0114C1030  POLYGON ((667095.512 6599103.521, 667095.009 6...\n",
       "4  0114C1040  POLYGON ((664610.264 6600922.821, 664638.910 6..."
      ]
     },
     "execution_count": 7,
     "metadata": {},
     "output_type": "execute_result"
    }
   ],
   "source": [
    "data_sweden.zones.head()"
   ]
  },
  {
   "cell_type": "code",
   "execution_count": 8,
   "metadata": {
    "collapsed": false,
    "jupyter": {
     "outputs_hidden": false
    },
    "pycharm": {
     "name": "#%%\n"
    }
   },
   "outputs": [
    {
     "data": {
      "text/html": [
       "<div>\n",
       "<style scoped>\n",
       "    .dataframe tbody tr th:only-of-type {\n",
       "        vertical-align: middle;\n",
       "    }\n",
       "\n",
       "    .dataframe tbody tr th {\n",
       "        vertical-align: top;\n",
       "    }\n",
       "\n",
       "    .dataframe thead th {\n",
       "        text-align: right;\n",
       "    }\n",
       "</style>\n",
       "<table border=\"1\" class=\"dataframe\">\n",
       "  <thead>\n",
       "    <tr style=\"text-align: right;\">\n",
       "      <th></th>\n",
       "      <th>zone</th>\n",
       "      <th>pop</th>\n",
       "    </tr>\n",
       "  </thead>\n",
       "  <tbody>\n",
       "    <tr>\n",
       "      <th>0</th>\n",
       "      <td>0114A0010</td>\n",
       "      <td>790</td>\n",
       "    </tr>\n",
       "    <tr>\n",
       "      <th>1</th>\n",
       "      <td>0114C1010</td>\n",
       "      <td>1608</td>\n",
       "    </tr>\n",
       "    <tr>\n",
       "      <th>2</th>\n",
       "      <td>0114C1020</td>\n",
       "      <td>1610</td>\n",
       "    </tr>\n",
       "    <tr>\n",
       "      <th>3</th>\n",
       "      <td>0114C1030</td>\n",
       "      <td>2365</td>\n",
       "    </tr>\n",
       "    <tr>\n",
       "      <th>4</th>\n",
       "      <td>0114C1040</td>\n",
       "      <td>2346</td>\n",
       "    </tr>\n",
       "  </tbody>\n",
       "</table>\n",
       "</div>"
      ],
      "text/plain": [
       "        zone   pop\n",
       "0  0114A0010   790\n",
       "1  0114C1010  1608\n",
       "2  0114C1020  1610\n",
       "3  0114C1030  2365\n",
       "4  0114C1040  2346"
      ]
     },
     "execution_count": 8,
     "metadata": {},
     "output_type": "execute_result"
    }
   ],
   "source": [
    "# Load population data\n",
    "data_sweden.load_population()\n",
    "data_sweden.population.head()"
   ]
  },
  {
   "cell_type": "markdown",
   "metadata": {
    "pycharm": {
     "name": "#%% md\n"
    }
   },
   "source": [
    "### 1.2 Calculate distances between zones\n",
    "Figure out how you use the output data."
   ]
  },
  {
   "cell_type": "code",
   "execution_count": 9,
   "metadata": {
    "collapsed": false,
    "jupyter": {
     "outputs_hidden": false
    },
    "pycharm": {
     "name": "#%%\n"
    }
   },
   "outputs": [
    {
     "name": "stdout",
     "output_type": "stream",
     "text": [
      "Calculating distances between zones...\n"
     ]
    }
   ],
   "source": [
    "# This gives a stacked version\n",
    "distances = workers.zone_distances(data_sweden.zones)"
   ]
  },
  {
   "cell_type": "code",
   "execution_count": 10,
   "metadata": {
    "collapsed": false,
    "jupyter": {
     "outputs_hidden": false
    },
    "pycharm": {
     "name": "#%%\n"
    }
   },
   "outputs": [
    {
     "data": {
      "text/html": [
       "<div>\n",
       "<style scoped>\n",
       "    .dataframe tbody tr th:only-of-type {\n",
       "        vertical-align: middle;\n",
       "    }\n",
       "\n",
       "    .dataframe tbody tr th {\n",
       "        vertical-align: top;\n",
       "    }\n",
       "\n",
       "    .dataframe thead th {\n",
       "        text-align: right;\n",
       "    }\n",
       "</style>\n",
       "<table border=\"1\" class=\"dataframe\">\n",
       "  <thead>\n",
       "    <tr style=\"text-align: right;\">\n",
       "      <th>zone</th>\n",
       "      <th>0114A0010</th>\n",
       "      <th>0114C1010</th>\n",
       "      <th>0114C1020</th>\n",
       "      <th>0114C1030</th>\n",
       "      <th>0114C1040</th>\n",
       "      <th>0114C1050</th>\n",
       "      <th>0114C1060</th>\n",
       "      <th>0114C1070</th>\n",
       "      <th>0114C1080</th>\n",
       "      <th>0114C1090</th>\n",
       "      <th>...</th>\n",
       "      <th>2584C1020</th>\n",
       "      <th>2584C1030</th>\n",
       "      <th>2584C1040</th>\n",
       "      <th>2584C1050</th>\n",
       "      <th>2584C1060</th>\n",
       "      <th>2584C1070</th>\n",
       "      <th>2584C1090</th>\n",
       "      <th>2584C1100</th>\n",
       "      <th>2584C1110</th>\n",
       "      <th>2584C1130</th>\n",
       "    </tr>\n",
       "    <tr>\n",
       "      <th>zone</th>\n",
       "      <th></th>\n",
       "      <th></th>\n",
       "      <th></th>\n",
       "      <th></th>\n",
       "      <th></th>\n",
       "      <th></th>\n",
       "      <th></th>\n",
       "      <th></th>\n",
       "      <th></th>\n",
       "      <th></th>\n",
       "      <th></th>\n",
       "      <th></th>\n",
       "      <th></th>\n",
       "      <th></th>\n",
       "      <th></th>\n",
       "      <th></th>\n",
       "      <th></th>\n",
       "      <th></th>\n",
       "      <th></th>\n",
       "      <th></th>\n",
       "      <th></th>\n",
       "    </tr>\n",
       "  </thead>\n",
       "  <tbody>\n",
       "    <tr>\n",
       "      <th>0114A0010</th>\n",
       "      <td>0.000000</td>\n",
       "      <td>4.795251</td>\n",
       "      <td>3.548429</td>\n",
       "      <td>4.160562</td>\n",
       "      <td>2.703179</td>\n",
       "      <td>4.783886</td>\n",
       "      <td>1.849689</td>\n",
       "      <td>2.923878</td>\n",
       "      <td>2.159032</td>\n",
       "      <td>1.674308</td>\n",
       "      <td>...</td>\n",
       "      <td>933.767042</td>\n",
       "      <td>933.828072</td>\n",
       "      <td>935.067203</td>\n",
       "      <td>935.416006</td>\n",
       "      <td>935.630309</td>\n",
       "      <td>935.620128</td>\n",
       "      <td>936.859131</td>\n",
       "      <td>936.431609</td>\n",
       "      <td>936.568693</td>\n",
       "      <td>937.598973</td>\n",
       "    </tr>\n",
       "    <tr>\n",
       "      <th>0114C1010</th>\n",
       "      <td>4.795251</td>\n",
       "      <td>0.000000</td>\n",
       "      <td>1.343363</td>\n",
       "      <td>0.686608</td>\n",
       "      <td>2.451822</td>\n",
       "      <td>1.246766</td>\n",
       "      <td>3.968650</td>\n",
       "      <td>2.079711</td>\n",
       "      <td>2.668393</td>\n",
       "      <td>3.291240</td>\n",
       "      <td>...</td>\n",
       "      <td>937.070798</td>\n",
       "      <td>937.137238</td>\n",
       "      <td>938.379341</td>\n",
       "      <td>938.733022</td>\n",
       "      <td>938.942200</td>\n",
       "      <td>938.922048</td>\n",
       "      <td>940.174915</td>\n",
       "      <td>939.742567</td>\n",
       "      <td>939.882250</td>\n",
       "      <td>940.918898</td>\n",
       "    </tr>\n",
       "    <tr>\n",
       "      <th>0114C1020</th>\n",
       "      <td>3.548429</td>\n",
       "      <td>1.343363</td>\n",
       "      <td>0.000000</td>\n",
       "      <td>0.657756</td>\n",
       "      <td>1.693341</td>\n",
       "      <td>1.362823</td>\n",
       "      <td>3.073683</td>\n",
       "      <td>0.737077</td>\n",
       "      <td>1.389539</td>\n",
       "      <td>1.969922</td>\n",
       "      <td>...</td>\n",
       "      <td>935.881658</td>\n",
       "      <td>935.947128</td>\n",
       "      <td>937.188698</td>\n",
       "      <td>937.541507</td>\n",
       "      <td>937.751603</td>\n",
       "      <td>937.733240</td>\n",
       "      <td>938.983622</td>\n",
       "      <td>938.552138</td>\n",
       "      <td>938.691355</td>\n",
       "      <td>939.726864</td>\n",
       "    </tr>\n",
       "  </tbody>\n",
       "</table>\n",
       "<p>3 rows × 5984 columns</p>\n",
       "</div>"
      ],
      "text/plain": [
       "zone       0114A0010  0114C1010  0114C1020  0114C1030  0114C1040  0114C1050  \\\n",
       "zone                                                                          \n",
       "0114A0010   0.000000   4.795251   3.548429   4.160562   2.703179   4.783886   \n",
       "0114C1010   4.795251   0.000000   1.343363   0.686608   2.451822   1.246766   \n",
       "0114C1020   3.548429   1.343363   0.000000   0.657756   1.693341   1.362823   \n",
       "\n",
       "zone       0114C1060  0114C1070  0114C1080  0114C1090  ...   2584C1020  \\\n",
       "zone                                                   ...               \n",
       "0114A0010   1.849689   2.923878   2.159032   1.674308  ...  933.767042   \n",
       "0114C1010   3.968650   2.079711   2.668393   3.291240  ...  937.070798   \n",
       "0114C1020   3.073683   0.737077   1.389539   1.969922  ...  935.881658   \n",
       "\n",
       "zone        2584C1030   2584C1040   2584C1050   2584C1060   2584C1070  \\\n",
       "zone                                                                    \n",
       "0114A0010  933.828072  935.067203  935.416006  935.630309  935.620128   \n",
       "0114C1010  937.137238  938.379341  938.733022  938.942200  938.922048   \n",
       "0114C1020  935.947128  937.188698  937.541507  937.751603  937.733240   \n",
       "\n",
       "zone        2584C1090   2584C1100   2584C1110   2584C1130  \n",
       "zone                                                       \n",
       "0114A0010  936.859131  936.431609  936.568693  937.598973  \n",
       "0114C1010  940.174915  939.742567  939.882250  940.918898  \n",
       "0114C1020  938.983622  938.552138  938.691355  939.726864  \n",
       "\n",
       "[3 rows x 5984 columns]"
      ]
     },
     "execution_count": 10,
     "metadata": {},
     "output_type": "execute_result"
    }
   ],
   "source": [
    "# This gives a matrix-style dataframe\n",
    "df_d = distances.unstack(level=1)\n",
    "df_d.head(3)"
   ]
  },
  {
   "cell_type": "markdown",
   "metadata": {
    "pycharm": {
     "name": "#%% md\n"
    }
   },
   "source": [
    "## 2. Load spatial zones and ground-truth data for the Netherlands\n",
    "Try this yourself."
   ]
  },
  {
   "cell_type": "code",
   "execution_count": 12,
   "metadata": {
    "collapsed": false,
    "jupyter": {
     "outputs_hidden": false
    },
    "pycharm": {
     "name": "#%%\n"
    }
   },
   "outputs": [
    {
     "name": "stderr",
     "output_type": "stream",
     "text": [
      "c:\\Users\\laptop\\Desktop\\FlowsGeneration\\src\\../lib\\netherlands.py:61: SettingWithCopyWarning: \n",
      "A value is trying to be set on a copy of a slice from a DataFrame.\n",
      "Try using .loc[row_indexer,col_indexer] = value instead\n",
      "\n",
      "See the caveats in the documentation: https://pandas.pydata.org/pandas-docs/stable/user_guide/indexing.html#returning-a-view-versus-a-copy\n",
      "  trips_d.loc[:, 'distance'] = trips_d.loc[:, 'distance'] / 10 # hectometer to km\n"
     ]
    },
    {
     "name": "stdout",
     "output_type": "stream",
     "text": [
      "origin_zip  dest_zip\n",
      "0           0           1.921383e+08\n",
      "            1011        3.320952e+05\n",
      "            1012        3.363486e+05\n",
      "            1013        1.961443e+05\n",
      "            1015        5.766617e+05\n",
      "Name: weight_trip, dtype: float64\n",
      "ozone  dzone\n",
      "1011   1011     2.084926e+06\n",
      "       1012     8.106812e+05\n",
      "       1013     6.175562e+04\n",
      "       1014     0.000000e+00\n",
      "       1015     0.000000e+00\n",
      "Name: weight_trip, dtype: float64\n"
     ]
    }
   ],
   "source": [
    "data_netherlands = netherlands.GroundTruthLoader()\n",
    "data_netherlands.load_zones()\n",
    "data_netherlands.create_boundary()\n",
    "data_netherlands.load_odm()"
   ]
  },
  {
   "cell_type": "markdown",
   "metadata": {},
   "source": [
    "### Get mu"
   ]
  },
  {
   "cell_type": "code",
   "execution_count": 11,
   "metadata": {},
   "outputs": [
    {
     "name": "stdout",
     "output_type": "stream",
     "text": [
      "197.5\n"
     ]
    }
   ],
   "source": [
    "population = np.array(data_sweden.population['pop'])\n",
    "#print(population)\n",
    "#print(type(population))\n",
    "#print(population[0])\n",
    "\n",
    "mu = np.zeros((1, len(population)))\n",
    "for i in range(0, len(population)):\n",
    "    mu[0, i] = v_ij.magnitude_of_flows(population[i], 0.5, 1)\n",
    "print(mu[0,0])"
   ]
  },
  {
   "cell_type": "markdown",
   "metadata": {},
   "source": [
    "### 2.1 Check spatial zones and population"
   ]
  },
  {
   "cell_type": "code",
   "execution_count": 13,
   "metadata": {},
   "outputs": [
    {
     "data": {
      "text/html": [
       "<div>\n",
       "<style scoped>\n",
       "    .dataframe tbody tr th:only-of-type {\n",
       "        vertical-align: middle;\n",
       "    }\n",
       "\n",
       "    .dataframe tbody tr th {\n",
       "        vertical-align: top;\n",
       "    }\n",
       "\n",
       "    .dataframe thead th {\n",
       "        text-align: right;\n",
       "    }\n",
       "</style>\n",
       "<table border=\"1\" class=\"dataframe\">\n",
       "  <thead>\n",
       "    <tr style=\"text-align: right;\">\n",
       "      <th></th>\n",
       "      <th>zone</th>\n",
       "      <th>geometry</th>\n",
       "    </tr>\n",
       "  </thead>\n",
       "  <tbody>\n",
       "    <tr>\n",
       "      <th>0</th>\n",
       "      <td>1011</td>\n",
       "      <td>POLYGON ((122246.232 487910.177, 122259.064 48...</td>\n",
       "    </tr>\n",
       "    <tr>\n",
       "      <th>1</th>\n",
       "      <td>1012</td>\n",
       "      <td>POLYGON ((121995.029 488243.202, 121999.664 48...</td>\n",
       "    </tr>\n",
       "    <tr>\n",
       "      <th>2</th>\n",
       "      <td>1013</td>\n",
       "      <td>MULTIPOLYGON (((120506.219 489494.551, 120495....</td>\n",
       "    </tr>\n",
       "    <tr>\n",
       "      <th>3</th>\n",
       "      <td>1014</td>\n",
       "      <td>MULTIPOLYGON (((120390.113 489860.746, 120387....</td>\n",
       "    </tr>\n",
       "    <tr>\n",
       "      <th>4</th>\n",
       "      <td>1015</td>\n",
       "      <td>POLYGON ((120665.642 488535.500, 120668.785 48...</td>\n",
       "    </tr>\n",
       "  </tbody>\n",
       "</table>\n",
       "</div>"
      ],
      "text/plain": [
       "   zone                                           geometry\n",
       "0  1011  POLYGON ((122246.232 487910.177, 122259.064 48...\n",
       "1  1012  POLYGON ((121995.029 488243.202, 121999.664 48...\n",
       "2  1013  MULTIPOLYGON (((120506.219 489494.551, 120495....\n",
       "3  1014  MULTIPOLYGON (((120390.113 489860.746, 120387....\n",
       "4  1015  POLYGON ((120665.642 488535.500, 120668.785 48..."
      ]
     },
     "execution_count": 13,
     "metadata": {},
     "output_type": "execute_result"
    }
   ],
   "source": [
    "data_netherlands.zones.head()"
   ]
  },
  {
   "cell_type": "markdown",
   "metadata": {},
   "source": [
    "### 1.2 Calculate distance between zones"
   ]
  },
  {
   "cell_type": "code",
   "execution_count": 14,
   "metadata": {},
   "outputs": [
    {
     "name": "stdout",
     "output_type": "stream",
     "text": [
      "Calculating distances between zones...\n"
     ]
    }
   ],
   "source": [
    "distances_netherlands = workers.zone_distances(data_netherlands.zones)"
   ]
  },
  {
   "cell_type": "code",
   "execution_count": 15,
   "metadata": {},
   "outputs": [
    {
     "data": {
      "text/html": [
       "<div>\n",
       "<style scoped>\n",
       "    .dataframe tbody tr th:only-of-type {\n",
       "        vertical-align: middle;\n",
       "    }\n",
       "\n",
       "    .dataframe tbody tr th {\n",
       "        vertical-align: top;\n",
       "    }\n",
       "\n",
       "    .dataframe thead th {\n",
       "        text-align: right;\n",
       "    }\n",
       "</style>\n",
       "<table border=\"1\" class=\"dataframe\">\n",
       "  <thead>\n",
       "    <tr style=\"text-align: right;\">\n",
       "      <th>zone</th>\n",
       "      <th>1011</th>\n",
       "      <th>1012</th>\n",
       "      <th>1013</th>\n",
       "      <th>1014</th>\n",
       "      <th>1015</th>\n",
       "      <th>1016</th>\n",
       "      <th>1017</th>\n",
       "      <th>1018</th>\n",
       "      <th>1019</th>\n",
       "      <th>1021</th>\n",
       "      <th>...</th>\n",
       "      <th>5354</th>\n",
       "      <th>5355</th>\n",
       "      <th>5356</th>\n",
       "      <th>5357</th>\n",
       "      <th>5358</th>\n",
       "      <th>5359</th>\n",
       "      <th>7515</th>\n",
       "      <th>9614</th>\n",
       "      <th>9622</th>\n",
       "      <th>9875</th>\n",
       "    </tr>\n",
       "    <tr>\n",
       "      <th>zone</th>\n",
       "      <th></th>\n",
       "      <th></th>\n",
       "      <th></th>\n",
       "      <th></th>\n",
       "      <th></th>\n",
       "      <th></th>\n",
       "      <th></th>\n",
       "      <th></th>\n",
       "      <th></th>\n",
       "      <th></th>\n",
       "      <th></th>\n",
       "      <th></th>\n",
       "      <th></th>\n",
       "      <th></th>\n",
       "      <th></th>\n",
       "      <th></th>\n",
       "      <th></th>\n",
       "      <th></th>\n",
       "      <th></th>\n",
       "      <th></th>\n",
       "      <th></th>\n",
       "    </tr>\n",
       "  </thead>\n",
       "  <tbody>\n",
       "    <tr>\n",
       "      <th>1011</th>\n",
       "      <td>0.000000</td>\n",
       "      <td>0.736195</td>\n",
       "      <td>3.463281</td>\n",
       "      <td>3.789964</td>\n",
       "      <td>1.683830</td>\n",
       "      <td>1.679005</td>\n",
       "      <td>1.347231</td>\n",
       "      <td>0.946711</td>\n",
       "      <td>2.129366</td>\n",
       "      <td>1.552923</td>\n",
       "      <td>...</td>\n",
       "      <td>79.592635</td>\n",
       "      <td>80.764175</td>\n",
       "      <td>83.751075</td>\n",
       "      <td>84.440641</td>\n",
       "      <td>82.259187</td>\n",
       "      <td>85.711523</td>\n",
       "      <td>136.694490</td>\n",
       "      <td>152.311820</td>\n",
       "      <td>154.214447</td>\n",
       "      <td>167.483723</td>\n",
       "    </tr>\n",
       "    <tr>\n",
       "      <th>1012</th>\n",
       "      <td>0.736195</td>\n",
       "      <td>0.000000</td>\n",
       "      <td>2.840138</td>\n",
       "      <td>3.068867</td>\n",
       "      <td>0.947979</td>\n",
       "      <td>1.088997</td>\n",
       "      <td>1.316826</td>\n",
       "      <td>1.680319</td>\n",
       "      <td>2.788404</td>\n",
       "      <td>1.868855</td>\n",
       "      <td>...</td>\n",
       "      <td>80.246246</td>\n",
       "      <td>81.419357</td>\n",
       "      <td>84.406759</td>\n",
       "      <td>85.092560</td>\n",
       "      <td>82.906605</td>\n",
       "      <td>86.367695</td>\n",
       "      <td>137.399150</td>\n",
       "      <td>152.651621</td>\n",
       "      <td>154.547095</td>\n",
       "      <td>167.898772</td>\n",
       "    </tr>\n",
       "    <tr>\n",
       "      <th>1013</th>\n",
       "      <td>3.463281</td>\n",
       "      <td>2.840138</td>\n",
       "      <td>0.000000</td>\n",
       "      <td>1.199129</td>\n",
       "      <td>2.116596</td>\n",
       "      <td>2.916134</td>\n",
       "      <td>3.937533</td>\n",
       "      <td>4.353719</td>\n",
       "      <td>4.903717</td>\n",
       "      <td>3.405588</td>\n",
       "      <td>...</td>\n",
       "      <td>83.055130</td>\n",
       "      <td>84.226292</td>\n",
       "      <td>87.213047</td>\n",
       "      <td>87.903447</td>\n",
       "      <td>85.722444</td>\n",
       "      <td>89.173350</td>\n",
       "      <td>139.137789</td>\n",
       "      <td>152.266395</td>\n",
       "      <td>154.130760</td>\n",
       "      <td>167.847776</td>\n",
       "    </tr>\n",
       "  </tbody>\n",
       "</table>\n",
       "<p>3 rows × 4066 columns</p>\n",
       "</div>"
      ],
      "text/plain": [
       "zone      1011      1012      1013      1014      1015      1016      1017  \\\n",
       "zone                                                                         \n",
       "1011  0.000000  0.736195  3.463281  3.789964  1.683830  1.679005  1.347231   \n",
       "1012  0.736195  0.000000  2.840138  3.068867  0.947979  1.088997  1.316826   \n",
       "1013  3.463281  2.840138  0.000000  1.199129  2.116596  2.916134  3.937533   \n",
       "\n",
       "zone      1018      1019      1021  ...       5354       5355       5356  \\\n",
       "zone                                ...                                    \n",
       "1011  0.946711  2.129366  1.552923  ...  79.592635  80.764175  83.751075   \n",
       "1012  1.680319  2.788404  1.868855  ...  80.246246  81.419357  84.406759   \n",
       "1013  4.353719  4.903717  3.405588  ...  83.055130  84.226292  87.213047   \n",
       "\n",
       "zone       5357       5358       5359        7515        9614        9622  \\\n",
       "zone                                                                        \n",
       "1011  84.440641  82.259187  85.711523  136.694490  152.311820  154.214447   \n",
       "1012  85.092560  82.906605  86.367695  137.399150  152.651621  154.547095   \n",
       "1013  87.903447  85.722444  89.173350  139.137789  152.266395  154.130760   \n",
       "\n",
       "zone        9875  \n",
       "zone              \n",
       "1011  167.483723  \n",
       "1012  167.898772  \n",
       "1013  167.847776  \n",
       "\n",
       "[3 rows x 4066 columns]"
      ]
     },
     "execution_count": 15,
     "metadata": {},
     "output_type": "execute_result"
    }
   ],
   "source": [
    "df_d_netherlands = distances_netherlands.unstack(level=1)\n",
    "df_d_netherlands.head(3)"
   ]
  }
 ],
 "metadata": {
  "kernelspec": {
   "display_name": "Python 3",
   "language": "python",
   "name": "python3"
  },
  "language_info": {
   "codemirror_mode": {
    "name": "ipython",
    "version": 3
   },
   "file_extension": ".py",
   "mimetype": "text/x-python",
   "name": "python",
   "nbconvert_exporter": "python",
   "pygments_lexer": "ipython3",
   "version": "3.9.10"
  }
 },
 "nbformat": 4,
 "nbformat_minor": 4
}
