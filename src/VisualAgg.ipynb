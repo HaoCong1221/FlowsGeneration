{
 "cells": [
  {
   "cell_type": "markdown",
   "metadata": {
    "collapsed": true,
    "pycharm": {
     "name": "#%% md\n"
    }
   },
   "source": [
    "# Create a subset of deso zones and 1 km x 1 km grids"
   ]
  },
  {
   "cell_type": "code",
   "execution_count": 1,
   "metadata": {
    "collapsed": false,
    "pycharm": {
     "name": "#%%\n"
    }
   },
   "outputs": [
    {
     "name": "stdout",
     "output_type": "stream",
     "text": [
      "D:\\FlowsGeneration\n"
     ]
    }
   ],
   "source": [
    "%load_ext autoreload\n",
    "%autoreload 2\n",
    "%matplotlib inline\n",
    "%cd D:\\FlowsGeneration"
   ]
  },
  {
   "cell_type": "code",
   "execution_count": 2,
   "metadata": {
    "collapsed": false,
    "pycharm": {
     "name": "#%%\n"
    }
   },
   "outputs": [],
   "source": [
    "import geopandas as gpd"
   ]
  },
  {
   "cell_type": "markdown",
   "metadata": {
    "collapsed": false,
    "pycharm": {
     "name": "#%% md\n"
    }
   },
   "source": [
    "## 1. Load DeSO zones and get the subset of VGR"
   ]
  },
  {
   "cell_type": "code",
   "execution_count": 22,
   "metadata": {
    "collapsed": false,
    "pycharm": {
     "name": "#%%\n"
    }
   },
   "outputs": [
    {
     "data": {
      "text/html": [
       "<div>\n",
       "<style scoped>\n",
       "    .dataframe tbody tr th:only-of-type {\n",
       "        vertical-align: middle;\n",
       "    }\n",
       "\n",
       "    .dataframe tbody tr th {\n",
       "        vertical-align: top;\n",
       "    }\n",
       "\n",
       "    .dataframe thead th {\n",
       "        text-align: right;\n",
       "    }\n",
       "</style>\n",
       "<table border=\"1\" class=\"dataframe\">\n",
       "  <thead>\n",
       "    <tr style=\"text-align: right;\">\n",
       "      <th></th>\n",
       "      <th>id</th>\n",
       "      <th>objectid</th>\n",
       "      <th>uuid</th>\n",
       "      <th>deso</th>\n",
       "      <th>befolkning</th>\n",
       "      <th>version</th>\n",
       "      <th>geometry</th>\n",
       "    </tr>\n",
       "  </thead>\n",
       "  <tbody>\n",
       "    <tr>\n",
       "      <th>0</th>\n",
       "      <td>1.0</td>\n",
       "      <td>1</td>\n",
       "      <td>{D9661502-EE24-45AE-A1F7-C1C80F463556}</td>\n",
       "      <td>0114A0010</td>\n",
       "      <td>790</td>\n",
       "      <td>2018_v2</td>\n",
       "      <td>POLYGON ((661116.252 6606615.603, 661171.409 6...</td>\n",
       "    </tr>\n",
       "    <tr>\n",
       "      <th>1</th>\n",
       "      <td>2.0</td>\n",
       "      <td>2</td>\n",
       "      <td>{5EA47309-A001-4E2A-843E-02EC8F544E4C}</td>\n",
       "      <td>0114C1010</td>\n",
       "      <td>1608</td>\n",
       "      <td>2018_v2</td>\n",
       "      <td>POLYGON ((666960.066 6598800.393, 666971.371 6...</td>\n",
       "    </tr>\n",
       "    <tr>\n",
       "      <th>2</th>\n",
       "      <td>3.0</td>\n",
       "      <td>3</td>\n",
       "      <td>{0DA292ED-A306-4D7E-A392-BD063A3093E1}</td>\n",
       "      <td>0114C1020</td>\n",
       "      <td>1610</td>\n",
       "      <td>2018_v2</td>\n",
       "      <td>POLYGON ((667034.814 6600076.634, 667032.984 6...</td>\n",
       "    </tr>\n",
       "    <tr>\n",
       "      <th>3</th>\n",
       "      <td>4.0</td>\n",
       "      <td>4</td>\n",
       "      <td>{18583EFC-ECC1-4D27-B520-DA294F5658FD}</td>\n",
       "      <td>0114C1030</td>\n",
       "      <td>2365</td>\n",
       "      <td>2018_v2</td>\n",
       "      <td>POLYGON ((667095.512 6599103.521, 667095.009 6...</td>\n",
       "    </tr>\n",
       "    <tr>\n",
       "      <th>4</th>\n",
       "      <td>5.0</td>\n",
       "      <td>5</td>\n",
       "      <td>{6574A7B3-AD12-4A81-8EAC-773B976B72BC}</td>\n",
       "      <td>0114C1040</td>\n",
       "      <td>2346</td>\n",
       "      <td>2018_v2</td>\n",
       "      <td>POLYGON ((664610.264 6600922.821, 664638.910 6...</td>\n",
       "    </tr>\n",
       "  </tbody>\n",
       "</table>\n",
       "</div>"
      ],
      "text/plain": [
       "    id  objectid                                    uuid       deso  \\\n",
       "0  1.0         1  {D9661502-EE24-45AE-A1F7-C1C80F463556}  0114A0010   \n",
       "1  2.0         2  {5EA47309-A001-4E2A-843E-02EC8F544E4C}  0114C1010   \n",
       "2  3.0         3  {0DA292ED-A306-4D7E-A392-BD063A3093E1}  0114C1020   \n",
       "3  4.0         4  {18583EFC-ECC1-4D27-B520-DA294F5658FD}  0114C1030   \n",
       "4  5.0         5  {6574A7B3-AD12-4A81-8EAC-773B976B72BC}  0114C1040   \n",
       "\n",
       "   befolkning  version                                           geometry  \n",
       "0         790  2018_v2  POLYGON ((661116.252 6606615.603, 661171.409 6...  \n",
       "1        1608  2018_v2  POLYGON ((666960.066 6598800.393, 666971.371 6...  \n",
       "2        1610  2018_v2  POLYGON ((667034.814 6600076.634, 667032.984 6...  \n",
       "3        2365  2018_v2  POLYGON ((667095.512 6599103.521, 667095.009 6...  \n",
       "4        2346  2018_v2  POLYGON ((664610.264 6600922.821, 664638.910 6...  "
      ]
     },
     "execution_count": 22,
     "metadata": {},
     "output_type": "execute_result"
    }
   ],
   "source": [
    "# Load zones\n",
    "zones = gpd.read_file('dbs/sweden/zones/DeSO/DeSO_2018_v2.shp')\n",
    "zones.head()"
   ]
  },
  {
   "cell_type": "code",
   "execution_count": 13,
   "metadata": {
    "collapsed": false,
    "pycharm": {
     "name": "#%%\n"
    }
   },
   "outputs": [
    {
     "data": {
      "image/png": "[encoded data removed]",
      "text/plain": [
       "<Figure size 432x288 with 1 Axes>"
      ]
     },
     "metadata": {
      "needs_background": "light"
     },
     "output_type": "display_data"
    }
   ],
   "source": [
    "\n",
    "#ax = zones.plot(column='deso')\n",
    "ax = zones.plot(column='deso')\n",
    "ax.set_axis_off()"
   ]
  },
  {
   "cell_type": "code",
   "execution_count": 38,
   "metadata": {
    "collapsed": false,
    "pycharm": {
     "name": "#%%\n"
    }
   },
   "outputs": [
    {
     "name": "stderr",
     "output_type": "stream",
     "text": [
      "d:\\Anaconda\\envs\\geopandas_lab\\lib\\site-packages\\geopandas\\io\\file.py:362: FutureWarning: pandas.Int64Index is deprecated and will be removed from pandas in a future version. Use pandas.Index with the appropriate dtype instead.\n",
      "  pd.Int64Index,\n"
     ]
    },
    {
     "data": {
      "text/plain": [
       "1275"
      ]
     },
     "execution_count": 38,
     "metadata": {},
     "output_type": "execute_result"
    }
   ],
   "source": [
    "zones.loc[:, 'deso_4'] = zones.loc[:, 'deso'].apply(lambda x: x[:7]) # First 4 digits\n",
    "zones.to_file('dbs/sweden/zones/DeSO/DeSO_2018_v2.shp')\n",
    "zones.deso_4.nunique()"
   ]
  },
  {
   "cell_type": "code",
   "execution_count": 39,
   "metadata": {},
   "outputs": [
    {
     "data": {
      "image/png": "[encoded data removed]",
      "text/plain": [
       "<Figure size 432x288 with 1 Axes>"
      ]
     },
     "metadata": {
      "needs_background": "light"
     },
     "output_type": "display_data"
    }
   ],
   "source": [
    "ax = zones.plot(column='deso_4')\n",
    "ax.set_axis_off()"
   ]
  }
 ],
 "metadata": {
  "kernelspec": {
   "display_name": "Python 3.9.10 ('geopandas_lab')",
   "language": "python",
   "name": "python3"
  },
  "language_info": {
   "codemirror_mode": {
    "name": "ipython",
    "version": 3
   },
   "file_extension": ".py",
   "mimetype": "text/x-python",
   "name": "python",
   "nbconvert_exporter": "python",
   "pygments_lexer": "ipython3",
   "version": "3.9.10"
  },
  "vscode": {
   "interpreter": {
    "hash": "883c84f66dcebfc5f23ace48bde3dd210a1e48a2efad5aebe72713cd530b81bf"
   }
  }
 },
 "nbformat": 4,
 "nbformat_minor": 0
}
