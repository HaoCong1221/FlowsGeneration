{
 "cells": [
  {
   "cell_type": "markdown",
   "metadata": {},
   "source": [
    "# Store the Groung-Truth data in csv.\n",
    " Just for kendall's rank correlation "
   ]
  },
  {
   "cell_type": "code",
   "execution_count": 8,
   "metadata": {},
   "outputs": [],
   "source": [
    "import sys"
   ]
  },
  {
   "cell_type": "code",
   "execution_count": 9,
   "metadata": {},
   "outputs": [],
   "source": [
    "sys.path.append('../lib/')"
   ]
  },
  {
   "cell_type": "code",
   "execution_count": 10,
   "metadata": {},
   "outputs": [
    {
     "name": "stdout",
     "output_type": "stream",
     "text": [
      "The autoreload extension is already loaded. To reload it, use:\n",
      "  %reload_ext autoreload\n"
     ]
    }
   ],
   "source": [
    "import pandas as pd\n",
    "import numpy as np\n",
    "import math\n",
    "%load_ext autoreload\n",
    "%autoreload 2"
   ]
  },
  {
   "cell_type": "code",
   "execution_count": 4,
   "metadata": {},
   "outputs": [],
   "source": [
    "# Import self-defined libraries\n",
    "import sweden\n",
    "import netherlands\n",
    "import workers\n",
    "import v_ij"
   ]
  },
  {
   "cell_type": "code",
   "execution_count": 11,
   "metadata": {},
   "outputs": [
    {
     "name": "stdout",
     "output_type": "stream",
     "text": [
      "origin_main_deso  desti_main_deso\n",
      "0114A0010         0114C1170          182551.736842\n",
      "                  0163C1140          810292.236111\n",
      "                  0163C1170          182927.555556\n",
      "                  0163C1350           94404.100629\n",
      "                  0163C1380           23397.135431\n",
      "Name: trip_weight, dtype: float64\n",
      "ozone      dzone    \n",
      "0114A0010  0114A0010    0.0\n",
      "           0114C1010    0.0\n",
      "           0114C1020    0.0\n",
      "           0114C1030    0.0\n",
      "           0114C1040    0.0\n",
      "Name: trip_weight, dtype: float64\n"
     ]
    }
   ],
   "source": [
    "# Initialise an object for storing the ground-truth data including zones\n",
    "data_sweden = sweden.GroundTruthLoader()\n",
    "\n",
    "# Load zones\n",
    "data_sweden.load_zones()\n",
    "\n",
    "# Create boundary for later use\n",
    "data_sweden.create_boundary()\n",
    "\n",
    "# Load ground-truth survey data into ODM form\n",
    "data_sweden.load_odm()"
   ]
  },
  {
   "cell_type": "code",
   "execution_count": 15,
   "metadata": {},
   "outputs": [],
   "source": [
    "data_sweden.odm.to_csv('survey.csv')"
   ]
  }
 ],
 "metadata": {
  "interpreter": {
   "hash": "537ddd5b53596e00ce9db7f0dcf023df326cc662d9c4c505db0792f0d5e8c1f9"
  },
  "kernelspec": {
   "display_name": "Python 3.9.10 64-bit",
   "language": "python",
   "name": "python3"
  },
  "language_info": {
   "codemirror_mode": {
    "name": "ipython",
    "version": 3
   },
   "file_extension": ".py",
   "mimetype": "text/x-python",
   "name": "python",
   "nbconvert_exporter": "python",
   "pygments_lexer": "ipython3",
   "version": "3.9.10"
  },
  "orig_nbformat": 4
 },
 "nbformat": 4,
 "nbformat_minor": 2
}
