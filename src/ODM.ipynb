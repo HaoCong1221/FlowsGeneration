{
 "cells": [
  {
   "cell_type": "markdown",
   "metadata": {
    "pycharm": {
     "name": "#%% md\n"
    }
   },
   "source": [
    "# Flows Generation of Sweden V_ij\n",
    "\n"
   ]
  },
  {
   "cell_type": "code",
   "execution_count": 1,
   "metadata": {},
   "outputs": [],
   "source": [
    "import sys"
   ]
  },
  {
   "cell_type": "code",
   "execution_count": 2,
   "metadata": {},
   "outputs": [],
   "source": [
    "sys.path.append('../lib/')"
   ]
  },
  {
   "cell_type": "code",
   "execution_count": 3,
   "metadata": {
    "collapsed": false,
    "jupyter": {
     "outputs_hidden": false
    },
    "pycharm": {
     "name": "#%%\n"
    }
   },
   "outputs": [],
   "source": [
    "import pandas as pd\n",
    "import numpy as np\n",
    "import math\n",
    "%load_ext autoreload\n",
    "%autoreload 2"
   ]
  },
  {
   "cell_type": "code",
   "execution_count": 4,
   "metadata": {
    "collapsed": false,
    "jupyter": {
     "outputs_hidden": false
    },
    "pycharm": {
     "name": "#%%\n"
    }
   },
   "outputs": [],
   "source": [
    "# Import self-defined libraries\n",
    "import sweden\n",
    "import netherlands\n",
    "import workers\n",
    "import v_ij"
   ]
  },
  {
   "cell_type": "markdown",
   "metadata": {
    "pycharm": {
     "name": "#%% md\n"
    }
   },
   "source": [
    "## Load spatial zones and ground-truth data for Sweden\n",
    "Check `lib\\sweden.py` for what the below lines do."
   ]
  },
  {
   "cell_type": "markdown",
   "metadata": {
    "collapsed": false
   },
   "source": []
  },
  {
   "cell_type": "code",
   "execution_count": 5,
   "metadata": {
    "collapsed": false,
    "jupyter": {
     "outputs_hidden": false
    },
    "pycharm": {
     "name": "#%%\n"
    }
   },
   "outputs": [
    {
     "name": "stdout",
     "output_type": "stream",
     "text": [
      "origin_main_deso  desti_main_deso\n",
      "0114A0010         0114C1170          182551.736842\n",
      "                  0163C1140          810292.236111\n",
      "                  0163C1170          182927.555556\n",
      "                  0163C1350           94404.100629\n",
      "                  0163C1380           23397.135431\n",
      "Name: trip_weight, dtype: float64\n",
      "ozone      dzone    \n",
      "0114A0010  0114A0010    0.0\n",
      "           0114C1010    0.0\n",
      "           0114C1020    0.0\n",
      "           0114C1030    0.0\n",
      "           0114C1040    0.0\n",
      "Name: trip_weight, dtype: float64\n"
     ]
    }
   ],
   "source": [
    "# Initialise an object for storing the ground-truth data including zones\n",
    "data_sweden = sweden.GroundTruthLoader()\n",
    "\n",
    "# Load zones\n",
    "data_sweden.load_zones()\n",
    "\n",
    "# Create boundary for later use\n",
    "data_sweden.create_boundary()\n",
    "\n",
    "# Load ground-truth survey data into ODM form\n",
    "data_sweden.load_odm()"
   ]
  },
  {
   "cell_type": "markdown",
   "metadata": {
    "pycharm": {
     "name": "#%% md\n"
    }
   },
   "source": [
    "### 1.1 Check spatial zones and population"
   ]
  },
  {
   "cell_type": "code",
   "execution_count": 6,
   "metadata": {
    "collapsed": false,
    "jupyter": {
     "outputs_hidden": false
    },
    "pycharm": {
     "name": "#%%\n"
    }
   },
   "outputs": [
    {
     "data": {
      "text/html": [
       "<div>\n",
       "<style scoped>\n",
       "    .dataframe tbody tr th:only-of-type {\n",
       "        vertical-align: middle;\n",
       "    }\n",
       "\n",
       "    .dataframe tbody tr th {\n",
       "        vertical-align: top;\n",
       "    }\n",
       "\n",
       "    .dataframe thead th {\n",
       "        text-align: right;\n",
       "    }\n",
       "</style>\n",
       "<table border=\"1\" class=\"dataframe\">\n",
       "  <thead>\n",
       "    <tr style=\"text-align: right;\">\n",
       "      <th></th>\n",
       "      <th>zone</th>\n",
       "      <th>geometry</th>\n",
       "    </tr>\n",
       "  </thead>\n",
       "  <tbody>\n",
       "    <tr>\n",
       "      <th>0</th>\n",
       "      <td>0114A0010</td>\n",
       "      <td>POLYGON ((661116.252 6606615.603, 661171.409 6...</td>\n",
       "    </tr>\n",
       "    <tr>\n",
       "      <th>1</th>\n",
       "      <td>0114C1010</td>\n",
       "      <td>POLYGON ((666960.066 6598800.393, 666971.371 6...</td>\n",
       "    </tr>\n",
       "    <tr>\n",
       "      <th>2</th>\n",
       "      <td>0114C1020</td>\n",
       "      <td>POLYGON ((667034.814 6600076.634, 667032.984 6...</td>\n",
       "    </tr>\n",
       "    <tr>\n",
       "      <th>3</th>\n",
       "      <td>0114C1030</td>\n",
       "      <td>POLYGON ((667095.512 6599103.521, 667095.009 6...</td>\n",
       "    </tr>\n",
       "    <tr>\n",
       "      <th>4</th>\n",
       "      <td>0114C1040</td>\n",
       "      <td>POLYGON ((664610.264 6600922.821, 664638.910 6...</td>\n",
       "    </tr>\n",
       "  </tbody>\n",
       "</table>\n",
       "</div>"
      ],
      "text/plain": [
       "        zone                                           geometry\n",
       "0  0114A0010  POLYGON ((661116.252 6606615.603, 661171.409 6...\n",
       "1  0114C1010  POLYGON ((666960.066 6598800.393, 666971.371 6...\n",
       "2  0114C1020  POLYGON ((667034.814 6600076.634, 667032.984 6...\n",
       "3  0114C1030  POLYGON ((667095.512 6599103.521, 667095.009 6...\n",
       "4  0114C1040  POLYGON ((664610.264 6600922.821, 664638.910 6..."
      ]
     },
     "execution_count": 6,
     "metadata": {},
     "output_type": "execute_result"
    }
   ],
   "source": [
    "data_sweden.zones.head()"
   ]
  },
  {
   "cell_type": "code",
   "execution_count": 7,
   "metadata": {
    "collapsed": false,
    "jupyter": {
     "outputs_hidden": false
    },
    "pycharm": {
     "name": "#%%\n"
    }
   },
   "outputs": [
    {
     "data": {
      "text/html": [
       "<div>\n",
       "<style scoped>\n",
       "    .dataframe tbody tr th:only-of-type {\n",
       "        vertical-align: middle;\n",
       "    }\n",
       "\n",
       "    .dataframe tbody tr th {\n",
       "        vertical-align: top;\n",
       "    }\n",
       "\n",
       "    .dataframe thead th {\n",
       "        text-align: right;\n",
       "    }\n",
       "</style>\n",
       "<table border=\"1\" class=\"dataframe\">\n",
       "  <thead>\n",
       "    <tr style=\"text-align: right;\">\n",
       "      <th></th>\n",
       "      <th>zone</th>\n",
       "      <th>pop</th>\n",
       "    </tr>\n",
       "  </thead>\n",
       "  <tbody>\n",
       "    <tr>\n",
       "      <th>0</th>\n",
       "      <td>0114A0010</td>\n",
       "      <td>790</td>\n",
       "    </tr>\n",
       "    <tr>\n",
       "      <th>1</th>\n",
       "      <td>0114C1010</td>\n",
       "      <td>1608</td>\n",
       "    </tr>\n",
       "    <tr>\n",
       "      <th>2</th>\n",
       "      <td>0114C1020</td>\n",
       "      <td>1610</td>\n",
       "    </tr>\n",
       "    <tr>\n",
       "      <th>3</th>\n",
       "      <td>0114C1030</td>\n",
       "      <td>2365</td>\n",
       "    </tr>\n",
       "    <tr>\n",
       "      <th>4</th>\n",
       "      <td>0114C1040</td>\n",
       "      <td>2346</td>\n",
       "    </tr>\n",
       "  </tbody>\n",
       "</table>\n",
       "</div>"
      ],
      "text/plain": [
       "        zone   pop\n",
       "0  0114A0010   790\n",
       "1  0114C1010  1608\n",
       "2  0114C1020  1610\n",
       "3  0114C1030  2365\n",
       "4  0114C1040  2346"
      ]
     },
     "execution_count": 7,
     "metadata": {},
     "output_type": "execute_result"
    }
   ],
   "source": [
    "# Load population data\n",
    "data_sweden.load_population()\n",
    "data_sweden.population.head()"
   ]
  },
  {
   "cell_type": "markdown",
   "metadata": {
    "pycharm": {
     "name": "#%% md\n"
    }
   },
   "source": [
    "### 1.2 Calculate distances between zones\n",
    "Figure out how you use the output data."
   ]
  },
  {
   "cell_type": "code",
   "execution_count": 8,
   "metadata": {
    "collapsed": false,
    "jupyter": {
     "outputs_hidden": false
    },
    "pycharm": {
     "name": "#%%\n"
    }
   },
   "outputs": [
    {
     "name": "stdout",
     "output_type": "stream",
     "text": [
      "Calculating distances between zones...\n"
     ]
    }
   ],
   "source": [
    "# This gives a stacked version\n",
    "distances = workers.zone_distances(data_sweden.zones)"
   ]
  },
  {
   "cell_type": "code",
   "execution_count": 9,
   "metadata": {
    "collapsed": false,
    "jupyter": {
     "outputs_hidden": false
    },
    "pycharm": {
     "name": "#%%\n"
    }
   },
   "outputs": [
    {
     "data": {
      "text/html": [
       "<div>\n",
       "<style scoped>\n",
       "    .dataframe tbody tr th:only-of-type {\n",
       "        vertical-align: middle;\n",
       "    }\n",
       "\n",
       "    .dataframe tbody tr th {\n",
       "        vertical-align: top;\n",
       "    }\n",
       "\n",
       "    .dataframe thead th {\n",
       "        text-align: right;\n",
       "    }\n",
       "</style>\n",
       "<table border=\"1\" class=\"dataframe\">\n",
       "  <thead>\n",
       "    <tr style=\"text-align: right;\">\n",
       "      <th>zone</th>\n",
       "      <th>0114A0010</th>\n",
       "      <th>0114C1010</th>\n",
       "      <th>0114C1020</th>\n",
       "      <th>0114C1030</th>\n",
       "      <th>0114C1040</th>\n",
       "      <th>0114C1050</th>\n",
       "      <th>0114C1060</th>\n",
       "      <th>0114C1070</th>\n",
       "      <th>0114C1080</th>\n",
       "      <th>0114C1090</th>\n",
       "      <th>...</th>\n",
       "      <th>2584C1020</th>\n",
       "      <th>2584C1030</th>\n",
       "      <th>2584C1040</th>\n",
       "      <th>2584C1050</th>\n",
       "      <th>2584C1060</th>\n",
       "      <th>2584C1070</th>\n",
       "      <th>2584C1090</th>\n",
       "      <th>2584C1100</th>\n",
       "      <th>2584C1110</th>\n",
       "      <th>2584C1130</th>\n",
       "    </tr>\n",
       "    <tr>\n",
       "      <th>zone</th>\n",
       "      <th></th>\n",
       "      <th></th>\n",
       "      <th></th>\n",
       "      <th></th>\n",
       "      <th></th>\n",
       "      <th></th>\n",
       "      <th></th>\n",
       "      <th></th>\n",
       "      <th></th>\n",
       "      <th></th>\n",
       "      <th></th>\n",
       "      <th></th>\n",
       "      <th></th>\n",
       "      <th></th>\n",
       "      <th></th>\n",
       "      <th></th>\n",
       "      <th></th>\n",
       "      <th></th>\n",
       "      <th></th>\n",
       "      <th></th>\n",
       "      <th></th>\n",
       "    </tr>\n",
       "  </thead>\n",
       "  <tbody>\n",
       "    <tr>\n",
       "      <th>0114A0010</th>\n",
       "      <td>0.000000</td>\n",
       "      <td>4.795251</td>\n",
       "      <td>3.548429</td>\n",
       "      <td>4.160562</td>\n",
       "      <td>2.703179</td>\n",
       "      <td>4.783886</td>\n",
       "      <td>1.849689</td>\n",
       "      <td>2.923878</td>\n",
       "      <td>2.159032</td>\n",
       "      <td>1.674308</td>\n",
       "      <td>...</td>\n",
       "      <td>933.767042</td>\n",
       "      <td>933.828072</td>\n",
       "      <td>935.067203</td>\n",
       "      <td>935.416006</td>\n",
       "      <td>935.630309</td>\n",
       "      <td>935.620128</td>\n",
       "      <td>936.859131</td>\n",
       "      <td>936.431609</td>\n",
       "      <td>936.568693</td>\n",
       "      <td>937.598973</td>\n",
       "    </tr>\n",
       "    <tr>\n",
       "      <th>0114C1010</th>\n",
       "      <td>4.795251</td>\n",
       "      <td>0.000000</td>\n",
       "      <td>1.343363</td>\n",
       "      <td>0.686608</td>\n",
       "      <td>2.451822</td>\n",
       "      <td>1.246766</td>\n",
       "      <td>3.968650</td>\n",
       "      <td>2.079711</td>\n",
       "      <td>2.668393</td>\n",
       "      <td>3.291240</td>\n",
       "      <td>...</td>\n",
       "      <td>937.070798</td>\n",
       "      <td>937.137238</td>\n",
       "      <td>938.379341</td>\n",
       "      <td>938.733022</td>\n",
       "      <td>938.942200</td>\n",
       "      <td>938.922048</td>\n",
       "      <td>940.174915</td>\n",
       "      <td>939.742567</td>\n",
       "      <td>939.882250</td>\n",
       "      <td>940.918898</td>\n",
       "    </tr>\n",
       "    <tr>\n",
       "      <th>0114C1020</th>\n",
       "      <td>3.548429</td>\n",
       "      <td>1.343363</td>\n",
       "      <td>0.000000</td>\n",
       "      <td>0.657756</td>\n",
       "      <td>1.693341</td>\n",
       "      <td>1.362823</td>\n",
       "      <td>3.073683</td>\n",
       "      <td>0.737077</td>\n",
       "      <td>1.389539</td>\n",
       "      <td>1.969922</td>\n",
       "      <td>...</td>\n",
       "      <td>935.881658</td>\n",
       "      <td>935.947128</td>\n",
       "      <td>937.188698</td>\n",
       "      <td>937.541507</td>\n",
       "      <td>937.751603</td>\n",
       "      <td>937.733240</td>\n",
       "      <td>938.983622</td>\n",
       "      <td>938.552138</td>\n",
       "      <td>938.691355</td>\n",
       "      <td>939.726864</td>\n",
       "    </tr>\n",
       "  </tbody>\n",
       "</table>\n",
       "<p>3 rows × 5984 columns</p>\n",
       "</div>"
      ],
      "text/plain": [
       "zone       0114A0010  0114C1010  0114C1020  0114C1030  0114C1040  0114C1050  \\\n",
       "zone                                                                          \n",
       "0114A0010   0.000000   4.795251   3.548429   4.160562   2.703179   4.783886   \n",
       "0114C1010   4.795251   0.000000   1.343363   0.686608   2.451822   1.246766   \n",
       "0114C1020   3.548429   1.343363   0.000000   0.657756   1.693341   1.362823   \n",
       "\n",
       "zone       0114C1060  0114C1070  0114C1080  0114C1090  ...   2584C1020  \\\n",
       "zone                                                   ...               \n",
       "0114A0010   1.849689   2.923878   2.159032   1.674308  ...  933.767042   \n",
       "0114C1010   3.968650   2.079711   2.668393   3.291240  ...  937.070798   \n",
       "0114C1020   3.073683   0.737077   1.389539   1.969922  ...  935.881658   \n",
       "\n",
       "zone        2584C1030   2584C1040   2584C1050   2584C1060   2584C1070  \\\n",
       "zone                                                                    \n",
       "0114A0010  933.828072  935.067203  935.416006  935.630309  935.620128   \n",
       "0114C1010  937.137238  938.379341  938.733022  938.942200  938.922048   \n",
       "0114C1020  935.947128  937.188698  937.541507  937.751603  937.733240   \n",
       "\n",
       "zone        2584C1090   2584C1100   2584C1110   2584C1130  \n",
       "zone                                                       \n",
       "0114A0010  936.859131  936.431609  936.568693  937.598973  \n",
       "0114C1010  940.174915  939.742567  939.882250  940.918898  \n",
       "0114C1020  938.983622  938.552138  938.691355  939.726864  \n",
       "\n",
       "[3 rows x 5984 columns]"
      ]
     },
     "execution_count": 9,
     "metadata": {},
     "output_type": "execute_result"
    }
   ],
   "source": [
    "# This gives a matrix-style dataframe\n",
    "df_d = distances.unstack(level=1)\n",
    "df_d.head(3)"
   ]
  },
  {
   "cell_type": "markdown",
   "metadata": {},
   "source": [
    "### 1.3 Area"
   ]
  },
  {
   "cell_type": "code",
   "execution_count": 11,
   "metadata": {},
   "outputs": [],
   "source": [
    "dict_zone = dict(zip(data_sweden.zones['zone'], data_sweden.zones['geometry']))\n",
    "area = dict(zip(data_sweden.zones['zone'], data_sweden.zones.area))\n",
    "# change unit from m*m to km *km\n",
    "for i in area.keys():\n",
    "    area[i] = area[i] / 1000000\n",
    "#print(area)"
   ]
  },
  {
   "cell_type": "markdown",
   "metadata": {},
   "source": [
    "### 1.4 Average Radius"
   ]
  },
  {
   "cell_type": "code",
   "execution_count": 14,
   "metadata": {},
   "outputs": [],
   "source": [
    "#print(data_sweden.zones.centroid)\n",
    "#print(data_sweden.zones.bounds)\n",
    "'''\n",
    "center_x = data_sweden.zones.centroid.x.to_list()\n",
    "center_y = data_sweden.zones.centroid.y.to_list()\n",
    "\n",
    "bound_minx = data_sweden.zones.bounds.minx.to_list()\n",
    "bound_miny = data_sweden.zones.bounds.miny.to_list()\n",
    "bound_maxx = data_sweden.zones.bounds.maxx.to_list()\n",
    "bound_maxy = data_sweden.zones.bounds.maxy.to_list()\n",
    "radius = []\n",
    "\n",
    "\n",
    "for i in range(0, len(center_x)):\n",
    "    r1 = abs(center_x[i] - bound_minx[i])\n",
    "    r2 = abs(center_x[i] - bound_maxx[i])\n",
    "    r3 = abs(center_y[i] - bound_miny[i])\n",
    "    r4 = abs(center_y[i] - bound_maxy[i])\n",
    "    r = (r1 + r2 + r3 + r4) / 4000\n",
    "    radius.append(r)\n",
    "\n",
    "\n",
    "radius_dict = dict(zip(data_sweden.zones['zone'], radius))\n",
    "#print(radius_dict)\n",
    "'''\n",
    "# Use r_average to denote r_j, which is the distance to the boundary of the location j.\n",
    "# A=pi*r_average^2\n",
    "r_average = []\n",
    "for i in area.keys(): \n",
    "    r_average.append(math.sqrt(area[i]/math.pi))\n",
    "r_average_dict = dict(zip(data_sweden.zones['zone'], r_average))\n",
    "#print(r_average_dict)"
   ]
  },
  {
   "cell_type": "markdown",
   "metadata": {},
   "source": [
    "### 1.5 Build ODM\n",
    "Try to use numpy and pandas to get ODM. Make it align with `data_sweden.odm` which is a dataframe.\n",
    "\n",
    "Hint: check line 51 in `sweden.py`."
   ]
  },
  {
   "cell_type": "code",
   "execution_count": 12,
   "metadata": {},
   "outputs": [],
   "source": [
    "# parameter = ln(f_max/f_min), f_min = 1/T, f_max = 1 T = 1000\n",
    "T = 1000\n",
    "f_max = 1\n",
    "f_min = 1/T\n",
    "parameter = math.log(f_max / f_min)\n",
    "\n",
    "\n",
    "population_density = dict(zip(data_sweden.population['zone'], data_sweden.population['pop']))\n",
    "ODM = dict() # {zone: {zone : distance}}\n",
    "\n",
    "for i in data_sweden.population['zone']:\n",
    "    odm_row = dict()\n",
    "    for j in data_sweden.population['zone']:\n",
    "        if i != j:\n",
    "            # filter out the error divide by zero\n",
    "            odm_row[j] = v_ij.average_daily_trips(population_density[j], area[i], r_average_dict[j], df_d[i][j], parameter)\n",
    "        if i == j:\n",
    "            odm_row[j] = 0\n",
    "    ODM[i] = odm_row"
   ]
  },
  {
   "cell_type": "markdown",
   "metadata": {},
   "source": [
    "### 1.6 Transform to pandas dataframe"
   ]
  },
  {
   "cell_type": "code",
   "execution_count": null,
   "metadata": {},
   "outputs": [],
   "source": [
    "ODM_data = []\n",
    "for i in data_sweden.population['zone']:\n",
    "    for j in data_sweden.population['zone']:\n",
    "        element = dict()\n",
    "        element['origin_main_deso'] = i\n",
    "        element['desti_main_deso'] = j\n",
    "        element['trip_weight'] = ODM[i][j]\n",
    "        ODM_data.append(element)\n",
    "ODM_pd = pd.DataFrame(ODM_data)"
   ]
  },
  {
   "cell_type": "markdown",
   "metadata": {},
   "source": [
    "### 1.7 Store the results"
   ]
  },
  {
   "cell_type": "code",
   "execution_count": 13,
   "metadata": {},
   "outputs": [],
   "source": [
    "#ODM_pd.head()\n",
    "ODM_pd.to_csv('./ODM.csv', index=False)"
   ]
  }
 ],
 "metadata": {
  "kernelspec": {
   "display_name": "Python 3",
   "language": "python",
   "name": "python3"
  },
  "language_info": {
   "codemirror_mode": {
    "name": "ipython",
    "version": 3
   },
   "file_extension": ".py",
   "mimetype": "text/x-python",
   "name": "python",
   "nbconvert_exporter": "python",
   "pygments_lexer": "ipython3",
   "version": "3.9.10"
  }
 },
 "nbformat": 4,
 "nbformat_minor": 4
}
