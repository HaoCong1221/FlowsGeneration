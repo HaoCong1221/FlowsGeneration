{
 "cells": [
  {
   "cell_type": "markdown",
   "metadata": {
    "collapsed": true,
    "pycharm": {
     "name": "#%% md\n"
    }
   },
   "source": [
    "# Distance ratio, look-up table, and application"
   ]
  },
  {
   "cell_type": "code",
   "execution_count": 2,
   "outputs": [
    {
     "name": "stdout",
     "output_type": "stream",
     "text": [
      "D:\\FlowsGeneration\n"
     ]
    }
   ],
   "source": [
    "%load_ext autoreload\n",
    "%autoreload 2\n",
    "%matplotlib inline\n",
    "%cd D:\\FlowsGeneration"
   ],
   "metadata": {
    "collapsed": false,
    "pycharm": {
     "name": "#%%\n"
    }
   }
  },
  {
   "cell_type": "code",
   "execution_count": 3,
   "outputs": [],
   "source": [
    "import pandas as pd\n",
    "import scipy.interpolate"
   ],
   "metadata": {
    "collapsed": false,
    "pycharm": {
     "name": "#%%\n"
    }
   }
  },
  {
   "cell_type": "markdown",
   "source": [
    "## 1. Load distance ratio\n",
    "Distance ratio (ratio) = Travel distance or network distance / straight line distance or Euclidean distance"
   ],
   "metadata": {
    "collapsed": false,
    "pycharm": {
     "name": "#%% md\n"
    }
   }
  },
  {
   "cell_type": "markdown",
   "source": [
    "### 1.1 Travel survey based distance ratio\n",
    "Travel surveys of Sweden and the Netherlands contain participant-reported travel distance and the trip distance is calculated as the straight-line distance (Euclidean distance) between centroids of statistics zones, e.g., DeSO zones for Sweden."
   ],
   "metadata": {
    "collapsed": false,
    "pycharm": {
     "name": "#%% md\n"
    }
   }
  },
  {
   "cell_type": "code",
   "execution_count": 4,
   "outputs": [
    {
     "data": {
      "text/plain": "   distance     ratio  lower_ratio  upper_ratio country\n0  0.121503  2.473143     2.372895     2.573390  sweden\n1  0.187461  3.550169     1.840718     9.700040  sweden\n2  0.287628  2.805004     1.709243     4.621175  sweden\n3  0.414068  2.088832     1.285247     3.540168  sweden\n4  0.590090  2.016771     1.548158     3.121659  sweden",
      "text/html": "<div>\n<style scoped>\n    .dataframe tbody tr th:only-of-type {\n        vertical-align: middle;\n    }\n\n    .dataframe tbody tr th {\n        vertical-align: top;\n    }\n\n    .dataframe thead th {\n        text-align: right;\n    }\n</style>\n<table border=\"1\" class=\"dataframe\">\n  <thead>\n    <tr style=\"text-align: right;\">\n      <th></th>\n      <th>distance</th>\n      <th>ratio</th>\n      <th>lower_ratio</th>\n      <th>upper_ratio</th>\n      <th>country</th>\n    </tr>\n  </thead>\n  <tbody>\n    <tr>\n      <th>0</th>\n      <td>0.121503</td>\n      <td>2.473143</td>\n      <td>2.372895</td>\n      <td>2.573390</td>\n      <td>sweden</td>\n    </tr>\n    <tr>\n      <th>1</th>\n      <td>0.187461</td>\n      <td>3.550169</td>\n      <td>1.840718</td>\n      <td>9.700040</td>\n      <td>sweden</td>\n    </tr>\n    <tr>\n      <th>2</th>\n      <td>0.287628</td>\n      <td>2.805004</td>\n      <td>1.709243</td>\n      <td>4.621175</td>\n      <td>sweden</td>\n    </tr>\n    <tr>\n      <th>3</th>\n      <td>0.414068</td>\n      <td>2.088832</td>\n      <td>1.285247</td>\n      <td>3.540168</td>\n      <td>sweden</td>\n    </tr>\n    <tr>\n      <th>4</th>\n      <td>0.590090</td>\n      <td>2.016771</td>\n      <td>1.548158</td>\n      <td>3.121659</td>\n      <td>sweden</td>\n    </tr>\n  </tbody>\n</table>\n</div>"
     },
     "execution_count": 4,
     "metadata": {},
     "output_type": "execute_result"
    }
   ],
   "source": [
    "df_data = pd.read_csv('results/ratio_data.csv')\n",
    "df_data.head()"
   ],
   "metadata": {
    "collapsed": false,
    "pycharm": {
     "name": "#%%\n"
    }
   }
  },
  {
   "cell_type": "markdown",
   "source": [
    "### 1.2 Simulation-based distance ratio\n",
    "A simulation for ten selected urban regions whose area varies between 272.3 -- 4878.7 in km$^2$ is conducted to see how much we underestimate the travel distance in urban areas. We use the model-synthesised trips within these urban areas and calculate the shortest network distance assuming driving plus 400 m walking (5 min) using the drive road networks downloaded from OpenStreetMap. The distance ratio decreases along with the trip distance and such a pattern is similar across all the ten urban areas. This opens up the possibility to create a multiplier function of trip distance that compensates for the underestimated travel distance.\n",
    "\n",
    "More details is [here](https://research.chalmers.se/en/publication/523815)."
   ],
   "metadata": {
    "collapsed": false,
    "pycharm": {
     "name": "#%% md\n"
    }
   }
  },
  {
   "cell_type": "code",
   "execution_count": 5,
   "outputs": [
    {
     "data": {
      "text/plain": "   distance     ratio  lower_ratio  upper_ratio\n0  0.120453  4.796603     4.085980     6.072655\n1  0.162514  3.966736     3.434608     4.852263\n2  0.218579  3.293649     2.887725     4.108657\n3  0.295120  2.809982     2.481010     3.475213\n4  0.401855  2.421351     2.161574     2.949358",
      "text/html": "<div>\n<style scoped>\n    .dataframe tbody tr th:only-of-type {\n        vertical-align: middle;\n    }\n\n    .dataframe tbody tr th {\n        vertical-align: top;\n    }\n\n    .dataframe thead th {\n        text-align: right;\n    }\n</style>\n<table border=\"1\" class=\"dataframe\">\n  <thead>\n    <tr style=\"text-align: right;\">\n      <th></th>\n      <th>distance</th>\n      <th>ratio</th>\n      <th>lower_ratio</th>\n      <th>upper_ratio</th>\n    </tr>\n  </thead>\n  <tbody>\n    <tr>\n      <th>0</th>\n      <td>0.120453</td>\n      <td>4.796603</td>\n      <td>4.085980</td>\n      <td>6.072655</td>\n    </tr>\n    <tr>\n      <th>1</th>\n      <td>0.162514</td>\n      <td>3.966736</td>\n      <td>3.434608</td>\n      <td>4.852263</td>\n    </tr>\n    <tr>\n      <th>2</th>\n      <td>0.218579</td>\n      <td>3.293649</td>\n      <td>2.887725</td>\n      <td>4.108657</td>\n    </tr>\n    <tr>\n      <th>3</th>\n      <td>0.295120</td>\n      <td>2.809982</td>\n      <td>2.481010</td>\n      <td>3.475213</td>\n    </tr>\n    <tr>\n      <th>4</th>\n      <td>0.401855</td>\n      <td>2.421351</td>\n      <td>2.161574</td>\n      <td>2.949358</td>\n    </tr>\n  </tbody>\n</table>\n</div>"
     },
     "execution_count": 5,
     "metadata": {},
     "output_type": "execute_result"
    }
   ],
   "source": [
    "df_simulation = pd.read_csv('results/ratio_simulation.csv')\n",
    "df_simulation.head()"
   ],
   "metadata": {
    "collapsed": false,
    "pycharm": {
     "name": "#%%\n"
    }
   }
  },
  {
   "cell_type": "markdown",
   "source": [
    "## 2. Create lookup tables by interpolation"
   ],
   "metadata": {
    "collapsed": false,
    "pycharm": {
     "name": "#%% md\n"
    }
   }
  },
  {
   "cell_type": "code",
   "execution_count": 10,
   "outputs": [],
   "source": [
    "sp_data_sweden = scipy.interpolate.interp1d(df_data.loc[df_data.country == 'sweden', ['distance']].values.reshape(-1),\n",
    "                                            df_data.loc[df_data.country == 'sweden', ['ratio']].values.reshape(-1))\n",
    "sp_data_netherlands = scipy.interpolate.interp1d(df_data.loc[df_data.country == 'netherlands', ['distance']].values.reshape(-1),\n",
    "                                            df_data.loc[df_data.country == 'netherlands', ['ratio']].values.reshape(-1))\n",
    "sp_data_simulation = scipy.interpolate.interp1d(df_simulation.loc[:, ['distance']].values.reshape(-1),\n",
    "                                                df_simulation.loc[:, ['ratio']].values.reshape(-1))"
   ],
   "metadata": {
    "collapsed": false,
    "pycharm": {
     "name": "#%%\n"
    }
   }
  },
  {
   "cell_type": "markdown",
   "source": [
    "## 3. Use the lookup tables to get a distance ratio given its trip distance"
   ],
   "metadata": {
    "collapsed": false,
    "pycharm": {
     "name": "#%% md\n"
    }
   }
  },
  {
   "cell_type": "code",
   "execution_count": 12,
   "outputs": [
    {
     "data": {
      "text/plain": "   trip distance  ratio (sweden)  ratio (netherlands)  ratio (simulation)\n0              1        1.960368             2.000592            1.740077\n1              2        1.648406             1.653043            1.484936\n2              3        1.599986             1.552652            1.396144\n3              4        1.539345             1.457330            1.353066\n4              5        1.528590             1.453194            1.327054\n5             10        1.434981             1.424680            1.263294\n6             15        1.397148             1.408961            1.228804\n7             78        1.274283             1.293951            1.201010\n8            200        1.250330             1.235738            1.174810",
      "text/html": "<div>\n<style scoped>\n    .dataframe tbody tr th:only-of-type {\n        vertical-align: middle;\n    }\n\n    .dataframe tbody tr th {\n        vertical-align: top;\n    }\n\n    .dataframe thead th {\n        text-align: right;\n    }\n</style>\n<table border=\"1\" class=\"dataframe\">\n  <thead>\n    <tr style=\"text-align: right;\">\n      <th></th>\n      <th>trip distance</th>\n      <th>ratio (sweden)</th>\n      <th>ratio (netherlands)</th>\n      <th>ratio (simulation)</th>\n    </tr>\n  </thead>\n  <tbody>\n    <tr>\n      <th>0</th>\n      <td>1</td>\n      <td>1.960368</td>\n      <td>2.000592</td>\n      <td>1.740077</td>\n    </tr>\n    <tr>\n      <th>1</th>\n      <td>2</td>\n      <td>1.648406</td>\n      <td>1.653043</td>\n      <td>1.484936</td>\n    </tr>\n    <tr>\n      <th>2</th>\n      <td>3</td>\n      <td>1.599986</td>\n      <td>1.552652</td>\n      <td>1.396144</td>\n    </tr>\n    <tr>\n      <th>3</th>\n      <td>4</td>\n      <td>1.539345</td>\n      <td>1.457330</td>\n      <td>1.353066</td>\n    </tr>\n    <tr>\n      <th>4</th>\n      <td>5</td>\n      <td>1.528590</td>\n      <td>1.453194</td>\n      <td>1.327054</td>\n    </tr>\n    <tr>\n      <th>5</th>\n      <td>10</td>\n      <td>1.434981</td>\n      <td>1.424680</td>\n      <td>1.263294</td>\n    </tr>\n    <tr>\n      <th>6</th>\n      <td>15</td>\n      <td>1.397148</td>\n      <td>1.408961</td>\n      <td>1.228804</td>\n    </tr>\n    <tr>\n      <th>7</th>\n      <td>78</td>\n      <td>1.274283</td>\n      <td>1.293951</td>\n      <td>1.201010</td>\n    </tr>\n    <tr>\n      <th>8</th>\n      <td>200</td>\n      <td>1.250330</td>\n      <td>1.235738</td>\n      <td>1.174810</td>\n    </tr>\n  </tbody>\n</table>\n</div>"
     },
     "execution_count": 12,
     "metadata": {},
     "output_type": "execute_result"
    }
   ],
   "source": [
    "df_test = pd.DataFrame()\n",
    "test_distances = [1, 2, 3, 4, 5, 10, 15, 78, 200] # km\n",
    "df_test.loc[:, 'trip distance'] = test_distances\n",
    "df_test.loc[:, 'ratio (sweden)'] = sp_data_sweden(test_distances)\n",
    "df_test.loc[:, 'ratio (netherlands)'] = sp_data_netherlands(test_distances)\n",
    "df_test.loc[:, 'ratio (simulation)'] = sp_data_simulation(test_distances)\n",
    "df_test"
   ],
   "metadata": {
    "collapsed": false,
    "pycharm": {
     "name": "#%%\n"
    }
   }
  }
 ],
 "metadata": {
  "kernelspec": {
   "display_name": "Python 3",
   "language": "python",
   "name": "python3"
  },
  "language_info": {
   "codemirror_mode": {
    "name": "ipython",
    "version": 2
   },
   "file_extension": ".py",
   "mimetype": "text/x-python",
   "name": "python",
   "nbconvert_exporter": "python",
   "pygments_lexer": "ipython2",
   "version": "2.7.6"
  }
 },
 "nbformat": 4,
 "nbformat_minor": 0
}