{
 "cells": [
  {
   "cell_type": "markdown",
   "metadata": {
    "collapsed": true,
    "pycharm": {
     "name": "#%% md\n"
    }
   },
   "source": [
    "# Generating flows for the entire Sweden\n",
    "1 km x 1 km with upper grid levels as 10 km x 10 km."
   ]
  },
  {
   "cell_type": "code",
   "execution_count": 1,
   "outputs": [
    {
     "name": "stdout",
     "output_type": "stream",
     "text": [
      "D:\\FlowsGeneration\n"
     ]
    }
   ],
   "source": [
    "%load_ext autoreload\n",
    "%autoreload 2\n",
    "%cd D:\\FlowsGeneration"
   ],
   "metadata": {
    "collapsed": false,
    "pycharm": {
     "name": "#%%\n"
    }
   }
  },
  {
   "cell_type": "code",
   "execution_count": 2,
   "outputs": [],
   "source": [
    "import pandas as pd\n",
    "import numpy as np\n",
    "import geopandas as gpd\n",
    "import matplotlib.pyplot as plt\n",
    "import math\n",
    "\n",
    "from tqdm import tqdm\n",
    "import lib.workers as workers\n",
    "import lib.sweden as sweden"
   ],
   "metadata": {
    "collapsed": false,
    "pycharm": {
     "name": "#%%\n"
    }
   }
  },
  {
   "cell_type": "code",
   "execution_count": 3,
   "outputs": [],
   "source": [
    "grid_file = 'D:/FlowsGeneration/results/grids_sweden/grids_1km_density_deso_with_10km_upper_grids.shp'\n",
    "grid_file_big = 'D:/FlowsGeneration/results/grids_sweden/grids_10km.shp'\n",
    "zone_file = 'D:/FlowsGeneration/dbs/sweden/zones/DeSO/DeSO_2018_v2.shp'"
   ],
   "metadata": {
    "collapsed": false,
    "pycharm": {
     "name": "#%%\n"
    }
   }
  },
  {
   "cell_type": "markdown",
   "source": [
    "## 0. Explore the aggregation level"
   ],
   "metadata": {
    "collapsed": false,
    "pycharm": {
     "name": "#%% md\n"
    }
   }
  },
  {
   "cell_type": "code",
   "execution_count": 158,
   "outputs": [
    {
     "data": {
      "text/plain": "   level  num_zones\n0      2         21\n1      3         89\n2      4        290\n3      5        741\n4      6        954\n5      7       1275\n6      8       5984",
      "text/html": "<div>\n<style scoped>\n    .dataframe tbody tr th:only-of-type {\n        vertical-align: middle;\n    }\n\n    .dataframe tbody tr th {\n        vertical-align: top;\n    }\n\n    .dataframe thead th {\n        text-align: right;\n    }\n</style>\n<table border=\"1\" class=\"dataframe\">\n  <thead>\n    <tr style=\"text-align: right;\">\n      <th></th>\n      <th>level</th>\n      <th>num_zones</th>\n    </tr>\n  </thead>\n  <tbody>\n    <tr>\n      <th>0</th>\n      <td>2</td>\n      <td>21</td>\n    </tr>\n    <tr>\n      <th>1</th>\n      <td>3</td>\n      <td>89</td>\n    </tr>\n    <tr>\n      <th>2</th>\n      <td>4</td>\n      <td>290</td>\n    </tr>\n    <tr>\n      <th>3</th>\n      <td>5</td>\n      <td>741</td>\n    </tr>\n    <tr>\n      <th>4</th>\n      <td>6</td>\n      <td>954</td>\n    </tr>\n    <tr>\n      <th>5</th>\n      <td>7</td>\n      <td>1275</td>\n    </tr>\n    <tr>\n      <th>6</th>\n      <td>8</td>\n      <td>5984</td>\n    </tr>\n  </tbody>\n</table>\n</div>"
     },
     "execution_count": 158,
     "metadata": {},
     "output_type": "execute_result"
    }
   ],
   "source": [
    "gdf_zones = gpd.read_file(zone_file)\n",
    "zone_num_agg_level = []\n",
    "for level in range(2, 9):\n",
    "    num_deso = pd.DataFrame(gdf_zones.loc[:, 'deso'].apply(lambda x: x[:level]), columns=['deso']).deso.nunique()\n",
    "    zone_num_agg_level.append((level, num_deso))\n",
    "df_agg_level = pd.DataFrame(zone_num_agg_level, columns=['level', 'num_zones'])\n",
    "df_agg_level"
   ],
   "metadata": {
    "collapsed": false,
    "pycharm": {
     "name": "#%%\n"
    }
   }
  },
  {
   "cell_type": "markdown",
   "source": [
    "## 1. Load data"
   ],
   "metadata": {
    "collapsed": false,
    "pycharm": {
     "name": "#%% md\n"
    }
   }
  },
  {
   "cell_type": "code",
   "execution_count": 111,
   "outputs": [
    {
     "data": {
      "text/plain": "   zone       deso    density upper_deso  upper_dens  upper_zone  upper_xcoo  \\\n0    18  0114A0010  15.720316  0114A0010   15.720316           1    655000.0   \n1     8  0114A0010  15.720316  0114A0010   15.720316           1    655000.0   \n2    20  0114A0010  15.720316  0114A0010   15.720316           1    655000.0   \n3    19  0114A0010  15.720316  0114A0010   15.720316           1    655000.0   \n4     1  0114A0010  15.720316  0114A0010   15.720316           1    655000.0   \n\n   upper_ycoo                                           geometry  \n0   6595000.0  POLYGON ((660000.000 6596000.000, 660000.000 6...  \n1   6595000.0  POLYGON ((659000.000 6598000.000, 659000.000 6...  \n2   6595000.0  POLYGON ((660000.000 6598000.000, 660000.000 6...  \n3   6595000.0  POLYGON ((660000.000 6597000.000, 660000.000 6...  \n4   6595000.0  POLYGON ((658000.000 6600000.000, 658000.000 6...  ",
      "text/html": "<div>\n<style scoped>\n    .dataframe tbody tr th:only-of-type {\n        vertical-align: middle;\n    }\n\n    .dataframe tbody tr th {\n        vertical-align: top;\n    }\n\n    .dataframe thead th {\n        text-align: right;\n    }\n</style>\n<table border=\"1\" class=\"dataframe\">\n  <thead>\n    <tr style=\"text-align: right;\">\n      <th></th>\n      <th>zone</th>\n      <th>deso</th>\n      <th>density</th>\n      <th>upper_deso</th>\n      <th>upper_dens</th>\n      <th>upper_zone</th>\n      <th>upper_xcoo</th>\n      <th>upper_ycoo</th>\n      <th>geometry</th>\n    </tr>\n  </thead>\n  <tbody>\n    <tr>\n      <th>0</th>\n      <td>18</td>\n      <td>0114A0010</td>\n      <td>15.720316</td>\n      <td>0114A0010</td>\n      <td>15.720316</td>\n      <td>1</td>\n      <td>655000.0</td>\n      <td>6595000.0</td>\n      <td>POLYGON ((660000.000 6596000.000, 660000.000 6...</td>\n    </tr>\n    <tr>\n      <th>1</th>\n      <td>8</td>\n      <td>0114A0010</td>\n      <td>15.720316</td>\n      <td>0114A0010</td>\n      <td>15.720316</td>\n      <td>1</td>\n      <td>655000.0</td>\n      <td>6595000.0</td>\n      <td>POLYGON ((659000.000 6598000.000, 659000.000 6...</td>\n    </tr>\n    <tr>\n      <th>2</th>\n      <td>20</td>\n      <td>0114A0010</td>\n      <td>15.720316</td>\n      <td>0114A0010</td>\n      <td>15.720316</td>\n      <td>1</td>\n      <td>655000.0</td>\n      <td>6595000.0</td>\n      <td>POLYGON ((660000.000 6598000.000, 660000.000 6...</td>\n    </tr>\n    <tr>\n      <th>3</th>\n      <td>19</td>\n      <td>0114A0010</td>\n      <td>15.720316</td>\n      <td>0114A0010</td>\n      <td>15.720316</td>\n      <td>1</td>\n      <td>655000.0</td>\n      <td>6595000.0</td>\n      <td>POLYGON ((660000.000 6597000.000, 660000.000 6...</td>\n    </tr>\n    <tr>\n      <th>4</th>\n      <td>1</td>\n      <td>0114A0010</td>\n      <td>15.720316</td>\n      <td>0114A0010</td>\n      <td>15.720316</td>\n      <td>1</td>\n      <td>655000.0</td>\n      <td>6595000.0</td>\n      <td>POLYGON ((658000.000 6600000.000, 658000.000 6...</td>\n    </tr>\n  </tbody>\n</table>\n</div>"
     },
     "execution_count": 111,
     "metadata": {},
     "output_type": "execute_result"
    }
   ],
   "source": [
    "# Filter out the grids which do not have the density data\n",
    "grids = gpd.read_file(grid_file)\n",
    "grids.head()"
   ],
   "metadata": {
    "collapsed": false,
    "pycharm": {
     "name": "#%%\n"
    }
   }
  },
  {
   "cell_type": "code",
   "execution_count": 112,
   "outputs": [],
   "source": [
    "# Keep those grids with density information\n",
    "grids = grids.dropna(subset=['density'])"
   ],
   "metadata": {
    "collapsed": false,
    "pycharm": {
     "name": "#%%\n"
    }
   }
  },
  {
   "cell_type": "code",
   "execution_count": 113,
   "outputs": [
    {
     "data": {
      "text/plain": "        deso    density  zone  \\\n0  0114A0010  15.720316     1   \n1  0114A0010  15.720316     2   \n2  0114A0010  15.720316     3   \n3  0114A0010  15.720316     4   \n4  0114A0010  15.720316     5   \n\n                                            geometry  \n0  POLYGON ((650000.000 6590000.000, 650000.000 6...  \n1  POLYGON ((650000.000 6600000.000, 650000.000 6...  \n2  POLYGON ((660000.000 6590000.000, 660000.000 6...  \n3  POLYGON ((660000.000 6600000.000, 660000.000 6...  \n4  POLYGON ((670000.000 6590000.000, 670000.000 6...  ",
      "text/html": "<div>\n<style scoped>\n    .dataframe tbody tr th:only-of-type {\n        vertical-align: middle;\n    }\n\n    .dataframe tbody tr th {\n        vertical-align: top;\n    }\n\n    .dataframe thead th {\n        text-align: right;\n    }\n</style>\n<table border=\"1\" class=\"dataframe\">\n  <thead>\n    <tr style=\"text-align: right;\">\n      <th></th>\n      <th>deso</th>\n      <th>density</th>\n      <th>zone</th>\n      <th>geometry</th>\n    </tr>\n  </thead>\n  <tbody>\n    <tr>\n      <th>0</th>\n      <td>0114A0010</td>\n      <td>15.720316</td>\n      <td>1</td>\n      <td>POLYGON ((650000.000 6590000.000, 650000.000 6...</td>\n    </tr>\n    <tr>\n      <th>1</th>\n      <td>0114A0010</td>\n      <td>15.720316</td>\n      <td>2</td>\n      <td>POLYGON ((650000.000 6600000.000, 650000.000 6...</td>\n    </tr>\n    <tr>\n      <th>2</th>\n      <td>0114A0010</td>\n      <td>15.720316</td>\n      <td>3</td>\n      <td>POLYGON ((660000.000 6590000.000, 660000.000 6...</td>\n    </tr>\n    <tr>\n      <th>3</th>\n      <td>0114A0010</td>\n      <td>15.720316</td>\n      <td>4</td>\n      <td>POLYGON ((660000.000 6600000.000, 660000.000 6...</td>\n    </tr>\n    <tr>\n      <th>4</th>\n      <td>0114A0010</td>\n      <td>15.720316</td>\n      <td>5</td>\n      <td>POLYGON ((670000.000 6590000.000, 670000.000 6...</td>\n    </tr>\n  </tbody>\n</table>\n</div>"
     },
     "execution_count": 113,
     "metadata": {},
     "output_type": "execute_result"
    }
   ],
   "source": [
    "grids_big = gpd.read_file(grid_file_big)\n",
    "grids_big.head()"
   ],
   "metadata": {
    "collapsed": false,
    "pycharm": {
     "name": "#%%\n"
    }
   }
  },
  {
   "cell_type": "markdown",
   "source": [
    "## 2. Model equation"
   ],
   "metadata": {
    "collapsed": false
   }
  },
  {
   "cell_type": "code",
   "execution_count": 114,
   "outputs": [],
   "source": [
    "def miu(density=None, r=None, f_home=None):\n",
    "    return density*r**2*f_home\n",
    "\n",
    "def para(f_max=None, T=None):\n",
    "    f_min = 1/T\n",
    "    return math.log(f_max / f_min)"
   ],
   "metadata": {
    "collapsed": false,
    "pycharm": {
     "name": "#%%\n"
    }
   }
  },
  {
   "cell_type": "code",
   "execution_count": 115,
   "outputs": [],
   "source": [
    "T = 1000\n",
    "f_max = 1\n",
    "area = 1\n",
    "r = 1\n",
    "f_home = 1\n",
    "par = para(f_max=f_max, T=T)\n",
    "grids.loc[:, 'miu'] = grids.loc[:, 'density'].apply(lambda x: miu(density=x, r=r, f_home=f_home))"
   ],
   "metadata": {
    "collapsed": false,
    "pycharm": {
     "name": "#%%\n"
    }
   }
  },
  {
   "cell_type": "code",
   "execution_count": 116,
   "outputs": [
    {
     "name": "stderr",
     "output_type": "stream",
     "text": [
      "100%|██████████| 5009/5009 [01:31<00:00, 55.01it/s]\n"
     ]
    }
   ],
   "source": [
    "tqdm.pandas()\n",
    "flows_within = grids.groupby('upper_zone').progress_apply(lambda x: workers.zone_flows(zones=x, area=area, para=par)).reset_index()"
   ],
   "metadata": {
    "collapsed": false,
    "pycharm": {
     "name": "#%%\n"
    }
   }
  },
  {
   "cell_type": "code",
   "execution_count": 117,
   "outputs": [
    {
     "data": {
      "text/plain": "   ozone  dzone       d_ij        v_ij\n0      1      1   0.000000         inf\n1      1      2  10.000000  1357.40124\n2      1      3  10.000000  1357.40124\n3      1      4  14.142136   678.70062\n4      1      5  20.000000   339.35031",
      "text/html": "<div>\n<style scoped>\n    .dataframe tbody tr th:only-of-type {\n        vertical-align: middle;\n    }\n\n    .dataframe tbody tr th {\n        vertical-align: top;\n    }\n\n    .dataframe thead th {\n        text-align: right;\n    }\n</style>\n<table border=\"1\" class=\"dataframe\">\n  <thead>\n    <tr style=\"text-align: right;\">\n      <th></th>\n      <th>ozone</th>\n      <th>dzone</th>\n      <th>d_ij</th>\n      <th>v_ij</th>\n    </tr>\n  </thead>\n  <tbody>\n    <tr>\n      <th>0</th>\n      <td>1</td>\n      <td>1</td>\n      <td>0.000000</td>\n      <td>inf</td>\n    </tr>\n    <tr>\n      <th>1</th>\n      <td>1</td>\n      <td>2</td>\n      <td>10.000000</td>\n      <td>1357.40124</td>\n    </tr>\n    <tr>\n      <th>2</th>\n      <td>1</td>\n      <td>3</td>\n      <td>10.000000</td>\n      <td>1357.40124</td>\n    </tr>\n    <tr>\n      <th>3</th>\n      <td>1</td>\n      <td>4</td>\n      <td>14.142136</td>\n      <td>678.70062</td>\n    </tr>\n    <tr>\n      <th>4</th>\n      <td>1</td>\n      <td>5</td>\n      <td>20.000000</td>\n      <td>339.35031</td>\n    </tr>\n  </tbody>\n</table>\n</div>"
     },
     "execution_count": 117,
     "metadata": {},
     "output_type": "execute_result"
    }
   ],
   "source": [
    "grids_big.loc[:, 'miu'] = grids_big.loc[:, 'density'].apply(lambda x: miu(density=x, r=10, f_home=f_home))\n",
    "flows_between = workers.zone_flows(zones=grids_big, area=100, para=par)\n",
    "flows_between.head()"
   ],
   "metadata": {
    "collapsed": false,
    "pycharm": {
     "name": "#%%\n"
    }
   }
  },
  {
   "cell_type": "code",
   "execution_count": 118,
   "outputs": [],
   "source": [
    "flows_within.replace([np.inf, -np.inf], 0, inplace=True)\n",
    "flows_between.replace([np.inf, -np.inf], 0, inplace=True)"
   ],
   "metadata": {
    "collapsed": false,
    "pycharm": {
     "name": "#%%\n"
    }
   }
  },
  {
   "cell_type": "markdown",
   "source": [
    "## 3. Aggregation"
   ],
   "metadata": {
    "collapsed": false,
    "pycharm": {
     "name": "#%% md\n"
    }
   }
  },
  {
   "cell_type": "code",
   "execution_count": 125,
   "outputs": [],
   "source": [
    "agg_level = 4"
   ],
   "metadata": {
    "collapsed": false,
    "pycharm": {
     "name": "#%%\n"
    }
   }
  },
  {
   "cell_type": "code",
   "execution_count": 56,
   "outputs": [],
   "source": [
    "grids_dict = dict(zip(grids.zone, grids.deso))\n",
    "grids_big_dict = dict(zip(grids_big.zone, grids_big.deso))"
   ],
   "metadata": {
    "collapsed": false,
    "pycharm": {
     "name": "#%%\n"
    }
   }
  },
  {
   "cell_type": "code",
   "execution_count": 126,
   "outputs": [],
   "source": [
    "flows_within.loc[:, 'ozone_deso'] = flows_within.loc[:, 'ozone'].map(grids_dict).apply(lambda x: x[:agg_level])\n",
    "flows_within.loc[:, 'dzone_deso'] = flows_within.loc[:, 'dzone'].map(grids_dict).apply(lambda x: x[:agg_level])\n",
    "flows_between.loc[:, 'ozone_deso'] = flows_between.loc[:, 'ozone'].map(grids_big_dict).apply(lambda x: x[:agg_level])\n",
    "flows_between.loc[:, 'dzone_deso'] = flows_between.loc[:, 'dzone'].map(grids_big_dict).apply(lambda x: x[:agg_level])"
   ],
   "metadata": {
    "collapsed": false,
    "pycharm": {
     "name": "#%%\n"
    }
   }
  },
  {
   "cell_type": "code",
   "execution_count": 133,
   "outputs": [
    {
     "data": {
      "text/plain": "  ozone_deso dzone_deso          v_ij\n0       0114       0114  6.043523e+06\n1       0114       0115  1.142625e+05\n2       0114       0117  2.958039e+03\n3       0114       0120  1.065879e+04\n4       0114       0123  8.920203e+05",
      "text/html": "<div>\n<style scoped>\n    .dataframe tbody tr th:only-of-type {\n        vertical-align: middle;\n    }\n\n    .dataframe tbody tr th {\n        vertical-align: top;\n    }\n\n    .dataframe thead th {\n        text-align: right;\n    }\n</style>\n<table border=\"1\" class=\"dataframe\">\n  <thead>\n    <tr style=\"text-align: right;\">\n      <th></th>\n      <th>ozone_deso</th>\n      <th>dzone_deso</th>\n      <th>v_ij</th>\n    </tr>\n  </thead>\n  <tbody>\n    <tr>\n      <th>0</th>\n      <td>0114</td>\n      <td>0114</td>\n      <td>6.043523e+06</td>\n    </tr>\n    <tr>\n      <th>1</th>\n      <td>0114</td>\n      <td>0115</td>\n      <td>1.142625e+05</td>\n    </tr>\n    <tr>\n      <th>2</th>\n      <td>0114</td>\n      <td>0117</td>\n      <td>2.958039e+03</td>\n    </tr>\n    <tr>\n      <th>3</th>\n      <td>0114</td>\n      <td>0120</td>\n      <td>1.065879e+04</td>\n    </tr>\n    <tr>\n      <th>4</th>\n      <td>0114</td>\n      <td>0123</td>\n      <td>8.920203e+05</td>\n    </tr>\n  </tbody>\n</table>\n</div>"
     },
     "execution_count": 133,
     "metadata": {},
     "output_type": "execute_result"
    }
   ],
   "source": [
    "flows_within_deso = flows_within.groupby(['ozone_deso', 'dzone_deso'])['v_ij'].sum().reset_index()\n",
    "flows_between_deso = flows_between.groupby(['ozone_deso', 'dzone_deso'])['v_ij'].sum().reset_index()\n",
    "flows_deso = pd.concat([flows_within_deso, flows_between_deso]).groupby(['ozone_deso', 'dzone_deso'])['v_ij'].sum().reset_index()\n",
    "flows_deso.head()"
   ],
   "metadata": {
    "collapsed": false,
    "pycharm": {
     "name": "#%%\n"
    }
   }
  },
  {
   "cell_type": "markdown",
   "source": [
    "## 4. Comaprison"
   ],
   "metadata": {
    "collapsed": false,
    "pycharm": {
     "name": "#%% md\n"
    }
   }
  },
  {
   "cell_type": "code",
   "execution_count": 129,
   "outputs": [
    {
     "name": "stdout",
     "output_type": "stream",
     "text": [
      "origin_main_deso  desti_main_deso\n",
      "0114A0010         0114C1170          182551.736842\n",
      "                  0163C1140          810292.236111\n",
      "                  0163C1170          182927.555556\n",
      "                  0163C1350           94404.100629\n",
      "                  0163C1380           23397.135431\n",
      "Name: trip_weight, dtype: float64\n"
     ]
    }
   ],
   "source": [
    "# Initialise an object for storing the ground-truth data including zones\n",
    "data_sweden = sweden.GroundTruthLoader()\n",
    "# Load zones\n",
    "data_sweden.load_zones()\n",
    "# Load ground-truth survey data into ODM form\n",
    "data_sweden.load_odm()"
   ],
   "metadata": {
    "collapsed": false,
    "pycharm": {
     "name": "#%%\n"
    }
   }
  },
  {
   "cell_type": "code",
   "execution_count": 130,
   "outputs": [
    {
     "data": {
      "text/plain": "       ozone      dzone  v_ij_gt\n0  0114A0010  0114A0010      0.0\n1  0114A0010  0114C1010      0.0\n2  0114A0010  0114C1020      0.0\n3  0114A0010  0114C1030      0.0\n4  0114A0010  0114C1040      0.0",
      "text/html": "<div>\n<style scoped>\n    .dataframe tbody tr th:only-of-type {\n        vertical-align: middle;\n    }\n\n    .dataframe tbody tr th {\n        vertical-align: top;\n    }\n\n    .dataframe thead th {\n        text-align: right;\n    }\n</style>\n<table border=\"1\" class=\"dataframe\">\n  <thead>\n    <tr style=\"text-align: right;\">\n      <th></th>\n      <th>ozone</th>\n      <th>dzone</th>\n      <th>v_ij_gt</th>\n    </tr>\n  </thead>\n  <tbody>\n    <tr>\n      <th>0</th>\n      <td>0114A0010</td>\n      <td>0114A0010</td>\n      <td>0.0</td>\n    </tr>\n    <tr>\n      <th>1</th>\n      <td>0114A0010</td>\n      <td>0114C1010</td>\n      <td>0.0</td>\n    </tr>\n    <tr>\n      <th>2</th>\n      <td>0114A0010</td>\n      <td>0114C1020</td>\n      <td>0.0</td>\n    </tr>\n    <tr>\n      <th>3</th>\n      <td>0114A0010</td>\n      <td>0114C1030</td>\n      <td>0.0</td>\n    </tr>\n    <tr>\n      <th>4</th>\n      <td>0114A0010</td>\n      <td>0114C1040</td>\n      <td>0.0</td>\n    </tr>\n  </tbody>\n</table>\n</div>"
     },
     "execution_count": 130,
     "metadata": {},
     "output_type": "execute_result"
    }
   ],
   "source": [
    "data_sweden.odm.head()"
   ],
   "metadata": {
    "collapsed": false,
    "pycharm": {
     "name": "#%%\n"
    }
   }
  },
  {
   "cell_type": "code",
   "execution_count": 131,
   "outputs": [
    {
     "data": {
      "text/plain": "  ozone_deso dzone_deso   v_ij_gt\n0       0114       0114  0.002373\n1       0114       0115  0.000010\n2       0114       0117  0.000027\n3       0114       0120  0.000000\n4       0114       0123  0.000023",
      "text/html": "<div>\n<style scoped>\n    .dataframe tbody tr th:only-of-type {\n        vertical-align: middle;\n    }\n\n    .dataframe tbody tr th {\n        vertical-align: top;\n    }\n\n    .dataframe thead th {\n        text-align: right;\n    }\n</style>\n<table border=\"1\" class=\"dataframe\">\n  <thead>\n    <tr style=\"text-align: right;\">\n      <th></th>\n      <th>ozone_deso</th>\n      <th>dzone_deso</th>\n      <th>v_ij_gt</th>\n    </tr>\n  </thead>\n  <tbody>\n    <tr>\n      <th>0</th>\n      <td>0114</td>\n      <td>0114</td>\n      <td>0.002373</td>\n    </tr>\n    <tr>\n      <th>1</th>\n      <td>0114</td>\n      <td>0115</td>\n      <td>0.000010</td>\n    </tr>\n    <tr>\n      <th>2</th>\n      <td>0114</td>\n      <td>0117</td>\n      <td>0.000027</td>\n    </tr>\n    <tr>\n      <th>3</th>\n      <td>0114</td>\n      <td>0120</td>\n      <td>0.000000</td>\n    </tr>\n    <tr>\n      <th>4</th>\n      <td>0114</td>\n      <td>0123</td>\n      <td>0.000023</td>\n    </tr>\n  </tbody>\n</table>\n</div>"
     },
     "execution_count": 131,
     "metadata": {},
     "output_type": "execute_result"
    }
   ],
   "source": [
    "data_sweden.odm.loc[:, 'ozone_deso'] = data_sweden.odm.loc[:, 'ozone'].apply(lambda x: x[:agg_level])\n",
    "data_sweden.odm.loc[:, 'dzone_deso'] = data_sweden.odm.loc[:, 'dzone'].apply(lambda x: x[:agg_level])\n",
    "flows_gt = data_sweden.odm.groupby(['ozone_deso', 'dzone_deso'])['v_ij_gt'].sum().reset_index()\n",
    "flows_gt.head()"
   ],
   "metadata": {
    "collapsed": false,
    "pycharm": {
     "name": "#%%\n"
    }
   }
  },
  {
   "cell_type": "code",
   "execution_count": 134,
   "outputs": [
    {
     "data": {
      "text/plain": "  ozone_deso dzone_deso   v_ij_gt      v_ij\n0       0114       0114  0.002433  0.004768\n1       0114       0115  0.000010  0.000090\n2       0114       0117  0.000027  0.000002\n3       0114       0123  0.000024  0.000704\n4       0114       0125  0.000001  0.000009",
      "text/html": "<div>\n<style scoped>\n    .dataframe tbody tr th:only-of-type {\n        vertical-align: middle;\n    }\n\n    .dataframe tbody tr th {\n        vertical-align: top;\n    }\n\n    .dataframe thead th {\n        text-align: right;\n    }\n</style>\n<table border=\"1\" class=\"dataframe\">\n  <thead>\n    <tr style=\"text-align: right;\">\n      <th></th>\n      <th>ozone_deso</th>\n      <th>dzone_deso</th>\n      <th>v_ij_gt</th>\n      <th>v_ij</th>\n    </tr>\n  </thead>\n  <tbody>\n    <tr>\n      <th>0</th>\n      <td>0114</td>\n      <td>0114</td>\n      <td>0.002433</td>\n      <td>0.004768</td>\n    </tr>\n    <tr>\n      <th>1</th>\n      <td>0114</td>\n      <td>0115</td>\n      <td>0.000010</td>\n      <td>0.000090</td>\n    </tr>\n    <tr>\n      <th>2</th>\n      <td>0114</td>\n      <td>0117</td>\n      <td>0.000027</td>\n      <td>0.000002</td>\n    </tr>\n    <tr>\n      <th>3</th>\n      <td>0114</td>\n      <td>0123</td>\n      <td>0.000024</td>\n      <td>0.000704</td>\n    </tr>\n    <tr>\n      <th>4</th>\n      <td>0114</td>\n      <td>0125</td>\n      <td>0.000001</td>\n      <td>0.000009</td>\n    </tr>\n  </tbody>\n</table>\n</div>"
     },
     "execution_count": 134,
     "metadata": {},
     "output_type": "execute_result"
    }
   ],
   "source": [
    "flows_comparison = flows_gt.loc[flows_gt['v_ij_gt'] != 0, :].merge(flows_deso, on=['ozone_deso', 'dzone_deso'], how='inner')\n",
    "flows_comparison.loc[:, 'v_ij_gt'] = flows_comparison.loc[:, 'v_ij_gt'] / flows_comparison.loc[:, 'v_ij_gt'].sum()\n",
    "flows_comparison.loc[:, 'v_ij'] = flows_comparison.loc[:, 'v_ij'] / flows_comparison.loc[:, 'v_ij'].sum()\n",
    "flows_comparison.head()"
   ],
   "metadata": {
    "collapsed": false,
    "pycharm": {
     "name": "#%%\n"
    }
   }
  },
  {
   "cell_type": "code",
   "execution_count": 135,
   "outputs": [
    {
     "data": {
      "text/plain": "(1e-07, 0.1)"
     },
     "execution_count": 135,
     "metadata": {},
     "output_type": "execute_result"
    },
    {
     "data": {
      "text/plain": "<Figure size 504x504 with 1 Axes>",
      "image/png": "[encoded data removed]"
     },
     "metadata": {
      "needs_background": "light"
     },
     "output_type": "display_data"
    }
   ],
   "source": [
    "plt.figure(figsize=(7, 7))\n",
    "plt.scatter(flows_comparison.loc[:, 'v_ij_gt'], flows_comparison.loc[:, 'v_ij'], s=1)\n",
    "plt.xscale('log')\n",
    "plt.yscale('log')\n",
    "plt.xlim(0.0000001, 0.1)\n",
    "plt.ylim(0.0000001, 0.1)"
   ],
   "metadata": {
    "collapsed": false,
    "pycharm": {
     "name": "#%%\n"
    }
   }
  },
  {
   "cell_type": "code",
   "execution_count": 136,
   "outputs": [
    {
     "data": {
      "text/plain": "0.7943198665531686"
     },
     "execution_count": 136,
     "metadata": {},
     "output_type": "execute_result"
    }
   ],
   "source": [
    "flows_comparison.loc[:, 'v_ij_min'] = flows_comparison.apply(lambda row: min(row['v_ij_gt'], row['v_ij']), axis=1)\n",
    "SSI = 2 * flows_comparison.loc[:, 'v_ij_min'].sum() / \\\n",
    "      (flows_comparison.loc[:, 'v_ij_gt'].sum() + flows_comparison.loc[:, 'v_ij'].sum())\n",
    "SSI"
   ],
   "metadata": {
    "collapsed": false,
    "pycharm": {
     "name": "#%%\n"
    }
   }
  },
  {
   "cell_type": "markdown",
   "source": [
    "## 5. Test model.py that implements the above exploration\n",
    "The below can be run directly skipping previous cells."
   ],
   "metadata": {
    "collapsed": false,
    "pycharm": {
     "name": "#%% md\n"
    }
   }
  },
  {
   "cell_type": "code",
   "execution_count": 14,
   "outputs": [],
   "source": [
    "import lib.model as model\n",
    "import geopandas as gpd\n",
    "import pandas as pd\n",
    "\n",
    "grid_file = 'D:/FlowsGeneration/results/grids_sweden/grids_1km_density_deso_with_10km_upper_grids.shp'\n",
    "grid_file_big = 'D:/FlowsGeneration/results/grids_sweden/grids_10km.shp'\n",
    "zone_file = 'D:/FlowsGeneration/dbs/sweden/zones/DeSO/DeSO_2018_v2.shp'"
   ],
   "metadata": {
    "collapsed": false,
    "pycharm": {
     "name": "#%%\n"
    }
   }
  },
  {
   "cell_type": "code",
   "execution_count": 5,
   "outputs": [],
   "source": [
    "grids = gpd.read_file(grid_file)\n",
    "grids_upper = gpd.read_file(grid_file_big)"
   ],
   "metadata": {
    "collapsed": false,
    "pycharm": {
     "name": "#%%\n"
    }
   }
  },
  {
   "cell_type": "code",
   "execution_count": 10,
   "outputs": [
    {
     "name": "stderr",
     "output_type": "stream",
     "text": [
      "  0%|          | 0/5009 [00:00<?, ?it/s]"
     ]
    },
    {
     "name": "stdout",
     "output_type": "stream",
     "text": [
      "Generating flows within upper zones...\n"
     ]
    },
    {
     "name": "stderr",
     "output_type": "stream",
     "text": [
      "100%|██████████| 5009/5009 [01:48<00:00, 46.33it/s]\n"
     ]
    },
    {
     "name": "stdout",
     "output_type": "stream",
     "text": [
      "Generating flows between upper zones...\n",
      "Set diagonal to zero.\n"
     ]
    },
    {
     "data": {
      "text/plain": "   ozone  dzone      d_ij  D_ij_data  D_ij_sim        v_ij  grid_type\n0     18     18  0.000000   0.000000  0.000000    0.000000          1\n1     18      8  2.236068   1.639817  1.457747   43.436840          1\n2     18     20  2.000000   1.648406  1.484936   54.296050          1\n3     18     19  1.000000   1.960368  1.740077  217.184198          1\n4     18      1  4.472136   1.534267  1.338410   10.859210          1",
      "text/html": "<div>\n<style scoped>\n    .dataframe tbody tr th:only-of-type {\n        vertical-align: middle;\n    }\n\n    .dataframe tbody tr th {\n        vertical-align: top;\n    }\n\n    .dataframe thead th {\n        text-align: right;\n    }\n</style>\n<table border=\"1\" class=\"dataframe\">\n  <thead>\n    <tr style=\"text-align: right;\">\n      <th></th>\n      <th>ozone</th>\n      <th>dzone</th>\n      <th>d_ij</th>\n      <th>D_ij_data</th>\n      <th>D_ij_sim</th>\n      <th>v_ij</th>\n      <th>grid_type</th>\n    </tr>\n  </thead>\n  <tbody>\n    <tr>\n      <th>0</th>\n      <td>18</td>\n      <td>18</td>\n      <td>0.000000</td>\n      <td>0.000000</td>\n      <td>0.000000</td>\n      <td>0.000000</td>\n      <td>1</td>\n    </tr>\n    <tr>\n      <th>1</th>\n      <td>18</td>\n      <td>8</td>\n      <td>2.236068</td>\n      <td>1.639817</td>\n      <td>1.457747</td>\n      <td>43.436840</td>\n      <td>1</td>\n    </tr>\n    <tr>\n      <th>2</th>\n      <td>18</td>\n      <td>20</td>\n      <td>2.000000</td>\n      <td>1.648406</td>\n      <td>1.484936</td>\n      <td>54.296050</td>\n      <td>1</td>\n    </tr>\n    <tr>\n      <th>3</th>\n      <td>18</td>\n      <td>19</td>\n      <td>1.000000</td>\n      <td>1.960368</td>\n      <td>1.740077</td>\n      <td>217.184198</td>\n      <td>1</td>\n    </tr>\n    <tr>\n      <th>4</th>\n      <td>18</td>\n      <td>1</td>\n      <td>4.472136</td>\n      <td>1.534267</td>\n      <td>1.338410</td>\n      <td>10.859210</td>\n      <td>1</td>\n    </tr>\n  </tbody>\n</table>\n</div>"
     },
     "execution_count": 10,
     "metadata": {},
     "output_type": "execute_result"
    }
   ],
   "source": [
    "df_odm = model.odm(grids=grids, grids_upper=grids_upper, grid_size=(1, 10))\n",
    "df_odm.head()"
   ],
   "metadata": {
    "collapsed": false,
    "pycharm": {
     "name": "#%%\n"
    }
   }
  },
  {
   "cell_type": "code",
   "execution_count": 11,
   "outputs": [],
   "source": [
    "df_odm.to_csv('dbs/flows_1km_10km_sweden.csv.gz', compression='gzip', index=False)"
   ],
   "metadata": {
    "collapsed": false,
    "pycharm": {
     "name": "#%%\n"
    }
   }
  },
  {
   "cell_type": "markdown",
   "source": [
    "### Note: D_ij_gt\n",
    "D_ij_gt is the weighted mean travel distance from the travel survey representing the average travel distance for all the trips generated\n",
    "between certain deso zones. See the new `lib/sweden.py` for more information."
   ],
   "metadata": {
    "collapsed": false,
    "pycharm": {
     "name": "#%% md\n"
    }
   }
  },
  {
   "cell_type": "code",
   "execution_count": 17,
   "outputs": [
    {
     "data": {
      "text/plain": "       ozone      dzone        v_ij_gt  D_ij_gt\n0  0114A0010  0114C1170  182551.736842      9.0\n1  0114A0010  0163C1140  810292.236111     15.0\n2  0114A0010  0163C1170  182927.555556     10.0\n3  0114A0010  0163C1350   94404.100629      9.0\n4  0114A0010  0163C1380   23397.135431     20.0",
      "text/html": "<div>\n<style scoped>\n    .dataframe tbody tr th:only-of-type {\n        vertical-align: middle;\n    }\n\n    .dataframe tbody tr th {\n        vertical-align: top;\n    }\n\n    .dataframe thead th {\n        text-align: right;\n    }\n</style>\n<table border=\"1\" class=\"dataframe\">\n  <thead>\n    <tr style=\"text-align: right;\">\n      <th></th>\n      <th>ozone</th>\n      <th>dzone</th>\n      <th>v_ij_gt</th>\n      <th>D_ij_gt</th>\n    </tr>\n  </thead>\n  <tbody>\n    <tr>\n      <th>0</th>\n      <td>0114A0010</td>\n      <td>0114C1170</td>\n      <td>182551.736842</td>\n      <td>9.0</td>\n    </tr>\n    <tr>\n      <th>1</th>\n      <td>0114A0010</td>\n      <td>0163C1140</td>\n      <td>810292.236111</td>\n      <td>15.0</td>\n    </tr>\n    <tr>\n      <th>2</th>\n      <td>0114A0010</td>\n      <td>0163C1170</td>\n      <td>182927.555556</td>\n      <td>10.0</td>\n    </tr>\n    <tr>\n      <th>3</th>\n      <td>0114A0010</td>\n      <td>0163C1350</td>\n      <td>94404.100629</td>\n      <td>9.0</td>\n    </tr>\n    <tr>\n      <th>4</th>\n      <td>0114A0010</td>\n      <td>0163C1380</td>\n      <td>23397.135431</td>\n      <td>20.0</td>\n    </tr>\n  </tbody>\n</table>\n</div>"
     },
     "execution_count": 17,
     "metadata": {},
     "output_type": "execute_result"
    }
   ],
   "source": [
    "model_evaluation = model.ModelEvaluation()\n",
    "model_evaluation.load_gt()\n",
    "model_evaluation.gt.odm.head()"
   ],
   "metadata": {
    "collapsed": false,
    "pycharm": {
     "name": "#%%\n"
    }
   }
  },
  {
   "cell_type": "markdown",
   "source": [
    "Check SSI vs. aggregation level"
   ],
   "metadata": {
    "collapsed": false,
    "pycharm": {
     "name": "#%% md\n"
    }
   }
  },
  {
   "cell_type": "code",
   "execution_count": 18,
   "outputs": [],
   "source": [
    "model_performance = []\n",
    "for lv in range(2, 8):\n",
    "    df_odm_agg = model.odm_aggregation(df_odm=df_odm, grids=grids, grids_upper=grids_upper, grid_size=(1, 10), agg_level=lv)\n",
    "    model_evaluation.gt_aggregation(agg_level=lv)\n",
    "    ssi = model_evaluation.comparison_ssi(df_odm_agg=df_odm_agg)\n",
    "    model_performance.append((lv, ssi))"
   ],
   "metadata": {
    "collapsed": false,
    "pycharm": {
     "name": "#%%\n"
    }
   }
  },
  {
   "cell_type": "code",
   "execution_count": 19,
   "outputs": [
    {
     "data": {
      "text/plain": "   agg_level       SSI\n0          2  0.834008\n1          3  0.742368\n2          4  0.755809\n3          5  0.600663\n4          6  0.569411\n5          7  0.491007",
      "text/html": "<div>\n<style scoped>\n    .dataframe tbody tr th:only-of-type {\n        vertical-align: middle;\n    }\n\n    .dataframe tbody tr th {\n        vertical-align: top;\n    }\n\n    .dataframe thead th {\n        text-align: right;\n    }\n</style>\n<table border=\"1\" class=\"dataframe\">\n  <thead>\n    <tr style=\"text-align: right;\">\n      <th></th>\n      <th>agg_level</th>\n      <th>SSI</th>\n    </tr>\n  </thead>\n  <tbody>\n    <tr>\n      <th>0</th>\n      <td>2</td>\n      <td>0.834008</td>\n    </tr>\n    <tr>\n      <th>1</th>\n      <td>3</td>\n      <td>0.742368</td>\n    </tr>\n    <tr>\n      <th>2</th>\n      <td>4</td>\n      <td>0.755809</td>\n    </tr>\n    <tr>\n      <th>3</th>\n      <td>5</td>\n      <td>0.600663</td>\n    </tr>\n    <tr>\n      <th>4</th>\n      <td>6</td>\n      <td>0.569411</td>\n    </tr>\n    <tr>\n      <th>5</th>\n      <td>7</td>\n      <td>0.491007</td>\n    </tr>\n  </tbody>\n</table>\n</div>"
     },
     "execution_count": 19,
     "metadata": {},
     "output_type": "execute_result"
    }
   ],
   "source": [
    "df_performance = pd.DataFrame(model_performance, columns=['agg_level', 'SSI'])\n",
    "df_performance"
   ],
   "metadata": {
    "collapsed": false,
    "pycharm": {
     "name": "#%%\n"
    }
   }
  },
  {
   "cell_type": "code",
   "execution_count": null,
   "outputs": [],
   "source": [],
   "metadata": {
    "collapsed": false,
    "pycharm": {
     "name": "#%%\n"
    }
   }
  }
 ],
 "metadata": {
  "kernelspec": {
   "display_name": "Python 3",
   "language": "python",
   "name": "python3"
  },
  "language_info": {
   "codemirror_mode": {
    "name": "ipython",
    "version": 2
   },
   "file_extension": ".py",
   "mimetype": "text/x-python",
   "name": "python",
   "nbconvert_exporter": "python",
   "pygments_lexer": "ipython2",
   "version": "2.7.6"
  }
 },
 "nbformat": 4,
 "nbformat_minor": 0
}